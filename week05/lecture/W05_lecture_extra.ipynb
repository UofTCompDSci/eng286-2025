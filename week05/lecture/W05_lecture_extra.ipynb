{
 "cells": [
  {
   "cell_type": "markdown",
   "id": "6448e4d2",
   "metadata": {},
   "source": [
    "## 👸🤴 Digression, Part I: Extracting Quotations with Regex\n",
    "\n",
    "We probably won't have time to cover this in lecture, but it's potentially fun for those of you who are interested.\n",
    "\n",
    "### Note: None of this Digression (Part 1 or Part 2) will be on the midterm or the exam. It is not something we require you to know. It's just for fun.\n",
    "\n",
    "For this task, we will need some cool new Regex characters:\n",
    "* `.`: \"any character except a newline\"\n",
    "\n",
    "And this \"quantifier\" which you add to a regular expression to signal\n",
    "* `*`: \"zero or more occurences of the thing immediately to my left\"\n",
    "\n",
    "So that the expression\n",
    "* `.*` means \"zero or more characters other than a newline\"\n",
    "\n",
    "To catch one-line quotations, one could try...\n",
    "* `\".*\"`: a `\"` character, followed by zero or more occurences of any character except a newline, followed by a `\"` character \n",
    "\n",
    "This actually won't work on *The Sign of the Four* — becuase it's from Project Gutenberg, and PG files use “curly quotes.” **Yes: `\"` and `“` and `”` are all actually different characters**!\n",
    "\n",
    "Note that we need to use “curly quotes” for Project Gutenberg files. And we got *The Sign of the Four* from PG. So we need:\n",
    "* `“.*”`: a `“` character, followed by zero or more occurences of any character except a newline, followed by a `”` character \n",
    "\n",
    "We need one added complexity: the searches are \"greedy\" (they grab as much as they can), so they sometimes add narration in between the opening and closing quotes. We can fix this by specifying that if you see a close-quote character, immediately stop. The regular expression we need is:\n",
    "\n",
    "* `“[^”]*”` — where the `[^”]` means \"any character except a close quote\""
   ]
  },
  {
   "cell_type": "markdown",
   "id": "bed47b8a",
   "metadata": {},
   "source": [
    "## 👸🤴 Digression, Part II: Creating a Literary Mashup\n",
    "\n",
    "### Note: Like the Part I of this Digression, this will not be on the midterm or the exam.\n",
    "\n",
    "Now, let's say you want to do something really fun with these quotations you just extracted... like, say, stick them into *Pride and Prejudice* so that all of Austen's dialogue is replaced with Conan Doyle's!\n",
    "\n",
    "Here's how I'm going to do it:\n",
    "* Load up P&P\n",
    "* Replace all the dialogue in P&P with the phrase \"QUOTE_HERE\" so that I know where to stick my replacement quotations.\n",
    "* Then iterate through my list of SOT4 quotations, popping them into P&P one by one"
   ]
  },
  {
   "cell_type": "code",
   "execution_count": null,
   "id": "51164dcc",
   "metadata": {},
   "outputs": [],
   "source": [
    "# This loads P&P, a copy of which I have conveniently placed in the same folder as this notebook.\n",
    "\n",
    "pandp = open(\"pride_prejudice.txt\", encoding=\"utf-8\").read()\n",
    "\n",
    "print(pandp[470:773])"
   ]
  },
  {
   "cell_type": "code",
   "execution_count": null,
   "id": "e8ab6187",
   "metadata": {},
   "outputs": [],
   "source": [
    "# This replaces all dialogue in P&P with the phrase \"QUOTE_HERE\", \n",
    "# creating targets I can then replace one-by-one with the SOT4 quotations\n",
    "\n",
    "pride_of_the_four = re.sub(\"“[^”]*”\", \"QUOTE_HERE\", pandp)"
   ]
  },
  {
   "cell_type": "code",
   "execution_count": null,
   "id": "aa660184",
   "metadata": {},
   "outputs": [],
   "source": [
    "print(pride_of_the_four[470:650])"
   ]
  },
  {
   "cell_type": "code",
   "execution_count": null,
   "id": "9ea0697b",
   "metadata": {},
   "outputs": [],
   "source": [
    "## Now I will iterate through the list of SOT4 quotations, using each one to replace one \"QUOTE_HERE\" in pride_of_the_four\n",
    "\n",
    "for quotation in sot4_quotations:\n",
    "    pride_of_the_four = re.sub(\"QUOTE.HERE\", quotation, pride_of_the_four, 1) # the \"1\" at the end of this line specifies to only make one replacement for each item in sot4_quotations"
   ]
  },
  {
   "cell_type": "code",
   "execution_count": null,
   "id": "1f0108cb",
   "metadata": {},
   "outputs": [],
   "source": [
    "# This is the amusing result...\n",
    "\n",
    "print(pride_of_the_four[470:778])"
   ]
  },
  {
   "cell_type": "code",
   "execution_count": null,
   "id": "feaa5067",
   "metadata": {},
   "outputs": [],
   "source": [
    "# Below we will learn how to write files. But here's a little preview! This line saves our amazing new mashup novel as \"pride-of-the-four.txt\"\n",
    "\n",
    "open(\"pride-of-the-four.txt\", mode=\"w\", encoding=\"utf-8\").write(pride_of_the_four)"
   ]
  }
 ],
 "metadata": {
  "language_info": {
   "name": "python"
  }
 },
 "nbformat": 4,
 "nbformat_minor": 5
}
