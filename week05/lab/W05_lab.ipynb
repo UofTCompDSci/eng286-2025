{
 "cells": [
  {
   "cell_type": "markdown",
   "id": "35808484",
   "metadata": {},
   "source": [
    "# Week 5 Lab\n",
    "\n",
    "## Instructions\n",
    "This lab is primarily a review of some of the Python programming concepts we have covered so far.\n",
    "\n",
    "For each task, write in the provided cell.\n",
    "\n",
    "## Due date\n",
    "Labs are due each week on Friday at 10pm."
   ]
  },
  {
   "cell_type": "markdown",
   "id": "7526a324",
   "metadata": {},
   "source": [
    "## Task 1: Read text from a file.\n",
    "\n",
    "Complete the code below so that `text` contains the path to a text file to open. The main goal of this task is to concatenate strings together.\n",
    "\n",
    "### More information about files and paths\n",
    "Most of the time when we are doing any kind of data analysis, we will need to read data from a file.  The main kind of file we have seen so far is a \"plain text\" file that contains, you guessed it, text. What distinguished plain text files from files like PDFs or MS Word files is that plain text files only contain text; they don't contain any formatting information.  This makes them a lot easier to use.\n",
    "\n",
    "The code below also make use of the fact that files are often organized and stored in different folders.  If we want to open a file stored in a different folder, then we need to use the full \"path\" to the file. As an analogy, if I'm in the Bahen building and I want to find an office that is also in the Bahen building, all I need to know is the office number (the file name).  But if I want to find our classroom, then I need to know that it is in the Student Union building (the folder) in room B120 (the file name)."
   ]
  },
  {
   "cell_type": "code",
   "execution_count": null,
   "id": "db69f0a5",
   "metadata": {},
   "outputs": [],
   "source": [
    "# The code below will run with an error until you complete the task.\n",
    "\n",
    "folder_path = 'sot4chaps'\n",
    "path_separator = '/'\n",
    "chap1_file = '01 The Science of Deduction.txt'\n",
    "\n",
    "# Replace ... in the line below with an expression that will \n",
    "# join the three strings together into one string with no\n",
    "# space between the strings.\n",
    "full_chap1_path = ...\n",
    "\n",
    "# Now we can open the file and read its contents:\n",
    "text = open(full_chap1_path, encoding='utf-8').read()\n",
    "\n",
    "# Check that text contains values that make sense.\n",
    "print(text[:300])"
   ]
  },
  {
   "cell_type": "markdown",
   "id": "0ebce0b7",
   "metadata": {},
   "source": [
    "## Task 2: Remove periods and set all the text to lower case\n",
    "\n",
    "First, let's start with a couple of string methods: `.replace()` and `.lower()`.\n",
    "\n",
    "1. Create a variable named `text_lower` that contains the contents of `text` but all in lower case.\n",
    "2. Create a variable named `no_dots` that contains the contents of `text_lower` but uses `.replace()` to replace all the periods in `text_lower` with spaces (`' '`).\n"
   ]
  },
  {
   "cell_type": "code",
   "execution_count": null,
   "id": "2e51efbf",
   "metadata": {},
   "outputs": [],
   "source": [
    "#Write your code here\n",
    "\n",
    "\n",
    "# check your work - Why are we printing a slice of the string rather than\n",
    "# either the whole string or a much shorter slice of the string?\n",
    "print(text_lower[:300])\n",
    "print(no_dots[:300])"
   ]
  },
  {
   "cell_type": "markdown",
   "id": "5da553a0",
   "metadata": {},
   "source": [
    "## Task 3: Creating lists\n",
    "\n",
    "Let's review some basic list concepts.\n",
    "\n",
    "1. Create an empty list and assign it to a variable called `empty_list`\n",
    "2. Create a list that has three integers in it. It doesn't matter what the values of the integers are.  Store this list in a variable called `number_list`.\n",
    "3. In one line using list indexing, add the three elments of `number_list` together and store the result in a variable called `list_sum`.\n"
   ]
  },
  {
   "cell_type": "code",
   "execution_count": null,
   "id": "b0e728a6",
   "metadata": {},
   "outputs": [],
   "source": [
    "# Write your code here\n",
    "\n",
    "\n",
    "# Print the variables to check your work"
   ]
  },
  {
   "cell_type": "markdown",
   "id": "d0635d50",
   "metadata": {},
   "source": [
    "## Task 4: Iterate over a list of files\n",
    "\n",
    "First, run the code cell below that iterates over a list of text files in a folder, and see that it prints the path to each of the files.\n",
    "\n",
    "1. Modify the code below to open each file and store its contents into a variable. You won't need to change any of the provided lines of code, but you may need to add code before, inside, and/or after the loop.\n",
    "\n",
    "2. Append the length of each chapter to the list `chapter_lengths`. Note that was are asking for the number of characters, not the number of words.\n",
    "\n",
    "3. Store the length of the shortest chapter in a variable called `shortest`.\n",
    "You may find that coming up with a strategy to identify the smallest value in a list takes a bit of thought. We have done one example in lecture, and you are welcome to copy that, but try tracing it through by hand to see why it works.\n",
    "\n",
    "Note that you will need additional variables other than the two mentioned above. There are also multiple ways to implement these steps. You might end up with only one loop, or you might choose to write a second loop to iterate over `chapter_lengths`.  It is highly recommended that you write comments in your code, because describing the code in English will help cement your understanding."
   ]
  },
  {
   "cell_type": "code",
   "execution_count": null,
   "id": "1f229f9b",
   "metadata": {},
   "outputs": [],
   "source": [
    "from pathlib import Path\n",
    "folder_path = 'sot4chaps'\n",
    "\n",
    "\n",
    "for file in sorted(Path(folder_path).glob('*.txt')):\n",
    "    print(file)\n",
    "\n",
    "\n",
    "# check your work\n"
   ]
  },
  {
   "cell_type": "markdown",
   "id": "b8c19403",
   "metadata": {},
   "source": [
    "## Task 5: Debugging\n",
    "\n",
    "The code below contains three errors. Run the code and read the error messages. Continue to debug the code until it runs properly and the last line prints out six lines of \"age analysis.\" This is great practice as you will inevitably encounter bugs in your code and being able to read the error messages will give you hints as to where the bug is, which is important especially if your code is long!"
   ]
  },
  {
   "cell_type": "code",
   "execution_count": null,
   "id": "b4600d03",
   "metadata": {},
   "outputs": [],
   "source": [
    "age_list = [41, 40, 22, 13, 80, 1000]\n",
    "\n",
    "age_analysis = \"\"\n",
    "\n",
    "for age in age_list\n",
    "    analysis = f\"Someone who is {age} is \"\n",
    "    if age > 41:\n",
    "        analysis = analysis + \"hopelessly out of touch with today's world.\"\n",
    "    elif age = 41:\n",
    "        analysis = analysis + \"the perfect age and doesn't need to worry about anything.\"\n",
    "    elif age > 15 and age < 41:\n",
    "    analysis = analysis + \"young and perfectly in tune with their age.\"\n",
    "    else:\n",
    "        analysis = analysis + \"too young to know anything at all and should get back in their crib.\"\n",
    "    age_analysis = age_analysis + analysis + \"\\n\"\n",
    "\n",
    "print(age_analysis)"
   ]
  },
  {
   "cell_type": "markdown",
   "id": "c53d2e86",
   "metadata": {},
   "source": [
    "## Task 6: Reflection and Planning\n",
    "\n",
    "Your Short Assignment on TTRs is due in a few weeks. At this point, what are your thoughts about the experiment you will devise? What texts are you thinking of looking at, and what do you think TTRs might reveal about them? How (if at all) will your experiment be informed by the course readings? "
   ]
  },
  {
   "cell_type": "markdown",
   "id": "559aa2e1",
   "metadata": {},
   "source": []
  },
  {
   "cell_type": "markdown",
   "id": "e29031fe",
   "metadata": {},
   "source": [
    "## Marking Rubric\n",
    "- 2 points for the quality of the short answer question\n",
    "- 2 points for the coding questions\n",
    "\n",
    "The coding questions will be autograded in MarkUs and your mark for these questions are fully determined by the autograder.  For example if it says that 2 out of 3 tests passed successfully, your mark on the question will be 66%.\n",
    "\n",
    "When you submit your work to MarkUs, you can then *run the autograder* on your submission to see how many tests pass, and therefore what grade you'll receive on that submission.\n",
    "You can submit and run the autograder as many times as you like before the homework due date to improve your mark.\n",
    "\n",
    "**Note**: after the due date, Markus will use your *most recent submission before the due date* for the actual grading.\n",
    "\n",
    "## How to Submit\n",
    "\n",
    "1. Do the assignment by editing this notebook, writing in the designated cells.\n",
    "\n",
    "2. Download the completed notebook. Save it as `W05_lab.ipynb`.\n",
    "\n",
    "3. Log in to [MarkUs](https://markus.teach.cs.toronto.edu/markus/main/login_remote_auth) (Tip: Control/Command-click to open it in a new tab so you can still see these instructions.)\n",
    "\n",
    "4. Choose your course (ENG286).\n",
    "\n",
    "5. Click the `lab5: Lab 5` assessment.\n",
    "\n",
    "6. Click the `Submissions` tab. The new page is `Lab 5: Submissions`.\n",
    "\n",
    "7. Click button `Submit File` on the right.\n",
    "\n",
    "8. In the popup window that opens, click button `Browse`/`Choose Files` and select the `W05_lab.ipynb` file that you downloaded."
   ]
  }
 ],
 "metadata": {
  "kernelspec": {
   "display_name": "base",
   "language": "python",
   "name": "python3"
  },
  "language_info": {
   "codemirror_mode": {
    "name": "ipython",
    "version": 3
   },
   "file_extension": ".py",
   "mimetype": "text/x-python",
   "name": "python",
   "nbconvert_exporter": "python",
   "pygments_lexer": "ipython3",
   "version": "3.12.2"
  }
 },
 "nbformat": 4,
 "nbformat_minor": 5
}
