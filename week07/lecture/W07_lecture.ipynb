{
 "cells": [
  {
   "cell_type": "markdown",
   "id": "a80f9d66",
   "metadata": {
    "slideshow": {
     "slide_type": "slide"
    }
   },
   "source": [
    "# Week 7: Spreadsheets, Introduction to Pandas, Working with the NYT Best Seller list"
   ]
  },
  {
   "cell_type": "markdown",
   "id": "4044632e",
   "metadata": {
    "slideshow": {
     "slide_type": "slide"
    }
   },
   "source": [
    "\n",
    "\n",
    "But first, CSV files ...\n",
    "\n",
    "Here are the first four lines of ttr-standardized.csv from our last lecture:\n",
    "\n",
    "```\n",
    "Text,Types,Tokens,TTR\n",
    "1897-McKinley,290,560,51.79\n",
    "1901-McKinley,303,560,54.11\n",
    "1905-Roosevelt,250,560,44.64\n",
    "```"
   ]
  },
  {
   "cell_type": "code",
   "execution_count": null,
   "id": "25a03af7",
   "metadata": {
    "slideshow": {
     "slide_type": "slide"
    }
   },
   "outputs": [],
   "source": [
    "ttr_file = open(\"ttr-standardized.csv\", encoding=\"utf-8\")\n",
    "\n",
    "ttr_file.readline()\n",
    "\n",
    "for line in ttr_file.readlines():\n",
    "    line = line.strip()\n",
    "    columns = line.split(\",\")\n",
    "    print(f\"{columns[0]} has a TTR of {columns[-1]}\")"
   ]
  },
  {
   "cell_type": "markdown",
   "id": "fe3f4f90",
   "metadata": {
    "slideshow": {
     "slide_type": "slide"
    }
   },
   "source": [
    "# What Is (Are?) Pandas 🐼🐼\n",
    "\n",
    "* A python library for working with tabular data\n",
    "* The most-used library for data science in Python"
   ]
  },
  {
   "cell_type": "code",
   "execution_count": null,
   "id": "eadf7087",
   "metadata": {},
   "outputs": [],
   "source": [
    "import pandas as pd"
   ]
  },
  {
   "cell_type": "code",
   "execution_count": null,
   "id": "bd963315",
   "metadata": {},
   "outputs": [],
   "source": [
    "# reading csv files is way easier in pandas!\n",
    "nyt_df = pd.read_csv('nyt_full.tsv', sep=\"\\t\")"
   ]
  },
  {
   "cell_type": "markdown",
   "id": "8f90ad41",
   "metadata": {
    "slideshow": {
     "slide_type": "slide"
    }
   },
   "source": [
    "Pandas creates a new **data type**: a **DataFrame**, "
   ]
  },
  {
   "cell_type": "code",
   "execution_count": null,
   "id": "55a50c62",
   "metadata": {},
   "outputs": [],
   "source": [
    "type(nyt_df)"
   ]
  },
  {
   "cell_type": "markdown",
   "id": "a204579e",
   "metadata": {
    "slideshow": {
     "slide_type": "slide"
    }
   },
   "source": [
    "Let's have a look at what's inside..."
   ]
  },
  {
   "cell_type": "code",
   "execution_count": null,
   "id": "ac79a195",
   "metadata": {},
   "outputs": [],
   "source": [
    "nyt_df"
   ]
  },
  {
   "cell_type": "markdown",
   "id": "90939c96",
   "metadata": {
    "slideshow": {
     "slide_type": "slide"
    }
   },
   "source": [
    "# Display the First `x` Rows\n",
    "\n",
    "If you just want to look at the first `x` number of rows, you can use the `.head()` method, as below."
   ]
  },
  {
   "cell_type": "code",
   "execution_count": null,
   "id": "d6cda25f",
   "metadata": {},
   "outputs": [],
   "source": [
    "nyt_df.head(10)"
   ]
  },
  {
   "cell_type": "markdown",
   "id": "49046eee",
   "metadata": {
    "slideshow": {
     "slide_type": "slide"
    }
   },
   "source": [
    "# Display a Random Sample\n",
    "\n",
    "If you want to look at a random sample of `x` rows, you can use the `.sample()` method."
   ]
  },
  {
   "cell_type": "code",
   "execution_count": null,
   "id": "1541a3e9",
   "metadata": {},
   "outputs": [],
   "source": [
    "nyt_df.sample(10)"
   ]
  },
  {
   "cell_type": "markdown",
   "id": "73c545b5",
   "metadata": {
    "slideshow": {
     "slide_type": "slide"
    }
   },
   "source": [
    "# Get Info\n",
    "\n",
    "If you'd like to see basic information about what's in your DataFrame, you can use the `.info()` method."
   ]
  },
  {
   "cell_type": "code",
   "execution_count": null,
   "id": "60c2c58c",
   "metadata": {},
   "outputs": [],
   "source": [
    "nyt_df.info()"
   ]
  },
  {
   "cell_type": "markdown",
   "id": "e9fbb4ae",
   "metadata": {
    "slideshow": {
     "slide_type": "slide"
    }
   },
   "source": [
    "# Calculate Summary Statistics"
   ]
  },
  {
   "cell_type": "code",
   "execution_count": null,
   "id": "77c8f381",
   "metadata": {
    "scrolled": true
   },
   "outputs": [],
   "source": [
    "nyt_df.describe(include=\"all\")"
   ]
  },
  {
   "cell_type": "markdown",
   "id": "b1c7bddf",
   "metadata": {
    "slideshow": {
     "slide_type": "slide"
    }
   },
   "source": [
    "## Digression: How we can describe and summarise (numeric) data statistically? (in 10 min)\n",
    "\n",
    "- Central tendency measures (and scales/levels of measurement): mean, median, mode\n",
    "- Spread measures (standard deviation, percentiles & percentile ranges) <- not today, but important\n",
    "- Key abstractions of stats: probability distribution and data generation process <- if have time\n"
   ]
  },
  {
   "cell_type": "markdown",
   "id": "03eeb70b",
   "metadata": {
    "slideshow": {
     "slide_type": "slide"
    }
   },
   "source": [
    "Let's look at an example. Suppose we have salaries for a two different job categories: A and B. Can we find out something about the salaries?  To do that we will talk about mean, median, and mode.\n",
    "\n",
    "* Mean - arithmetic mean -- aka average\n",
    "    * Add up all the numbers and divide by the number of elements\n",
    "* Median - sort the data, choose the value in the center\n",
    "* Mode - which value is the most frequent\n"
   ]
  },
  {
   "cell_type": "code",
   "execution_count": null,
   "id": "c00b8eb6",
   "metadata": {
    "slideshow": {
     "slide_type": "slide"
    }
   },
   "outputs": [],
   "source": [
    "# a library that gives us some useful stats functions\n",
    "import statistics\n",
    "\n",
    "salaries_A = [75, 78, 75, 80, 75, 80, 75, 85, 75, 70]\n",
    "salaries_B = [55, 60, 55, 45, 50, 55, 100, 85, 45, 55]\n",
    "\n",
    "# First let's combine the two lists and look into all the salaries\n",
    "all_salaries = salaries_A + salaries_B\n",
    "\n",
    "print(sorted(all_salaries))\n",
    "\n",
    "print(f\"Mean salary is {statistics.mean(all_salaries)}\")\n",
    "print(f\"Median salary is {statistics.median(all_salaries)}\")\n",
    "print(f\"The mode is {statistics.mode(all_salaries)}\")\n"
   ]
  },
  {
   "cell_type": "markdown",
   "id": "78c9980e",
   "metadata": {
    "slideshow": {
     "slide_type": "slide"
    }
   },
   "source": [
    "Now let's look at each salary category separately.  Which one do you thing will have a higher mean?"
   ]
  },
  {
   "cell_type": "code",
   "execution_count": null,
   "id": "77215b5c",
   "metadata": {},
   "outputs": [],
   "source": [
    "print(f\"Category A: {sorted(salaries_A)}\")\n",
    "print(f\"Mean salary is {statistics.mean(salaries_A)}\")\n",
    "print(f\"Median salary is {statistics.median(salaries_A)}\")\n",
    "print(f\"The mode is {statistics.mode(salaries_A)}\")\n",
    "\n",
    "print(\"\")\n",
    "print(f\"Category B: {sorted(salaries_B)}\")\n",
    "print(f\"Mean salary is {statistics.mean(salaries_B)}\")\n",
    "print(f\"Median salary is {statistics.median(salaries_B)}\")\n",
    "print(f\"The mode is {statistics.mode(salaries_B)}\")"
   ]
  },
  {
   "cell_type": "markdown",
   "id": "1cc581e2",
   "metadata": {
    "slideshow": {
     "slide_type": "slide"
    }
   },
   "source": [
    "\n",
    "# Selecting Columns\n",
    "\n",
    "To select only a single column of a DataFrame: name of the Pandas DataFrame, then a `[`,  name of the column between quotation marks, then a `]`."
   ]
  },
  {
   "cell_type": "code",
   "execution_count": null,
   "id": "b5a7c321",
   "metadata": {},
   "outputs": [],
   "source": [
    "nyt_df['author']"
   ]
  },
  {
   "cell_type": "markdown",
   "id": "6701c0be",
   "metadata": {
    "slideshow": {
     "slide_type": "slide"
    }
   },
   "source": [
    "This output is another special Pandas data type: a **`Series`.** You can think of a Pandas Series as like a spreadsheet with a single column... or as something very much like a **`list`** in Python."
   ]
  },
  {
   "cell_type": "code",
   "execution_count": null,
   "id": "41c9343c",
   "metadata": {},
   "outputs": [],
   "source": [
    "type(nyt_df['author'])"
   ]
  },
  {
   "cell_type": "markdown",
   "id": "d58fcb8f",
   "metadata": {
    "slideshow": {
     "slide_type": "slide"
    }
   },
   "source": [
    "What if we want a dataframe and not a series?\n",
    "\n",
    "Use a list of of column names bewteen `[]`"
   ]
  },
  {
   "cell_type": "code",
   "execution_count": null,
   "id": "2e184ed1",
   "metadata": {
    "scrolled": true
   },
   "outputs": [],
   "source": [
    "nyt_df[['author']]"
   ]
  },
  {
   "cell_type": "code",
   "execution_count": null,
   "id": "38225c66",
   "metadata": {
    "slideshow": {
     "slide_type": "slide"
    }
   },
   "outputs": [],
   "source": [
    "type(nyt_df[['author']])"
   ]
  },
  {
   "cell_type": "markdown",
   "id": "c35bf390",
   "metadata": {
    "slideshow": {
     "slide_type": "slide"
    }
   },
   "source": [
    "We can select **multiple** columns, and display them as a DataFrame, by again passing in a **list of strings**, each corresponding to a column name. "
   ]
  },
  {
   "cell_type": "code",
   "execution_count": null,
   "id": "9f8318f1",
   "metadata": {},
   "outputs": [],
   "source": [
    "nyt_df[['week', 'rank', 'author', 'title']]"
   ]
  },
  {
   "cell_type": "markdown",
   "id": "dc99185b",
   "metadata": {
    "slideshow": {
     "slide_type": "slide"
    }
   },
   "source": [
    "# Counting Values\n",
    "\n",
    "Let's do some fun stuff with Pandas!!! \n",
    "\n",
    "The `.value_counts()` method counts the number of **unique items** in a particular column.\n",
    "\n",
    "**What exactly is this showing us**?"
   ]
  },
  {
   "cell_type": "code",
   "execution_count": null,
   "id": "b54cdbb1",
   "metadata": {},
   "outputs": [],
   "source": [
    "nyt_df['title'].value_counts()"
   ]
  },
  {
   "cell_type": "markdown",
   "id": "236895a9",
   "metadata": {
    "slideshow": {
     "slide_type": "slide"
    }
   },
   "source": [
    "This does the same for the \"author\" column. **What exactly is it showing us**?"
   ]
  },
  {
   "cell_type": "code",
   "execution_count": null,
   "id": "bbdd25b5",
   "metadata": {},
   "outputs": [],
   "source": [
    "nyt_df['author'].value_counts()"
   ]
  },
  {
   "cell_type": "markdown",
   "id": "85864d3c",
   "metadata": {
    "slideshow": {
     "slide_type": "slide"
    }
   },
   "source": [
    "The outputs above are those `Series` objects again. I mentioned above that `Series` are a lot like `list`s, and indeed we can slice them just like `list`s if we want to see a particular number of values..."
   ]
  },
  {
   "cell_type": "code",
   "execution_count": null,
   "id": "ae7c7a8a",
   "metadata": {},
   "outputs": [],
   "source": [
    "nyt_df['author'].value_counts()[:20]"
   ]
  },
  {
   "cell_type": "markdown",
   "id": "82969ff6",
   "metadata": {
    "slideshow": {
     "slide_type": "slide"
    }
   },
   "source": [
    "Let's take a quick step back and review how we can chain these together. "
   ]
  },
  {
   "cell_type": "code",
   "execution_count": null,
   "id": "6759d480",
   "metadata": {},
   "outputs": [],
   "source": [
    "# In one line:\n",
    "top_20_authors = nyt_df['author'].value_counts()[:20]\n",
    "\n",
    "# select the author column as a Series\n",
    "\n",
    "\n",
    "# create a series that counts the number of times each author appears\n",
    "\n",
    "\n",
    "# slice the series to get the top 20.\n",
    "\n",
    "top_20_authors"
   ]
  },
  {
   "cell_type": "code",
   "execution_count": null,
   "id": "d4c64093",
   "metadata": {
    "scrolled": true,
    "slideshow": {
     "slide_type": "slide"
    }
   },
   "outputs": [],
   "source": [
    "# Which titles have been on the NYT best sellers list the most?\n",
    "nyt_df['title'].value_counts()[:20]"
   ]
  },
  {
   "cell_type": "markdown",
   "id": "57dfe3e3",
   "metadata": {
    "slideshow": {
     "slide_type": "slide"
    }
   },
   "source": [
    "The below line of code contains the average number of times that a given NYT Best Seller appears in the list. Can you find what that number is? Can you explain how this line of code works? Do you understand why we've stacked `.value_counts()` and `.describe()`?"
   ]
  },
  {
   "cell_type": "code",
   "execution_count": null,
   "id": "443a5ca3",
   "metadata": {},
   "outputs": [],
   "source": [
    "nyt_df['title'].value_counts().describe()"
   ]
  },
  {
   "cell_type": "markdown",
   "id": "bc9be38e",
   "metadata": {
    "slideshow": {
     "slide_type": "slide"
    }
   },
   "source": [
    "# Make and Save Plots\n",
    "\n",
    "Pandas is also very handy for making **plots**, aka visualizations of data. All you need to do is add the `.plot()` and some parameters. Here's the simplest `.plot()` command I can think of, which specifies that we want a **bar plot**.\n",
    "\n",
    "The types of plots in Pandas are are:\n",
    "\n",
    "- `bar` or `barh` for bar plots\n",
    "- `hist` for histogram\n",
    "- `box` for boxplot\n",
    "- `kde` or `density` for density plots\n",
    "- `area` for area plots\n",
    "- `scatter` for scatter plots\n",
    "- `hexbin` for hexagonal bin plots\n",
    "- `pie` for pie plots"
   ]
  },
  {
   "cell_type": "code",
   "execution_count": null,
   "id": "aeff011d",
   "metadata": {
    "slideshow": {
     "slide_type": "slide"
    }
   },
   "outputs": [],
   "source": [
    "all_titles = nyt_df['title'].value_counts()\n",
    "titles_plot = all_titles.plot(kind=\"bar\")\n",
    "\n",
    "titles_plot.tick_params(\n",
    "    axis='x',          # changes apply to the x-axis\n",
    "    which='both',      # both major and minor ticks are affected\n",
    "    bottom=False,      # ticks along the bottom edge are off\n",
    "    top=False,         # ticks along the top edge are off\n",
    "    labelbottom=False  # labels along the bottom edge are off\n",
    ")\n",
    "titles_plot.axvline(x=7144*.25, color='red', linestyle='--', linewidth=1, label='25%')\n",
    "titles_plot.axvline(x=7144*.5, color='red', linestyle='--', linewidth=1, label='50%')\n",
    "titles_plot.axvline(x=7144*.75, color='red', linestyle='--', linewidth=1, label='75%')\n",
    "titles_plot.axhline(y=8.45, color='green', linestyle='--', linewidth=1, label='mean')\n",
    "\n",
    "\n"
   ]
  },
  {
   "cell_type": "code",
   "execution_count": null,
   "id": "07deeeba",
   "metadata": {
    "scrolled": true,
    "slideshow": {
     "slide_type": "slide"
    }
   },
   "outputs": [],
   "source": [
    "top_ten_authors = nyt_df['author'].value_counts()[:10]\n",
    "print(top_ten_authors.plot(kind=\"bar\"))"
   ]
  },
  {
   "cell_type": "markdown",
   "id": "35560902",
   "metadata": {
    "slideshow": {
     "slide_type": "slide"
    }
   },
   "source": [
    "### Now, we're going to immediately get into the habit of **tucking our plots into variables**. \n",
    "\n",
    "### This is how we're asking you to make a plot in your homework, so take note!!\n"
   ]
  },
  {
   "cell_type": "markdown",
   "id": "76059a70",
   "metadata": {
    "slideshow": {
     "slide_type": "slide"
    }
   },
   "source": [
    "Okay, let's add a title to that plot, using the `title` parameter (and a `\\n` \"newline\" character!)"
   ]
  },
  {
   "cell_type": "code",
   "execution_count": null,
   "id": "dcaf70fc",
   "metadata": {
    "scrolled": true
   },
   "outputs": [],
   "source": [
    "top_ten_authors = nyt_df['author'].value_counts()[:10]\n",
    "plot = top_ten_authors.plot(kind=\"bar\", title='NYT Best Sellers:\\nTen Authors Who Appear Most Frequently')\n",
    "\n",
    "print(plot)"
   ]
  },
  {
   "cell_type": "markdown",
   "id": "414663fa",
   "metadata": {
    "slideshow": {
     "slide_type": "slide"
    }
   },
   "source": [
    "And let's try making two different kinds of plots.\n",
    "\n",
    "First, a `barh` or **horizontal bar**..."
   ]
  },
  {
   "cell_type": "code",
   "execution_count": null,
   "id": "77caaf6f",
   "metadata": {},
   "outputs": [],
   "source": [
    "top_ten_authors = nyt_df['author'].value_counts()[:10]\n",
    "plot = top_ten_authors.plot(kind=\"barh\", title='NYT Best Sellers:\\nTen Authors Who Appear Most Frequently')\n",
    "print(plot)"
   ]
  },
  {
   "cell_type": "markdown",
   "id": "7f930f7c",
   "metadata": {
    "slideshow": {
     "slide_type": "slide"
    }
   },
   "source": [
    "Here is a `pie` plot — which could potentially be misconstrued in this context! **Why is this a potentially misleading plot?**"
   ]
  },
  {
   "cell_type": "code",
   "execution_count": null,
   "id": "1dfb1c38",
   "metadata": {
    "scrolled": true
   },
   "outputs": [],
   "source": [
    "top_ten_authors = nyt_df['author'].value_counts()[:10]\n",
    "plot = top_ten_authors.plot(kind=\"pie\", title='NYT Best Sellers:\\nTen Authors Who Appear Most Frequently')\n",
    "print(plot)"
   ]
  },
  {
   "cell_type": "markdown",
   "id": "342c23a1",
   "metadata": {
    "slideshow": {
     "slide_type": "slide"
    }
   },
   "source": [
    "Now, if we wanted to **save** our pretty plot as a file, we could do so by applying the `.figure.savefig()` method to the variable containing our plot, and providing a filename as the argument."
   ]
  },
  {
   "cell_type": "code",
   "execution_count": null,
   "id": "fa495c5a",
   "metadata": {
    "slideshow": {
     "slide_type": "slide"
    }
   },
   "outputs": [],
   "source": [
    "plot = nyt_df['author'].value_counts()[:10].plot(kind='bar', title='NYT Best Sellers:\\nTen Authors Who Appear Most Frequently')\n",
    "plot.figure.savefig('NYT-top10authors-barchart.png')"
   ]
  },
  {
   "cell_type": "markdown",
   "id": "ba66bf15",
   "metadata": {
    "slideshow": {
     "slide_type": "slide"
    }
   },
   "source": [
    "# Filtering Data\n",
    "\n",
    "Let's say we wanted to produce a DataFrame object that ONLY included rows in which Toni Morrison is the author. We could do so with the following line of code:"
   ]
  },
  {
   "cell_type": "code",
   "execution_count": null,
   "id": "edddef48",
   "metadata": {
    "scrolled": true
   },
   "outputs": [],
   "source": [
    "nyt_df[nyt_df['author'] == 'Toni Morrison']"
   ]
  },
  {
   "cell_type": "markdown",
   "id": "a3087860",
   "metadata": {
    "slideshow": {
     "slide_type": "slide"
    }
   },
   "source": [
    "Let's dig into this a bit more.  We want a boolean expression to select elements of a column with a particular value. Here is such an expression.  But note that it creates a boolean Series."
   ]
  },
  {
   "cell_type": "code",
   "execution_count": null,
   "id": "ba80ef5c",
   "metadata": {
    "scrolled": false
   },
   "outputs": [],
   "source": [
    "nyt_df['author'] == 'Toni Morrison'"
   ]
  },
  {
   "cell_type": "code",
   "execution_count": null,
   "id": "50a9cc41",
   "metadata": {},
   "outputs": [],
   "source": [
    "# Let's put the series into its own variable \n",
    "\n",
    "morrison_filter = nyt_df['author'] == 'Toni Morrison'\n",
    "type(morrison_filter)"
   ]
  },
  {
   "cell_type": "markdown",
   "id": "e1353524",
   "metadata": {
    "slideshow": {
     "slide_type": "slide"
    }
   },
   "source": [
    "Pandas has built-in functionality whereby, if \"subset\" or \"slice\" a DataFrame with a **boolean Series** of the same length as that DataFrame, it will produce a new DataFrame that only contains the rows marked `True` in the boolean Series.\n",
    "\n",
    "The below line of code is absolutely equivalent to `nyt_df[nyt_df['author'] == 'Toni Morrison']` encountered earlier — just a bit easier to read and understand!"
   ]
  },
  {
   "cell_type": "code",
   "execution_count": null,
   "id": "77c107d5",
   "metadata": {},
   "outputs": [],
   "source": [
    "nyt_df[morrison_filter]"
   ]
  },
  {
   "cell_type": "markdown",
   "id": "ba54f1fe",
   "metadata": {
    "slideshow": {
     "slide_type": "slide"
    }
   },
   "source": [
    "Let's capture that output -— that 115 row x 6 column DataFrame -- in a variable. The below lines of code do exactly the same thing."
   ]
  },
  {
   "cell_type": "code",
   "execution_count": null,
   "id": "15d0f9c2",
   "metadata": {},
   "outputs": [],
   "source": [
    "morrison_nyt = nyt_df[nyt_df['author'] == 'Toni Morrison']\n",
    "morrison_nyt = nyt_df[morrison_filter]"
   ]
  },
  {
   "cell_type": "markdown",
   "id": "2be7a9fd",
   "metadata": {
    "slideshow": {
     "slide_type": "slide"
    }
   },
   "source": [
    "Let's have a look at that variable..."
   ]
  },
  {
   "cell_type": "code",
   "execution_count": null,
   "id": "d6fa5f64",
   "metadata": {},
   "outputs": [],
   "source": [
    "morrison_nyt"
   ]
  },
  {
   "cell_type": "markdown",
   "id": "cc83a856",
   "metadata": {
    "slideshow": {
     "slide_type": "slide"
    }
   },
   "source": [
    "Can you think of the line of code you would need to use to display all the rows in the dataset for novels titled \"BELOVED\"? (As you've noticed, book titles in this dataset are in ALL CAPS)"
   ]
  },
  {
   "cell_type": "code",
   "execution_count": null,
   "id": "5cfe51ec",
   "metadata": {},
   "outputs": [],
   "source": [
    "nyt_df[nyt_df['title'] == 'BELOVED']"
   ]
  },
  {
   "cell_type": "markdown",
   "id": "87b75178",
   "metadata": {
    "slideshow": {
     "slide_type": "slide"
    }
   },
   "source": [
    "How about a line of code that could create a new DataFrame that only contains titles that achieved the rank of #1 on the best seller list?"
   ]
  },
  {
   "cell_type": "code",
   "execution_count": null,
   "id": "5d88b79f",
   "metadata": {},
   "outputs": [],
   "source": [
    "nyt_df[nyt_df['rank'] == 1]"
   ]
  }
 ],
 "metadata": {
  "celltoolbar": "Slideshow",
  "kernelspec": {
   "display_name": "Python 3 (ipykernel)",
   "language": "python",
   "name": "python3"
  },
  "language_info": {
   "codemirror_mode": {
    "name": "ipython",
    "version": 3
   },
   "file_extension": ".py",
   "mimetype": "text/x-python",
   "name": "python",
   "nbconvert_exporter": "python",
   "pygments_lexer": "ipython3",
   "version": "3.12.11"
  }
 },
 "nbformat": 4,
 "nbformat_minor": 5
}
