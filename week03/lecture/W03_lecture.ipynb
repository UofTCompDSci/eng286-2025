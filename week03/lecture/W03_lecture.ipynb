{
 "cells": [
  {
   "cell_type": "markdown",
   "id": "2bce3b09",
   "metadata": {
    "slideshow": {
     "slide_type": "slide"
    }
   },
   "source": [
    "\n",
    "# Week 3: Strings, Lists, and Files\n",
    "\n",
    "In this section of the lecture, we explore some new methods (pun) and a new data type in Python.\n",
    "\n",
    "- [string methods](https://melaniewalsh.github.io/Intro-Cultural-Analytics/02-Python/06-String-Methods.html)\n",
    "- [lists and loops](https://melaniewalsh.github.io/Intro-Cultural-Analytics/02-Python/09-Lists-Loops-Part1.html)\n",
    "- [files and character encoding](https://melaniewalsh.github.io/Intro-Cultural-Analytics/02-Python/07-Files-Character-Encoding.html)\n",
    "\n",
    "## Lab \n",
    "\n",
    "As always, your weekly lab is due Friday at 10pm. We recommend attempting the lab before the tutorial on Thursday so that you can get some help completing it if necessary."
   ]
  },
  {
   "cell_type": "markdown",
   "id": "1546b995",
   "metadata": {
    "slideshow": {
     "slide_type": "slide"
    }
   },
   "source": [
    "# A Bit of Review\n",
    "\n",
    "- variables\n",
    "- data types\n",
    "- operators"
   ]
  },
  {
   "cell_type": "code",
   "execution_count": null,
   "id": "b4511430",
   "metadata": {
    "slideshow": {
     "slide_type": "slide"
    }
   },
   "outputs": [],
   "source": [
    "# How do you explain these potentially surprising reults?\n",
    "\n",
    "print(3 + 3)\n",
    "print(\"3\" + \"3\")"
   ]
  },
  {
   "cell_type": "code",
   "execution_count": null,
   "id": "8afa6d6c",
   "metadata": {},
   "outputs": [],
   "source": [
    "name = \"Walsh\"\n",
    "print(name * 3)\n",
    "print(name * 3.0)"
   ]
  },
  {
   "cell_type": "code",
   "execution_count": null,
   "id": "982d2b12",
   "metadata": {
    "slideshow": {
     "slide_type": "slide"
    }
   },
   "outputs": [],
   "source": [
    "print(\"True\" + \"False\")\n",
    "print(True + False)"
   ]
  },
  {
   "cell_type": "code",
   "execution_count": null,
   "id": "6530bbb3",
   "metadata": {},
   "outputs": [],
   "source": [
    "True * 3.14159"
   ]
  },
  {
   "cell_type": "code",
   "execution_count": null,
   "id": "d5efcb7a",
   "metadata": {},
   "outputs": [],
   "source": [
    "True / False"
   ]
  },
  {
   "cell_type": "markdown",
   "id": "56cb1c6a",
   "metadata": {},
   "source": [
    "What are the numeric values for `True` and `False`?"
   ]
  },
  {
   "cell_type": "markdown",
   "id": "37d600e3",
   "metadata": {
    "slideshow": {
     "slide_type": "slide"
    }
   },
   "source": [
    "# Our Coding Task Today\n",
    "\n",
    "Today we're going to learn how to do a big part of our Type/Token Ratio experiment: \n",
    "* Load a text\n",
    "* Break that text into words (**\"tokenize\"** it)\n",
    "* Count the number of words (or \"tokens\") in the text\n",
    "\n",
    "Let's start by doing this task manually. "
   ]
  },
  {
   "cell_type": "markdown",
   "id": "320333c3",
   "metadata": {
    "slideshow": {
     "slide_type": "slide"
    }
   },
   "source": [
    "Our sample text will be a poem from [*The Policeman's Beard is Half Constructed*](https://q.utoronto.ca/courses/400278/files/38406481?wrap=1):\n",
    "\n",
    "> Awareness is like consciousness. Soul is like spirit. But soft is not like hard and weak is not like strong. This is called philosophy or a world-view.\n",
    "\n",
    "How many words are in this text? "
   ]
  },
  {
   "cell_type": "markdown",
   "id": "6108a7db",
   "metadata": {
    "slideshow": {
     "slide_type": "slide"
    }
   },
   "source": [
    "# 3a: Indexing and Slicing strings"
   ]
  },
  {
   "cell_type": "code",
   "execution_count": null,
   "id": "739ec358",
   "metadata": {
    "slideshow": {
     "slide_type": "slide"
    }
   },
   "outputs": [],
   "source": [
    "\n",
    "text = \"Awareness is like consciousness. Soul is like spirit. But soft is not like hard and weak is not like strong. This is called philosophy or a world-view.\""
   ]
  },
  {
   "cell_type": "code",
   "execution_count": null,
   "id": "37c0b345",
   "metadata": {},
   "outputs": [],
   "source": [
    "type(text)"
   ]
  },
  {
   "cell_type": "code",
   "execution_count": null,
   "id": "8dd03e39",
   "metadata": {},
   "outputs": [],
   "source": [
    "text"
   ]
  },
  {
   "cell_type": "code",
   "execution_count": null,
   "id": "89fad998",
   "metadata": {},
   "outputs": [],
   "source": [
    "print(text)"
   ]
  },
  {
   "cell_type": "markdown",
   "id": "8c63d127",
   "metadata": {
    "slideshow": {
     "slide_type": "slide"
    }
   },
   "source": [
    "## Indexing\n",
    "\n",
    "Let's start with the below. It will display \"item number one\" from the `text` variable. What do you expect to see?"
   ]
  },
  {
   "cell_type": "code",
   "execution_count": null,
   "id": "2da42856",
   "metadata": {},
   "outputs": [],
   "source": [
    "text"
   ]
  },
  {
   "cell_type": "code",
   "execution_count": null,
   "id": "0d1260e6",
   "metadata": {
    "scrolled": true
   },
   "outputs": [],
   "source": [
    "text[1]"
   ]
  },
  {
   "cell_type": "markdown",
   "id": "7ce94bb4",
   "metadata": {
    "slideshow": {
     "slide_type": "slide"
    }
   },
   "source": [
    "This would be a good place to stop and make sure you that you understand some key features of strings and indexing.\n",
    "- A string is ...\n",
    "- Indexing means ...\n",
    "- We start counting sequences at ...  (0 or 1?)"
   ]
  },
  {
   "cell_type": "markdown",
   "id": "bf85aeb9",
   "metadata": {
    "slideshow": {
     "slide_type": "slide"
    }
   },
   "source": [
    "## Slicing\n",
    "\n",
    "If you want to pull multiple characters out of a string, that's called **slicing**, and the syntax is as follows: \n",
    "\n",
    "> `string[start:stop:step]`, where `start`, `stop`, and `step` are \"index positions\" in the string you want to slice. \n"
   ]
  },
  {
   "cell_type": "code",
   "execution_count": null,
   "id": "04b7fcfa",
   "metadata": {},
   "outputs": [],
   "source": [
    "# What if we want to extract the first word \"Awareness\"\n",
    "text[0:8]"
   ]
  },
  {
   "cell_type": "markdown",
   "id": "b57ccd0a",
   "metadata": {
    "slideshow": {
     "slide_type": "slide"
    }
   },
   "source": [
    "What other fun things can we do with slicing? "
   ]
  },
  {
   "cell_type": "code",
   "execution_count": null,
   "id": "da46c62c",
   "metadata": {},
   "outputs": [],
   "source": [
    "text[9:]"
   ]
  },
  {
   "cell_type": "markdown",
   "id": "8b44b28e",
   "metadata": {
    "slideshow": {
     "slide_type": "slide"
    }
   },
   "source": [
    "# 3b: String methods\n",
    "\n",
    "Let's now meet **methods**, which are a *special kind of function* that only belong to certain **data types** and which are written out differently than functions.\n",
    "\n",
    "The syntax for methods is as follows: \n",
    "\n",
    "> `data.method(argument)`\n",
    "\n",
    "As you can see, they look quite a bit like functions, but they come **after** the data that you want to perform some action on, and they are \"attached\" to that data, as it were, by a period (`.`). "
   ]
  },
  {
   "cell_type": "markdown",
   "id": "911e6fe3",
   "metadata": {
    "slideshow": {
     "slide_type": "slide"
    }
   },
   "source": [
    "Python has lots of cool string-specific methods. Let's explore a few:\n",
    "* `.lower()`: make lowercase\n",
    "* `.upper()`: make uppercase\n",
    "* `.title()`: make title case\n",
    "* `.replace()`: replace some text with other text (like \"Find and Replace\" in Word)\n",
    "* `.split()`: break a string into separate units, such as words\n",
    "\n",
    "Let's try out the make-it-lower case method, `.lower()`"
   ]
  },
  {
   "cell_type": "code",
   "execution_count": null,
   "id": "cbe5a244",
   "metadata": {},
   "outputs": [],
   "source": [
    "\"AAAAAAAAAAAAAAAAAAAAAH\".lower()"
   ]
  },
  {
   "cell_type": "code",
   "execution_count": null,
   "id": "fcf7e031",
   "metadata": {},
   "outputs": [],
   "source": []
  },
  {
   "cell_type": "markdown",
   "id": "a972f83a",
   "metadata": {
    "slideshow": {
     "slide_type": "slide"
    }
   },
   "source": [
    "If we **wanted** to replace the value of `text` with a fully lowercased version of itself, how would we do it?"
   ]
  },
  {
   "cell_type": "code",
   "execution_count": null,
   "id": "90276786",
   "metadata": {},
   "outputs": [],
   "source": [
    "#\n",
    "text = text.lower()\n",
    "text"
   ]
  },
  {
   "cell_type": "markdown",
   "id": "8ed60bcb",
   "metadata": {
    "slideshow": {
     "slide_type": "slide"
    }
   },
   "source": [
    "Below is a look at the `.replace()` method, which as you can see takes **two arguments**, the text to replace with something else, and the \"something else\" to replace it with.\n",
    "\n",
    "`string.replace(\"text to remove\", \"text to insert in its place\")`\n",
    "\n",
    "Note that the **two arguments** are separated by commas."
   ]
  },
  {
   "cell_type": "code",
   "execution_count": null,
   "id": "ea63d98c",
   "metadata": {},
   "outputs": [],
   "source": [
    "\"Now approaching Ossington... Ossington Station\".replace(\"Ossington\", \"Christie\")"
   ]
  },
  {
   "cell_type": "markdown",
   "id": "26701c31",
   "metadata": {
    "slideshow": {
     "slide_type": "slide"
    }
   },
   "source": [
    "You can use `names_of_string_variables` rather than `\"directly inputted text\"` at any position here. For example,"
   ]
  },
  {
   "cell_type": "code",
   "execution_count": null,
   "id": "86d1ba42",
   "metadata": {},
   "outputs": [],
   "source": [
    "analogy = \"consciousness\"\n",
    "new_analogy = \"???\"\n",
    "\n",
    "text.replace(analogy, new_analogy)"
   ]
  },
  {
   "cell_type": "markdown",
   "id": "680ca907",
   "metadata": {
    "slideshow": {
     "slide_type": "slide"
    }
   },
   "source": [
    "As exciting as the above undoubtedly is, perhaps the most exciting string method for the purposes of our TTR experiments is \n",
    "\n",
    "> `.split()`\n",
    "\n",
    "— which takes a string and breaks it up into chunks.\n",
    "\n",
    "`.split()` doesn't **require** an argument. What does it do below?"
   ]
  },
  {
   "cell_type": "code",
   "execution_count": null,
   "id": "645161c4",
   "metadata": {},
   "outputs": [],
   "source": [
    "\"April is the cruelest month, breeding / Lilacs out of the dead land\".split()"
   ]
  },
  {
   "cell_type": "markdown",
   "id": "76a6231f",
   "metadata": {
    "slideshow": {
     "slide_type": "slide"
    }
   },
   "source": [
    "The default, argument-less version of `split()` **\"splits on whitespace.\"** That is to say, any time it encounters any number of consecutive characters that Python (or the people who made Python) interpret as \"empty,\" it sharpens its fangs cuts them out. \n",
    "\n",
    "Whitespace characters include:\n",
    "* \"` `\": spaces (yes, spaces are characters!)\n",
    "* \"`\\t`\": tabs (yes, tabs are characters, and are represented as `\\t`)\n",
    "* \"`\\n`\": newlines or \"Return\"s (yes, \"Return\" or \"Enter\" is a character, and is represented as `\\n` — among other ways!)"
   ]
  },
  {
   "cell_type": "markdown",
   "id": "4cb5fe67",
   "metadata": {
    "slideshow": {
     "slide_type": "slide"
    }
   },
   "source": [
    "But `.split()` will **accept** an argument, if we want to split a string up by something other than whitespace.\n",
    "\n",
    "For instance, we could split Eliot up by \"`/`\" to divide this poem into lines..."
   ]
  },
  {
   "cell_type": "code",
   "execution_count": null,
   "id": "b455d92e",
   "metadata": {},
   "outputs": [],
   "source": [
    "waste_land = \"April is the cruelest month, breeding / Lilacs out of the dead land\"\n",
    "\n",
    "waste_land.split(\"/\")"
   ]
  },
  {
   "cell_type": "code",
   "execution_count": null,
   "id": "91cbf32e",
   "metadata": {
    "scrolled": true,
    "slideshow": {
     "slide_type": "slide"
    }
   },
   "outputs": [],
   "source": [
    "text.split()"
   ]
  },
  {
   "cell_type": "code",
   "execution_count": null,
   "id": "b7e11590",
   "metadata": {},
   "outputs": [],
   "source": [
    "text_words = text.split()"
   ]
  },
  {
   "cell_type": "code",
   "execution_count": null,
   "id": "f89f5d34",
   "metadata": {
    "slideshow": {
     "slide_type": "slide"
    }
   },
   "outputs": [],
   "source": [
    "print(text_words)"
   ]
  },
  {
   "cell_type": "code",
   "execution_count": null,
   "id": "afedb09a",
   "metadata": {},
   "outputs": [],
   "source": [
    "type(text_words)"
   ]
  },
  {
   "cell_type": "markdown",
   "id": "ee97f1eb",
   "metadata": {
    "slideshow": {
     "slide_type": "slide"
    }
   },
   "source": [
    "# 3c: Lists!\n",
    "\n",
    "Lists have names, and they contain multiple items.\n",
    "**Grocery List**:\n",
    " * Chocolate bar\n",
    " * Chips\n",
    " * Chocolate milk\n",
    " * Another bag of chips\n",
    "\n",
    "If I wanted to create a Python equivalent of the above list, I might do something like..."
   ]
  },
  {
   "cell_type": "code",
   "execution_count": null,
   "id": "d7aa3040",
   "metadata": {},
   "outputs": [],
   "source": [
    "grocery_list = [\"Chocolate bar\", \"Chips\", \"Chocolate milk\", \"Another bag of chips\"]"
   ]
  },
  {
   "cell_type": "code",
   "execution_count": null,
   "id": "601e47e2",
   "metadata": {
    "slideshow": {
     "slide_type": "slide"
    }
   },
   "outputs": [],
   "source": [
    "grocery_list"
   ]
  },
  {
   "cell_type": "code",
   "execution_count": null,
   "id": "89aac326",
   "metadata": {},
   "outputs": [],
   "source": [
    "print(grocery_list)"
   ]
  },
  {
   "cell_type": "code",
   "execution_count": null,
   "id": "896f6811",
   "metadata": {},
   "outputs": [],
   "source": [
    "type(grocery_list)"
   ]
  },
  {
   "cell_type": "code",
   "execution_count": null,
   "id": "4e39cb32",
   "metadata": {},
   "outputs": [],
   "source": [
    "other_list = [2, \"chocolate bar\", 3.14159, True]"
   ]
  },
  {
   "cell_type": "markdown",
   "id": "f22cb9da",
   "metadata": {
    "slideshow": {
     "slide_type": "slide"
    }
   },
   "source": [
    "## Indexing and Slicing Lists\n",
    "\n",
    "If you want to pull out an individual item or **element** from a list, you can **index** it just like a string."
   ]
  },
  {
   "cell_type": "code",
   "execution_count": null,
   "id": "5408f333",
   "metadata": {},
   "outputs": [],
   "source": [
    "grocery_list[0]"
   ]
  },
  {
   "cell_type": "markdown",
   "id": "042e835b",
   "metadata": {},
   "source": [
    "What do you think will happen when we do the below?"
   ]
  },
  {
   "cell_type": "code",
   "execution_count": null,
   "id": "f242014b",
   "metadata": {},
   "outputs": [],
   "source": [
    "type(grocery_list[0])"
   ]
  },
  {
   "cell_type": "code",
   "execution_count": null,
   "id": "2775f246",
   "metadata": {},
   "outputs": [],
   "source": [
    "grocery_list[0] + grocery_list[3]"
   ]
  },
  {
   "cell_type": "markdown",
   "id": "3b737215",
   "metadata": {
    "slideshow": {
     "slide_type": "slide"
    }
   },
   "source": [
    "You can also **slice** `list`s in the same ways as you can `str`s."
   ]
  },
  {
   "cell_type": "code",
   "execution_count": null,
   "id": "c800ec4d",
   "metadata": {},
   "outputs": [],
   "source": [
    "grocery_list[:2]"
   ]
  },
  {
   "cell_type": "code",
   "execution_count": null,
   "id": "e56b2d46",
   "metadata": {},
   "outputs": [],
   "source": [
    "type(grocery_list[:2])"
   ]
  },
  {
   "cell_type": "code",
   "execution_count": null,
   "id": "e1e52600",
   "metadata": {},
   "outputs": [],
   "source": [
    "grocery_list[-2:]"
   ]
  },
  {
   "cell_type": "code",
   "execution_count": null,
   "id": "d9a403fb",
   "metadata": {},
   "outputs": [],
   "source": [
    "grocery_list[::-1]"
   ]
  },
  {
   "cell_type": "code",
   "execution_count": null,
   "id": "491e5a86",
   "metadata": {
    "slideshow": {
     "slide_type": "slide"
    }
   },
   "outputs": [],
   "source": [
    "text_words"
   ]
  },
  {
   "cell_type": "markdown",
   "id": "5abee4ca",
   "metadata": {
    "slideshow": {
     "slide_type": "slide"
    }
   },
   "source": [
    "## `len()`\n",
    "\n",
    "Believe it or not, we're one mere tiny function away from being able to do something really exciting and absolutely essential to our TTR experiment: **count the number of tokens in a text**. \n",
    "\n",
    "`.split()` **\"tokenized\"** the text, (It didn't do a perfect job, of course, but it did pretty well.)\n",
    "\n",
    "\n",
    "All we need now is a way to actually count the number of words in our list for which there is a Python function:  **`len()`**."
   ]
  },
  {
   "cell_type": "code",
   "execution_count": null,
   "id": "db7c969d",
   "metadata": {
    "slideshow": {
     "slide_type": "slide"
    }
   },
   "outputs": [],
   "source": [
    "print(text)\n",
    "len(text)"
   ]
  },
  {
   "cell_type": "code",
   "execution_count": null,
   "id": "f0ba6cb2",
   "metadata": {
    "scrolled": true,
    "slideshow": {
     "slide_type": "-"
    }
   },
   "outputs": [],
   "source": [
    "print(text_words)\n",
    "len(text_words)"
   ]
  },
  {
   "cell_type": "markdown",
   "id": "d0ab8e20",
   "metadata": {
    "slideshow": {
     "slide_type": "slide"
    }
   },
   "source": [
    "Sadly, `len()` doesn't know what it means to count the length an `int`, a `float`, or a `bool`."
   ]
  },
  {
   "cell_type": "code",
   "execution_count": null,
   "id": "aa2867cc",
   "metadata": {},
   "outputs": [],
   "source": [
    "len(232)"
   ]
  },
  {
   "cell_type": "code",
   "execution_count": null,
   "id": "c75d76f7",
   "metadata": {},
   "outputs": [],
   "source": [
    "len(3.14159)"
   ]
  },
  {
   "cell_type": "code",
   "execution_count": null,
   "id": "ea4d3e84",
   "metadata": {},
   "outputs": [],
   "source": [
    "len(True)"
   ]
  },
  {
   "cell_type": "markdown",
   "id": "2cc1d8d5",
   "metadata": {
    "slideshow": {
     "slide_type": "slide"
    }
   },
   "source": [
    "When `len()` meets a `list`, he doesn't count anything within the actual items in the list; he only counts the number of elements or items in the list. We could, of course, ask him to count how long an individual element is, too, if it's the sort of thing that can be counted..."
   ]
  },
  {
   "cell_type": "code",
   "execution_count": null,
   "id": "4c195e3e",
   "metadata": {},
   "outputs": [],
   "source": [
    "print(text_words[4])\n",
    "len(text_words[4])"
   ]
  },
  {
   "cell_type": "markdown",
   "id": "3fb78786",
   "metadata": {
    "slideshow": {
     "slide_type": "slide"
    }
   },
   "source": [
    "## The `.join()` method\n",
    "\n",
    "Before we move on to counting the actual number of words in an actual novel (!!!!), there's one more string method to introduce, now that we know about `list`s: the `.join()` method.\n",
    "\n",
    "`string.join(list)` — where the `string` is whatever to want to mash **between** the items being joined and `list` is the list that you want to collapse into a single string.\n"
   ]
  },
  {
   "cell_type": "code",
   "execution_count": null,
   "id": "cc7ab647",
   "metadata": {},
   "outputs": [],
   "source": [
    "\" Mississippi, \".join([\"One\", \"two\", \"three\", \"four\"])"
   ]
  },
  {
   "cell_type": "markdown",
   "id": "6764ed69",
   "metadata": {
    "slideshow": {
     "slide_type": "-"
    }
   },
   "source": [
    "Notice that the `string` is **only** stuck in **between** items, so that in my application I'm left with a weirdly hanging four."
   ]
  },
  {
   "cell_type": "markdown",
   "id": "48aa3550",
   "metadata": {
    "slideshow": {
     "slide_type": "slide"
    }
   },
   "source": [
    "Here's a more practical application of `.join()`:"
   ]
  },
  {
   "cell_type": "code",
   "execution_count": null,
   "id": "cb4dcacc",
   "metadata": {},
   "outputs": [],
   "source": [
    "\" \".join(text_words)"
   ]
  },
  {
   "cell_type": "markdown",
   "id": "78e1879c",
   "metadata": {},
   "source": [
    "... can we make the robot sound like a modern teenager?"
   ]
  },
  {
   "cell_type": "code",
   "execution_count": null,
   "id": "e75af137",
   "metadata": {},
   "outputs": [],
   "source": [
    "\", like, \".join(text_words)"
   ]
  },
  {
   "cell_type": "markdown",
   "id": "e8f52d4a",
   "metadata": {
    "slideshow": {
     "slide_type": "slide"
    }
   },
   "source": [
    "# 3e: Loading a real-life text file into Python... and tokenizing it!\n",
    "\n",
    "We now have pretty much all the tools we need to perform an important part of our TTR exercise:\n",
    "* We can **tokenize** a sting by `.split()`ting it into words (more or less) and producing lists of words (more or less)\n",
    "* And we can count how many words there are in those lists with `len()`\n",
    "\n",
    "What we haven't learned to do, however, is actually load a novel into Python.\n",
    "\n",
    "Well, believe it or not, for that we only need a single line of code. \n",
    "\n",
    "It starts with the `open()` function, which we will provide with two arguments:\n",
    "* The **path** to the file we want to open, entered as `str` (so with `\"\"`s around it). This tells Python *where* that file is, relative to the notebook you currently have open. For this course, we will generally assume that the data files that we will open are in the same folder as the notebook that is using them. In this case, the path is pretty simple: the name of the file, in quotation marks.\n",
    "* The type of **character encoding** that that file uses, a topic which requires its own subject heading.\n"
   ]
  },
  {
   "cell_type": "markdown",
   "id": "5a84e83c",
   "metadata": {
    "slideshow": {
     "slide_type": "slide"
    }
   },
   "source": [
    "## Character encoding\n",
    "\n",
    "Although it would be handy if there were only one way of encoding text there are in fact many. Two of these are\n",
    "* \"[ASCII](https://en.wikipedia.org/wiki/ASCII)\" — first devised in the 1960s! — which has pretty limited support for anything beyond English characters A-Z, a-z, 0-9, with some punctuation and special characters allowed. \n",
    "* \"[UTF-8](https://en.wikipedia.org/wiki/UTF-8)\" (an implmentation of [Unicode](https://en.wikipedia.org/wiki/Unicode)), continues to add characters and languages."
   ]
  },
  {
   "cell_type": "markdown",
   "id": "12243459",
   "metadata": {
    "slideshow": {
     "slide_type": "slide"
    }
   },
   "source": [
    "Let's load a file. It's called `\"sample_character_encoding.txt\"` and it is encoded in the UTF-8 standard."
   ]
  },
  {
   "cell_type": "code",
   "execution_count": null,
   "id": "45e120ec",
   "metadata": {
    "scrolled": true
   },
   "outputs": [],
   "source": [
    "sample = open(\"sample_character_encoding.txt\", encoding=\"utf-8\").read()\n",
    "print(sample)"
   ]
  },
  {
   "cell_type": "markdown",
   "id": "2887a478",
   "metadata": {
    "slideshow": {
     "slide_type": "slide"
    }
   },
   "source": [
    "If we try to open this same exact file with a different encoding system called ISO-8859-1, we get a bit of a mess"
   ]
  },
  {
   "cell_type": "code",
   "execution_count": null,
   "id": "17bcf5d6",
   "metadata": {},
   "outputs": [],
   "source": [
    "sample = open(\"sample_character_encoding.txt\", encoding=\"iso-8859-1\").read()\n",
    "print(sample)"
   ]
  },
  {
   "cell_type": "markdown",
   "id": "dfbedcba",
   "metadata": {
    "slideshow": {
     "slide_type": "slide"
    }
   },
   "source": [
    "If we try to open this same exact file using Ye Olde Fashionede ASCII encoding, we just get an error."
   ]
  },
  {
   "cell_type": "code",
   "execution_count": null,
   "id": "985da885",
   "metadata": {},
   "outputs": [],
   "source": [
    "sample = open(\"sample_character_encoding.txt\", encoding=\"ascii\").read()\n",
    "print(sample)"
   ]
  },
  {
   "cell_type": "markdown",
   "id": "a2c841f4",
   "metadata": {
    "slideshow": {
     "slide_type": "slide"
    }
   },
   "source": [
    "Now let's try something loading a whole novel such as Arthur Conan Doyle's ***The Sign of the Four***! \n",
    "\n",
    "We've already conveniently put a copy of it — `sign-of-four.txt`, sourced from Project Gutenberg and encoded in UTF-8 — in your JupyterHubs, in the same folder as where this notebook lives. Let's load it into a variable called `sot4`."
   ]
  },
  {
   "cell_type": "code",
   "execution_count": null,
   "id": "b10768b5",
   "metadata": {},
   "outputs": [],
   "source": [
    "sot4 = open(\"sign-of-four.txt\", encoding=\"utf-8\").read()"
   ]
  },
  {
   "cell_type": "code",
   "execution_count": null,
   "id": "185d709e",
   "metadata": {},
   "outputs": [],
   "source": [
    "type(sot4)"
   ]
  },
  {
   "cell_type": "code",
   "execution_count": null,
   "id": "2c6544ae",
   "metadata": {},
   "outputs": [],
   "source": [
    "len(sot4)"
   ]
  },
  {
   "cell_type": "markdown",
   "id": "11d48b4a",
   "metadata": {
    "slideshow": {
     "slide_type": "slide"
    }
   },
   "source": [
    "Let's have a look inside!"
   ]
  },
  {
   "cell_type": "code",
   "execution_count": null,
   "id": "ee0df422",
   "metadata": {},
   "outputs": [],
   "source": [
    "sot4"
   ]
  },
  {
   "cell_type": "code",
   "execution_count": null,
   "id": "5f479518",
   "metadata": {
    "slideshow": {
     "slide_type": "slide"
    }
   },
   "outputs": [],
   "source": [
    "sot4[:200]"
   ]
  },
  {
   "cell_type": "markdown",
   "id": "d17c7ba9",
   "metadata": {},
   "source": [
    "Notice that if we `print()` this out, we get quite different output!"
   ]
  },
  {
   "cell_type": "code",
   "execution_count": null,
   "id": "8d29f421",
   "metadata": {},
   "outputs": [],
   "source": [
    "print(sot4[:200])"
   ]
  },
  {
   "cell_type": "markdown",
   "id": "fb9f329f",
   "metadata": {
    "slideshow": {
     "slide_type": "slide"
    }
   },
   "source": [
    "Anyway, let's try **tokenizing** this as is and look at the output."
   ]
  },
  {
   "cell_type": "code",
   "execution_count": null,
   "id": "ad82e025",
   "metadata": {},
   "outputs": [],
   "source": [
    "sot4_words = sot4.split()"
   ]
  },
  {
   "cell_type": "code",
   "execution_count": null,
   "id": "211b81b3",
   "metadata": {},
   "outputs": [],
   "source": [
    "sot4_words"
   ]
  },
  {
   "cell_type": "markdown",
   "id": "52a23012",
   "metadata": {
    "slideshow": {
     "slide_type": "slide"
    }
   },
   "source": [
    "And then... just one more step to get our number of tokens!"
   ]
  },
  {
   "cell_type": "code",
   "execution_count": null,
   "id": "be65e812",
   "metadata": {},
   "outputs": [],
   "source": [
    "len(sot4_words)"
   ]
  },
  {
   "cell_type": "markdown",
   "id": "d057d5f7",
   "metadata": {
    "slideshow": {
     "slide_type": "slide"
    }
   },
   "source": [
    "In terms of the TTR project, we now know how to:\n",
    "* load a file\n",
    "* split it into words\n",
    "* count the number of words\n",
    "\n",
    "We don't have the tools yet to:\n",
    "* remove punctuation \n",
    "* automatically go into a folder full of lots and lots of files, load them all up, and count their lengths\n",
    "* count unique types\n",
    "* automatically standardize our sample size\n",
    "\n",
    "To do all the above, we'll need to learn a bit about iteration and loops. Which we'll do next class..."
   ]
  }
 ],
 "metadata": {
  "celltoolbar": "Slideshow",
  "kernelspec": {
   "display_name": "Python 3 (ipykernel)",
   "language": "python",
   "name": "python3"
  },
  "language_info": {
   "codemirror_mode": {
    "name": "ipython",
    "version": 3
   },
   "file_extension": ".py",
   "mimetype": "text/x-python",
   "name": "python",
   "nbconvert_exporter": "python",
   "pygments_lexer": "ipython3",
   "version": "3.12.11"
  }
 },
 "nbformat": 4,
 "nbformat_minor": 5
}
