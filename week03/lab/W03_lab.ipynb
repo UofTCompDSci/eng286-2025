{
 "cells": [
  {
   "cell_type": "markdown",
   "metadata": {},
   "source": [
    "# Week 3 Lab\n",
    "\n",
    "## Instructions\n",
    "\n",
    "For each task, write your code in the first cell under the \"Write your code here\" comment. To check that it works as intended, run the second cell. You can run the tests as many times as you like.\n",
    "\n",
    "\n",
    "## Due date\n",
    "Labs are due each week on Friday at 10:00pm."
   ]
  },
  {
   "cell_type": "markdown",
   "id": "c02c163f",
   "metadata": {},
   "source": [
    "## Loading a File\n",
    "\n",
    "In order to do the lab you will need to load a text file into python. \n",
    "\n",
    "The following will use the \"sample_character_encoding.txt\" file as an example and it is encoded in the UTF-8 standard. The code will only run if you have a file called sample_character_encoding.txt in the same folder as this file.\n",
    "\n",
    "More on the details of the code will be explained in class. For now you can try to understand it, if you don't no worries as this will be discussed soon!\n",
    "\n",
    "In the below command, we'll use the open() function to open the file, and then immediately apply the .read() method to that file. This is because the open() function produces a \"file object\" which only becomes what we want it to be — a str — once we apply this method to it.\n",
    "\n",
    "When we are working with files, we first need to open them. You might think of this as taking a book off a shelf and opening it to the first page.  We can then carry out actions on the book, like reading it. \n",
    "\n",
    "The code below could be written equivalently as the following two lines, but it is common in Python to chain methods together. \n",
    "\n",
    "    file = open(\"sample_character_encoding.txt\", encoding=\"utf-8\")\n",
    "    sample_text = file.read()"
   ]
  },
  {
   "cell_type": "markdown",
   "metadata": {},
   "source": [
    "## Assignment\n",
    "### Task 1: Set up a variable with a sentence in it\n",
    "Create a string variable named `sentence` with the value \"How many times do I have to teach you, just because something works, doesn't mean that it cannot be improved.\""
   ]
  },
  {
   "cell_type": "code",
   "execution_count": null,
   "metadata": {
    "scrolled": true
   },
   "outputs": [],
   "source": [
    "# Write your code here\n"
   ]
  },
  {
   "cell_type": "code",
   "execution_count": null,
   "metadata": {},
   "outputs": [],
   "source": [
    "# Run this to check your work\n",
    "\n",
    "print(sentence)\n",
    "type(sentence) == str"
   ]
  },
  {
   "cell_type": "markdown",
   "metadata": {},
   "source": [
    "### Task 2: Transform that sentence\n",
    "Create a variable named `sentence_caps` that contains `sentence` in all-caps.\n"
   ]
  },
  {
   "cell_type": "code",
   "execution_count": null,
   "metadata": {
    "scrolled": true
   },
   "outputs": [],
   "source": [
    "# Write your code here\n"
   ]
  },
  {
   "cell_type": "code",
   "execution_count": null,
   "metadata": {},
   "outputs": [],
   "source": [
    "# Run this to check your work\n",
    "print(sentence_caps)"
   ]
  },
  {
   "cell_type": "markdown",
   "metadata": {},
   "source": [
    "Create a variable named `sentence_leet` that takes `sentence_caps` and replaces all the Es with 3s."
   ]
  },
  {
   "cell_type": "code",
   "execution_count": null,
   "metadata": {},
   "outputs": [],
   "source": [
    "# Write your code here\n"
   ]
  },
  {
   "cell_type": "code",
   "execution_count": null,
   "metadata": {},
   "outputs": [],
   "source": [
    "# Run this to check your work\n",
    "print(sentence_leet)"
   ]
  },
  {
   "cell_type": "markdown",
   "metadata": {},
   "source": [
    "### Task 3: Working with large texts\n",
    "There at two additional text files in the same folder as this lab: `moby_dick.txt` and `MCU_combined.txt`. These two files contain the text of Melville's _Moby Dick_ and the transcripts of 18 movies from the Marvel Cinematic Universe. Both are encoded in UTF-8 format.\n",
    "\n",
    "Store the contents of the file `moby_dick.txt` in a variable called `mobydick`.\n",
    "\n",
    "Store the contents of the file `MCU_combined.txt` in a variable called `mcu`."
   ]
  },
  {
   "cell_type": "code",
   "execution_count": null,
   "metadata": {},
   "outputs": [],
   "source": [
    "# Write your code here\n"
   ]
  },
  {
   "cell_type": "code",
   "execution_count": null,
   "metadata": {},
   "outputs": [],
   "source": [
    "# Run this to check your work. You should see the first 25 characters of _Moby Dick_. Notice that the count of characters includes punctuation, newline characters, and space characters.\n",
    "\n",
    "print(mobydick[0:25])"
   ]
  },
  {
   "cell_type": "code",
   "execution_count": null,
   "id": "e92bae45",
   "metadata": {},
   "outputs": [],
   "source": [
    "# Run this to check your work. You should see the first 25 characters of the MCU_combined.txt file. Notice that the count of characters includes punctuation andspace characters.\n",
    "\n",
    "print(mcu[0:25])"
   ]
  },
  {
   "cell_type": "markdown",
   "id": "82cb7778",
   "metadata": {},
   "source": [
    "#### Troubleshooting File Loading\n",
    "\n",
    "If you get a `FileNotFoundError`, check:\n",
    "1. Are the text files in the same folder as this notebook?\n",
    "2. Are the filenames spelled exactly right (case-sensitive)?\n",
    "3. Try running this to see what files are available:"
   ]
  },
  {
   "cell_type": "code",
   "execution_count": null,
   "id": "fe4062bb",
   "metadata": {},
   "outputs": [],
   "source": [
    "import os\n",
    "print(os.listdir('.'))"
   ]
  },
  {
   "cell_type": "markdown",
   "metadata": {},
   "source": [
    "### Task 4: Counting the words in the text\n",
    "First the texts need to be broken down into lists of words. Store these lists in the new variables `mobydick_words` and `mcu_words`.\n"
   ]
  },
  {
   "cell_type": "code",
   "execution_count": null,
   "metadata": {
    "scrolled": true
   },
   "outputs": [],
   "source": [
    "# Write your code here\n"
   ]
  },
  {
   "cell_type": "code",
   "execution_count": null,
   "metadata": {
    "scrolled": true
   },
   "outputs": [],
   "source": [
    "# Write some code to check your work. Each variable should be of type list\n",
    "print(type(mobydick_words))\n",
    "print(type(mcu_words))\n",
    "\n",
    "# Without printing the whole list, how can you check if the the content of the list seems right? \n",
    "# Try printing only the first five words in the list using what you know about slicing a list.\n",
    "# Write your code here\n"
   ]
  },
  {
   "cell_type": "markdown",
   "id": "f1363814",
   "metadata": {},
   "source": [
    "Then, find the length of each text and store it in `mobydick_wordcount` and `mcu_wordcount`."
   ]
  },
  {
   "cell_type": "code",
   "execution_count": null,
   "id": "e60588b0",
   "metadata": {},
   "outputs": [],
   "source": [
    "# Write your code here\n"
   ]
  },
  {
   "cell_type": "code",
   "execution_count": null,
   "metadata": {},
   "outputs": [],
   "source": [
    "# Run this to check your work\n",
    "print(mobydick_wordcount)\n",
    "print(mcu_wordcount)"
   ]
  },
  {
   "cell_type": "markdown",
   "metadata": {},
   "source": [
    "Create a variable named `mobydick_first_words` that contains the first 5 items from `mobydick_words`.\n"
   ]
  },
  {
   "cell_type": "code",
   "execution_count": null,
   "metadata": {},
   "outputs": [],
   "source": [
    "# Write your code here\n"
   ]
  },
  {
   "cell_type": "code",
   "execution_count": null,
   "id": "f2dcd6ab",
   "metadata": {},
   "outputs": [],
   "source": [
    "# Run this to check your work\n",
    "print(mobydick_first_words)"
   ]
  },
  {
   "cell_type": "markdown",
   "metadata": {},
   "source": [
    "### Task 5: Split each text into sentences and print the last two sentences\n",
    "\n",
    "To work with sentences, we need to split our texts differently. First, use periods to split `mobydick` into sentences, and store these sentences in a variable named `mobydick_sentences`. (This is a rough proxy for splitting a text into sentences.)"
   ]
  },
  {
   "cell_type": "code",
   "execution_count": null,
   "metadata": {},
   "outputs": [],
   "source": [
    "# Write your code here\n"
   ]
  },
  {
   "cell_type": "markdown",
   "id": "c0e9d11a",
   "metadata": {},
   "source": [
    "Next, use periods to split `mcu` into sentences, and store the sentences in a variable `mcu_sentences`."
   ]
  },
  {
   "cell_type": "code",
   "execution_count": null,
   "id": "b191aa3e",
   "metadata": {},
   "outputs": [],
   "source": [
    "# Write your code here\n"
   ]
  },
  {
   "cell_type": "markdown",
   "id": "e1713d85",
   "metadata": {},
   "source": [
    "Then get the last **two** items in each of these lists and store them in `mobydick_last_sentences` and `mcu_last_sentences`."
   ]
  },
  {
   "cell_type": "code",
   "execution_count": null,
   "id": "e263790b",
   "metadata": {},
   "outputs": [],
   "source": [
    "# Do this for Moby Dick in this cell\n",
    "\n",
    "# Check your work\n",
    "print(mobydick_last_sentences)"
   ]
  },
  {
   "cell_type": "code",
   "execution_count": null,
   "id": "bba97f77",
   "metadata": {},
   "outputs": [],
   "source": [
    "# And for MCU in this cell\n",
    "\n",
    "# Check your work\n",
    "print(mcu_last_sentences)"
   ]
  },
  {
   "cell_type": "markdown",
   "metadata": {},
   "source": [
    "### Reading Response: Project Gutenberg in the Matrix of Domination\n",
    "\n",
    "As you begin to plan your TTR experiment, you will want to consider carefully which datasets you draw on to assemble your set of texts. Start by considering the most obvious possible source for literary texts, [Project Gutenberg](https://www.gutenberg.org). Search through the archive, looking for some specific texts that might be of interest to you. Which texts are included in the dataset? Which texts are not? What insight, if any, do these inclusions and exclusions give you into D’Ignazio and Klein’s framing questions:\n",
    "> * Who is doing the work of data science (and who is not)?\n",
    "> * Whose goals are prioritized in data science (and whose are not)? \n",
    "> * Who benefits from data science (and who is either overlooked or actively harmed)? \n",
    "\n",
    "Where, if anywhere, would you place Project Gutenberg in the \"matrix of domination\"? If Project Gutenberg does not interest you, then you might consider the following platforms: Archive of Our Own,SciHub, Anna’s Archive, Internet Archive, or UbuWeb.\n",
    "\n",
    "\n",
    "Write your response (150-250 words; no need to answer *all* the above questions) into the Markdown cell below."
   ]
  },
  {
   "cell_type": "markdown",
   "metadata": {},
   "source": [
    " "
   ]
  },
  {
   "cell_type": "markdown",
   "metadata": {},
   "source": [
    "### Optional: Questions about this week's material\n",
    "\n",
    "In the Markdown cell below, please feel free ask any question(s) you have about this week’s lecture material and/or the material in this lab."
   ]
  },
  {
   "cell_type": "markdown",
   "metadata": {},
   "source": [
    " "
   ]
  },
  {
   "cell_type": "markdown",
   "metadata": {},
   "source": [
    "## Marking Rubric\n",
    "- 2 points for the quality of the short answer question\n",
    "- 2 points for the coding questions\n",
    "\n",
    "The coding questions will be autograded in MarkUs and your mark for these questions are fully determined by the autograder.  For example if it says that 2 out of 3 tests passed successfully, your mark on the question will be 66%.\n",
    "\n",
    "When you submit your work to MarkUs, you can then *run the autograder* on your submission to see how many tests pass, and therefore what grade you'll receive on that submission.\n",
    "You can submit and run the autograder as many times as you like before the homework due date to improve your mark.\n",
    "\n",
    "**Note**: after the due date, Markus will use your *most recent submission before the due date* for the actual grading.\n",
    "\n",
    "## How to Submit\n",
    "\n",
    "1. Do the assignment by editing this notebook, writing in the designated cells.\n",
    "\n",
    "2. Download the completed notebook. Save it as `W03_lab.ipynb`.\n",
    "\n",
    "3. Log in to [MarkUs](https://markus.teach.cs.toronto.edu/markus/main/login_remote_auth) (Tip: Control/Command-click to open it in a new tab so you can still see these instructions.)\n",
    "\n",
    "4. Choose your course (ENG286).\n",
    "\n",
    "5. Click the `lab3: Lab 3` assessment.\n",
    "\n",
    "6. Click the `Submissions` tab. The new page is `Lab 3: Submissions`.\n",
    "\n",
    "7. Click button `Submit File` on the right.\n",
    "\n",
    "8. In the popup window that opens, click button `Browse`/`Choose Files` and select the `W03_lab.ipynb` file that you downloaded."
   ]
  },
  {
   "cell_type": "markdown",
   "metadata": {},
   "source": [
    "  "
   ]
  }
 ],
 "metadata": {
  "kernelspec": {
   "display_name": "base",
   "language": "python",
   "name": "python3"
  },
  "language_info": {
   "codemirror_mode": {
    "name": "ipython",
    "version": 3
   },
   "file_extension": ".py",
   "mimetype": "text/x-python",
   "name": "python",
   "nbconvert_exporter": "python",
   "pygments_lexer": "ipython3",
   "version": "3.13.5"
  }
 },
 "nbformat": 4,
 "nbformat_minor": 5
}
