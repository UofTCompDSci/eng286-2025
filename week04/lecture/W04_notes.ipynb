{
 "cells": [
  {
   "cell_type": "markdown",
   "id": "2811e119",
   "metadata": {},
   "source": [
    "# Week 4: Conditionals, Iteration, and Counting Types\n",
    "\n",
    "This week we will focus on control flow.  When we run a cell in a Jupyter Notebook (or a full Python program), the system evaluates and runs one line at a time in order just like you would following a recipe for making a cake. But there are some control flow features that allow us to do more sophisticated things.\n",
    "\n",
    "### Part 1: Conditionals\n",
    "\n",
    "We often have to make decisions on what to do next based on some *condition*. By *condition* we typically mean the values of one or more variables. Here, we learn all about `if`, `elif`, `else`, and indentation. \n",
    "\n",
    "### Part 2: Loops and Iteration\n",
    "\n",
    "We also frequently want to do the same operation multiple times, or to each element in a collection. We will learn all about `for` loops and `while` loops, and learn how to embed conditionals *inside* loops.\n",
    "\n",
    "\n",
    "### Part 3: Using Loops and Iteration to Calculate Types\n",
    "\n",
    "Now, we can put together what we learned about conditionals and iteration, plus some new operations on lists (`in` and `list.append()`) in order to calculate the number of unique words in a text.\n",
    "\n",
    "### Links\n",
    "\n",
    "You may find these sections of Melanie Walsh's textbook useful:\n",
    "* [Python Comparisons and Conditionals](https://melaniewalsh.github.io/Intro-Cultural-Analytics/02-Python/08-Comparisons-Conditionals.html)\n",
    "* [Python Links and Loops](https://melaniewalsh.github.io/Intro-Cultural-Analytics/02-Python/09-Lists-Loops-Part1.html)\n",
    "\n"
   ]
  },
  {
   "cell_type": "markdown",
   "id": "d32348da",
   "metadata": {},
   "source": [
    "# 1. Conditionals\n",
    "\n",
    "## Revisiting comparisons\n",
    "\n",
    "Two whole weeks ago (how the time flies!), you may recall that we mets lot of **operators**.\n",
    "\n",
    "* `==`: equal to\n",
    "* `!=`: not equal to\n",
    "* `>`: greater than\n",
    "* `>=`: greather than or equal to\n",
    "* `<`: less than\n",
    "* `<=`: less than or equal too\n",
    "\n",
    "We used these operators to make **comparisons**. For instance, \n"
   ]
  },
  {
   "cell_type": "code",
   "execution_count": 9,
   "id": "b366a52e",
   "metadata": {},
   "outputs": [],
   "source": [
    "name = \"Karen\"\n",
    "distance = 63.5"
   ]
  },
  {
   "cell_type": "code",
   "execution_count": 10,
   "id": "fd488af0",
   "metadata": {},
   "outputs": [
    {
     "data": {
      "text/plain": [
       "True"
      ]
     },
     "execution_count": 10,
     "metadata": {},
     "output_type": "execute_result"
    }
   ],
   "source": [
    "name == \"Karen\""
   ]
  },
  {
   "cell_type": "code",
   "execution_count": 11,
   "id": "5cd4289b",
   "metadata": {},
   "outputs": [
    {
     "data": {
      "text/plain": [
       "True"
      ]
     },
     "execution_count": 11,
     "metadata": {},
     "output_type": "execute_result"
    }
   ],
   "source": [
    "distance < 100"
   ]
  },
  {
   "cell_type": "markdown",
   "id": "17e69915",
   "metadata": {},
   "source": [
    "Let's add one further layer of complexity to comparisons with the logical operators `and`, `or`, and `not`."
   ]
  },
  {
   "cell_type": "markdown",
   "id": "53af8c07",
   "metadata": {},
   "source": [
    "| **Logical Operator** | **Explanation**                                                                                   |\n",
    "|:-------------:|:---------------------------------------------------------------------------------------------------:|\n",
    "| `x and y`         | `True` if x and y are both True                                                                             |\n",
    "| `x or y`         | `True` if either x or y is True                                              |\n",
    "| `not x` | `True` if x is not True"
   ]
  },
  {
   "cell_type": "code",
   "execution_count": 12,
   "id": "a56d17b7",
   "metadata": {},
   "outputs": [],
   "source": [
    "# Try changing the values of these variables and then rerunning the cells \n",
    "# below to see how the results change.\n",
    "sugar = False\n",
    "cream = True"
   ]
  },
  {
   "cell_type": "code",
   "execution_count": 13,
   "id": "8d0a5517",
   "metadata": {},
   "outputs": [
    {
     "data": {
      "text/plain": [
       "False"
      ]
     },
     "execution_count": 13,
     "metadata": {},
     "output_type": "execute_result"
    }
   ],
   "source": [
    "sugar == True and cream == True"
   ]
  },
  {
   "cell_type": "code",
   "execution_count": 14,
   "id": "1c5da821",
   "metadata": {
    "scrolled": true
   },
   "outputs": [
    {
     "data": {
      "text/plain": [
       "True"
      ]
     },
     "execution_count": 14,
     "metadata": {},
     "output_type": "execute_result"
    }
   ],
   "source": [
    "sugar == True or cream == True"
   ]
  },
  {
   "cell_type": "markdown",
   "id": "1e372924",
   "metadata": {},
   "source": [
    "Note that Python's `or` is not to be confused with \"the exclusive or\". \n",
    "\n",
    "`Or` returns `True` if EITHER (or BOTH) of the conditions is true.\n",
    "\n",
    "The \"exclusive or\" returns `True` ONLY if ONE but **not BOTH** of the conditions is true.\n",
    "\n",
    "* **`or`**: \"Do you take sugar or cream in your coffee?\" You can choose one, the other, or both.\n",
    "* **\"exclusive or\"**: \"Would you like fries or a salad with your burger?\" You're being asked to choose one or the other, not both. \n",
    "\n",
    "The `or` we're talking about today is the \"sugar or cream\" `or`; **not** the \"fries or salad\" \"exclusive or.\""
   ]
  },
  {
   "cell_type": "markdown",
   "id": "2cbabf0a",
   "metadata": {},
   "source": [
    "The following \"truth table\" shows the values of the experessions for each value of x and y. In the cells above, try all of the variations of True and False for sugar and cream to see if the results match this table.\n",
    "\n",
    "| **`x`** | **`y`** | **`x and y`** | **`x or y`**\n",
    "|:-------------:|:-------------:|:-------------:|:---------------------------------------------------------------------------------------------------:|\n",
    "| `True`        |   `True` | `True` | `True`                                  |\n",
    "| `True`        |   `False` | `False` | `True`                                  |\n",
    "| `False`        |   `True` | `False` | `True`                                  |\n",
    "| `False`        |   `False` | `False` | `False`                                  |\n"
   ]
  },
  {
   "cell_type": "markdown",
   "id": "4ea1bc65",
   "metadata": {},
   "source": [
    "Try some examples of more interesting expressions to solidify your understanding.  Before you run each line of code, decide in your head what the result should be to check your understanding."
   ]
  },
  {
   "cell_type": "code",
   "execution_count": 15,
   "id": "8ffdaf6c",
   "metadata": {},
   "outputs": [
    {
     "data": {
      "text/plain": [
       "True"
      ]
     },
     "execution_count": 15,
     "metadata": {},
     "output_type": "execute_result"
    }
   ],
   "source": [
    "distance < 100 and name == \"Karen\""
   ]
  },
  {
   "cell_type": "code",
   "execution_count": 16,
   "id": "d74c9950",
   "metadata": {},
   "outputs": [
    {
     "data": {
      "text/plain": [
       "True"
      ]
     },
     "execution_count": 16,
     "metadata": {},
     "output_type": "execute_result"
    }
   ],
   "source": [
    "distance < 100 or name == \"Karen\""
   ]
  },
  {
   "cell_type": "code",
   "execution_count": 17,
   "id": "ff2835c0",
   "metadata": {},
   "outputs": [
    {
     "data": {
      "text/plain": [
       "False"
      ]
     },
     "execution_count": 17,
     "metadata": {},
     "output_type": "execute_result"
    }
   ],
   "source": [
    "distance < 100 and name == \"Nat\""
   ]
  },
  {
   "cell_type": "code",
   "execution_count": 18,
   "id": "6fa10b36",
   "metadata": {},
   "outputs": [
    {
     "data": {
      "text/plain": [
       "True"
      ]
     },
     "execution_count": 18,
     "metadata": {},
     "output_type": "execute_result"
    }
   ],
   "source": [
    "distance < 100 or name == \"Nat\""
   ]
  },
  {
   "cell_type": "code",
   "execution_count": 19,
   "id": "ffabcc83",
   "metadata": {},
   "outputs": [
    {
     "data": {
      "text/plain": [
       "False"
      ]
     },
     "execution_count": 19,
     "metadata": {},
     "output_type": "execute_result"
    }
   ],
   "source": [
    "distance > 80 or name == \"Nat\""
   ]
  },
  {
   "cell_type": "code",
   "execution_count": 20,
   "id": "20252ae1",
   "metadata": {},
   "outputs": [
    {
     "data": {
      "text/plain": [
       "True"
      ]
     },
     "execution_count": 20,
     "metadata": {},
     "output_type": "execute_result"
    }
   ],
   "source": [
    "distance > 80 or name == \"Karen\""
   ]
  },
  {
   "cell_type": "markdown",
   "id": "ad5c6a46",
   "metadata": {},
   "source": [
    "The thing we're learning about right now, **conditionals**, allow us to actually **do something** with the comparisons that we make. \n",
    "\n",
    "For instance, we might want to write a congratulatory note if the distance was greater than 50 km. (I am making an assumption about the units for `distance`.)\n",
    "\n",
    "You do it with an **`if` statement**. \n",
    "\n",
    "## `if` statements\n",
    "\n",
    "An `if` statement is an instruction to do something *if* a particular condition is met.\n",
    "\n",
    "A common Python conditional is made up of two lines\n",
    "* On the first line, you type the English word `if` followed by an **expression** (for instance, a **comparison**) and then a colon (`:`) \n",
    "* On the second line, you **indent** (Jupyter will automaticalaly insert this indentation for you\\*\\*, but you could also use the `Tab` key on your keyboard) and write an instruction or \"statement\" to be completed if the condition is met\n",
    "\n",
    "\\*\\* The distinction between tabs and spaces is a fraught topic in the programming community. Fortunately, Jupyter Lab (and Hub) make it easy for us by converting all tab characters into four spaces.\n",
    "\n",
    "Here's a Python `if` statement:"
   ]
  },
  {
   "cell_type": "code",
   "execution_count": 21,
   "id": "fc812dc4",
   "metadata": {},
   "outputs": [
    {
     "name": "stdout",
     "output_type": "stream",
     "text": [
      "That's an impressive bike ride\n"
     ]
    }
   ],
   "source": [
    "if distance > 50:\n",
    "    print(\"That's an impressive bike ride\")"
   ]
  },
  {
   "cell_type": "markdown",
   "id": "71fd087c",
   "metadata": {},
   "source": [
    "As humanities students, you're all ready to handle the syntax of an `if` statement, because it's a lot like the way you introduce a block quotation in an essay.\n",
    "\n",
    "```\n",
    "The opening of Eliot's The Waste Land immediately establishes a mood of dread:\n",
    "    April is the cruellest month, breeding\n",
    "    Lilacs out of the dead land, mixing\n",
    "    Memory and desire, stirring\n",
    "    Dull roots with spring rain. (1-4)\n",
    "From this point onward in the poem, it is all just further downhill.\n",
    "```\n",
    "\n",
    "The first line introduces the quotation — it sets up what's to follow — and ends with a colon `:`, which signals that we're about to move into something else. \n",
    "\n",
    "Then all subsequent lines are *indented*, to signal that they are in some way subordinate to that introductory phrase. The power of the colon `:` — the subordination of all subsequent lines to that introductory phrase — goes away only when we stop indenting.\n",
    "\n",
    "**So much is communicated with one bit of puncutation (`:`) and one element of layout (indentation)!**\n",
    "\n",
    "Same with an `if` statement in Python. Other languagues are hopelessly inelegant in the way they handle them. Python, like our convention for introducing block quotes, does a lot with a little: mere colons and indentation.\n",
    "\n",
    "The opening line of an `if` statement names the condition we're looking to meet; and it ends with a `:`, signalling we're about to specify what will actually happen if that condition is met. The `:` leaves us hanging, waiting to know what action will occur if the condition is met!\n",
    "\n",
    "The second line is indented, to show that it's subordinated to the first line. It picks up where the `:` left off, filling in the blank: if the condition is met, **do this**."
   ]
  },
  {
   "cell_type": "code",
   "execution_count": 22,
   "id": "45188e79",
   "metadata": {},
   "outputs": [
    {
     "name": "stdout",
     "output_type": "stream",
     "text": [
      "Wow, your bike ride was really long today!\n"
     ]
    }
   ],
   "source": [
    "if distance > 50:\n",
    "    print(\"Wow, your bike ride was really long today!\")"
   ]
  },
  {
   "cell_type": "markdown",
   "id": "676a2386",
   "metadata": {},
   "source": [
    "Although this syntax is goregously and elegantly minimalist, it is also quite unforgiving. Think of Python as a demanding aesthete: it has exquisite taste, and so will not tolerate even the slightest gaffe."
   ]
  },
  {
   "cell_type": "code",
   "execution_count": 23,
   "id": "984b33a3",
   "metadata": {},
   "outputs": [
    {
     "ename": "SyntaxError",
     "evalue": "expected ':' (1600612911.py, line 1)",
     "output_type": "error",
     "traceback": [
      "  \u001b[36mCell\u001b[39m\u001b[36m \u001b[39m\u001b[32mIn[23]\u001b[39m\u001b[32m, line 1\u001b[39m\n\u001b[31m    \u001b[39m\u001b[31mif distance > 50\u001b[39m\n                    ^\n\u001b[31mSyntaxError\u001b[39m\u001b[31m:\u001b[39m expected ':'\n"
     ]
    }
   ],
   "source": [
    "if distance > 50\n",
    "    print(\"Wow, your bike ride was really long today!\")"
   ]
  },
  {
   "cell_type": "markdown",
   "id": "eed467dc",
   "metadata": {},
   "source": [
    "Actually, what I just said is not fair. Because, unlike a demanding aesthete — who would merely turn up their nose and shoo you away — Python is kind enough to explain where we've gone wrong when we make a faux-pas."
   ]
  },
  {
   "cell_type": "code",
   "execution_count": null,
   "id": "f0793040",
   "metadata": {},
   "outputs": [],
   "source": [
    "if distance > 50:\n",
    "print(\"Wow, your bike ride was really long today!\")"
   ]
  },
  {
   "cell_type": "markdown",
   "id": "e86bf8a6",
   "metadata": {},
   "source": [
    "## `else` statements\n",
    "\n",
    "You can add more complexity to your `if` statement by specifying what do to if the condition in the `if` statement **isn't** met.\n",
    "\n",
    "An `else` statement comes after an `if` statement and is formatted in the same way, except that you don't have to specify a condition (because it serves as an \"if-all-else-fails-do-*this*\" bucket)."
   ]
  },
  {
   "cell_type": "code",
   "execution_count": null,
   "id": "299094a4",
   "metadata": {},
   "outputs": [],
   "source": [
    "if distance > 50:\n",
    "    print(\"Wow, your bike ride was really long today!\")\n",
    "else:\n",
    "    print(\"Great work, you made it out on your bike today.\")"
   ]
  },
  {
   "cell_type": "markdown",
   "id": "af43550a",
   "metadata": {},
   "source": [
    "## `elif` statements\n",
    "\n",
    "We can add even **more** nuance with `elif` — \"else if\" — statements.\n",
    "\n",
    "The Python Interpreter (🐍) will evaluate the `if` statement first. Then, if it's not true, Python will go to the `elif` statement (and we can stack as many of these as we like) until Python finds a true one. If none of those are true, Python will go to the `else` statement, if we've provided one."
   ]
  },
  {
   "cell_type": "code",
   "execution_count": null,
   "id": "ef9f08a4",
   "metadata": {},
   "outputs": [],
   "source": [
    "if distance > 50:\n",
    "    print(\"Wow, your bike ride was really long today!\")\n",
    "elif distance < 5:\n",
    "    print(\"That's a good start. Can you go farther tomorrow?\")\n",
    "else:\n",
    "    print(\"That's a solid ride.\")"
   ]
  },
  {
   "cell_type": "code",
   "execution_count": null,
   "id": "c122294f",
   "metadata": {},
   "outputs": [],
   "source": [
    "# What happens if we try the following?  Try giving distance different values.\n",
    "# Especially try it with a distance value of 4. Can you explain the result?\n",
    "# Can you give distance a value that will get to the else statement?\n",
    "\n",
    "distance = 4\n",
    "if distance > 50:\n",
    "    print(\"Wow, your bike ride was really long today!\")\n",
    "elif distance <=50:\n",
    "    print(\"That's a solid ride.\")\n",
    "elif distance < 5:\n",
    "    print(\"That's a good start. Can you go farther tomorrow?\")\n",
    "else:\n",
    "    print(\"Is there a value for distance to ever cause this to be printed?\")"
   ]
  },
  {
   "cell_type": "markdown",
   "id": "7a9f37ee",
   "metadata": {},
   "source": [
    "# 🐍🐍🐍🐍🐍🐍🐍🐍🐍🐍🐍🐍🐍🐍🐍🐍🐍🐍🐍"
   ]
  },
  {
   "cell_type": "markdown",
   "id": "0383682f",
   "metadata": {},
   "source": [
    "# 2. Iteration and Loops\n",
    "\n",
    "I'm just going to show you some code for a particular kind of loop, and let's see if you can figure out its syntax and what it does."
   ]
  },
  {
   "cell_type": "code",
   "execution_count": 24,
   "id": "3131fc69",
   "metadata": {
    "scrolled": true
   },
   "outputs": [
    {
     "name": "stdout",
     "output_type": "stream",
     "text": [
      "10\n",
      "9\n",
      "8\n",
      "7\n",
      "6\n",
      "5\n",
      "4\n",
      "3\n",
      "2\n",
      "1\n",
      "0 Blastoff!\n"
     ]
    }
   ],
   "source": [
    "number = 10\n",
    "\n",
    "while number > 0:\n",
    "    print(number)\n",
    "    number = number - 1\n",
    "print(f\"{number} Blastoff!\")"
   ]
  },
  {
   "cell_type": "markdown",
   "id": "3c05a262",
   "metadata": {},
   "source": [
    "## `for` loops\n",
    "\n",
    "That's one kind of Python loop — a `while` loop. And `while` it's very cool and useful, it's not as useful `for` us as another kind of loop: the `for` loop.\n",
    "\n",
    "Last class, we talked about **indexing** and **slicing** in relation to two data types: `str`s and `list`s. \n",
    "\n",
    "This taught us the way that Python \"breaks down\" those two data types:\n",
    "* `str`s are broken up into...\n",
    "* and `lists` are broken up into..."
   ]
  },
  {
   "cell_type": "code",
   "execution_count": 25,
   "id": "82b51e18",
   "metadata": {},
   "outputs": [],
   "source": [
    "# Let's us a line from \"Poetry’s Data: Digital Humanities and the History of Prosody\"\n",
    "text = \"Poetry is full of data. We read poetry informed by principles that we accept based on how we have been trained to read, speak, and interpret.\"\n",
    "text_words = text.split()"
   ]
  },
  {
   "cell_type": "code",
   "execution_count": 26,
   "id": "658b3b76",
   "metadata": {},
   "outputs": [
    {
     "data": {
      "text/plain": [
       "'Poetry'"
      ]
     },
     "execution_count": 26,
     "metadata": {},
     "output_type": "execute_result"
    }
   ],
   "source": [
    "text[:6]"
   ]
  },
  {
   "cell_type": "code",
   "execution_count": 27,
   "id": "cbf17287",
   "metadata": {
    "scrolled": true
   },
   "outputs": [
    {
     "data": {
      "text/plain": [
       "['Poetry', 'is', 'full', 'of', 'data.']"
      ]
     },
     "execution_count": 27,
     "metadata": {},
     "output_type": "execute_result"
    }
   ],
   "source": [
    "text_words[:5]"
   ]
  },
  {
   "cell_type": "markdown",
   "id": "886210cb",
   "metadata": {},
   "source": [
    "A `for` loop allows us to **move through the parts of** a particular variable — **iterate over it**, in the stylish and fashionable lexicon of Python — and **do something** to each part of it."
   ]
  },
  {
   "cell_type": "code",
   "execution_count": null,
   "id": "8cac65d5",
   "metadata": {},
   "outputs": [],
   "source": [
    "for character in text:\n",
    "    print(character.upper())"
   ]
  },
  {
   "cell_type": "code",
   "execution_count": null,
   "id": "b7cbbd84",
   "metadata": {},
   "outputs": [],
   "source": [
    "for word in text_words:\n",
    "    print(word.upper())"
   ]
  },
  {
   "cell_type": "markdown",
   "id": "ace1f73a",
   "metadata": {},
   "source": [
    "Here's a way of thinking about the syntax of a `for` loop.\n",
    "\n",
    "In the below `for` loop, you're telling Python, \n",
    "> **Hey, Python! `for` every `element` that's \"`in`\" the variable `whatever`, please go in and do the following thing to it`:` `print()` off that `element`**"
   ]
  },
  {
   "cell_type": "code",
   "execution_count": null,
   "id": "bfa1d5e4",
   "metadata": {},
   "outputs": [],
   "source": [
    "whatever = \"blah blah blah\"\n",
    "\n",
    "for element in whatever:\n",
    "    print(element)"
   ]
  },
  {
   "cell_type": "markdown",
   "id": "738e5639",
   "metadata": {},
   "source": [
    "Below is a more formal overview of a `for` loop.\n",
    "\n",
    "The above `for` loops consist of two lines and have this syntax:\n",
    "\n",
    "* On the first line, you type the word `for`, then a **variable name** for each item in the thing you'll be iterating over, then the word `in`, then the **name of the variable you want to iterate over**, and then a colon (`:`)\n",
    "* On the second line, you indent and write an instruction or “statement” to be completed for each item in the list.\n",
    "\n",
    "Note that the **variable name** you provide between `for` and `in` can be anything (as long as it follows variable naming conventions). It's nice to give it a descriptive name that corresponds to what the individual items of the stering or list *are* — but it doesn't need to be."
   ]
  },
  {
   "cell_type": "code",
   "execution_count": null,
   "id": "d3660ae4",
   "metadata": {},
   "outputs": [],
   "source": [
    "instructors = [\"Karen\", \"Nat\", \"Mitchell\", \"Sarah\", \"Alexandra\", \"Kevin\", \"Cameron\", \"Hangrui\"]"
   ]
  },
  {
   "cell_type": "code",
   "execution_count": null,
   "id": "30f52605",
   "metadata": {},
   "outputs": [],
   "source": [
    "for name in instructors:\n",
    "    print(f\"This instructor's name is {name}.\")"
   ]
  },
  {
   "cell_type": "code",
   "execution_count": null,
   "id": "157e8841",
   "metadata": {},
   "outputs": [],
   "source": [
    "for x in instructors:\n",
    "    print(f\"This instructor's name is {x}.\")"
   ]
  },
  {
   "cell_type": "markdown",
   "id": "4bb28d15",
   "metadata": {},
   "source": [
    "## Combining loops and conditionals\n",
    "\n",
    "So, it turns out that our new friends `if` and `for` are already friends! They get along really well with one another. \n",
    "\n",
    "For instance:"
   ]
  },
  {
   "cell_type": "code",
   "execution_count": null,
   "id": "dd81fe21",
   "metadata": {
    "scrolled": false
   },
   "outputs": [],
   "source": [
    "for name in instructors:\n",
    "    print(f\"Your name is {name}.\")\n",
    "    if name == \"Karen\":\n",
    "        print(\"You are standing at the front of the room.\")\n",
    "    elif name == \"Nat\":\n",
    "        print(\"You are sitting at the front of the room.\")\n",
    "    elif name == \"Mitchell\" or name == \"Sarah\" or name == \"Kevin\":\n",
    "        print(\"You are sitting at the back of the room.\")"
   ]
  },
  {
   "cell_type": "markdown",
   "id": "e5e5fd0f",
   "metadata": {},
   "source": [
    "Notice, in the above, how indentation and colons work to indicate how everything fits together, keeping everything nestly **nested** like a matryoshka doll.\n",
    "\n",
    "![Matryoshka dolls](matryoshki.jpg)\n",
    "\n",
    "```\n",
    "On the outside is the for loop:\n",
    "    Inside that is a print() function.\n",
    "    Then there is an if statement:\n",
    "        Which contains a print() function.\n",
    "    Then there is an elif statement:\n",
    "        Which contains another print() function.\n",
    "    Then there is yet another elif statement:\n",
    "        Which contains yet another print() function.\n",
    "    And then we go back to the start of the for loop, for as long as there are items to iterate over.\n",
    "And then when there are no items left to iterate over, the for loop is done, and we are outside it.\n",
    "```\n",
    "On your own time, play around with the levels of indentation, breaking the logical, nested structure in multiple ways and then bringing it back to life!"
   ]
  },
  {
   "cell_type": "markdown",
   "id": "6c699405",
   "metadata": {},
   "source": [
    "How could we combine our big distance-related `if` statement above,\n",
    "\n",
    "```\n",
    "if distance > 50:\n",
    "    print(\"Wow, your bike ride was really long today!\")\n",
    "elif distance < 5:\n",
    "    print(\"That's a good start. Can you go farther tomorrow?\")\n",
    "else:\n",
    "    print(\"That's a solid ride.\")\n",
    "```\n",
    "\n",
    "with a for loop that iterates over a list of distances?\n",
    "\n"
   ]
  },
  {
   "cell_type": "code",
   "execution_count": null,
   "id": "a46c80e2",
   "metadata": {},
   "outputs": [],
   "source": [
    "# Here is a space for you to write this.\n",
    "distances = [4, 63.5, 22]"
   ]
  },
  {
   "cell_type": "markdown",
   "id": "f50d8365",
   "metadata": {},
   "source": [
    "# 3. Using Loops and Iteration to Calculate Types\n",
    "\n",
    "Okay, let's work together to think through what we would actually need to do in order to calculate the number of unique words or **types** in a text file that we've created.\n",
    "\n",
    "* First we would need to load the text into a string.\n",
    "* Then we would need to break it up into a list of words.\n",
    "* Then we would need to go through that list of words and, at every step, determine if we've already met that words before. If it's a new word, we would store it in a new list of unique words.\n",
    "* When we're done, we need to count how many words are in that new list of unique words.\n",
    "\n",
    "We already have pretty much all the tools we need to do this. \n",
    "\n",
    "## The `in` operator — and `not`\n",
    "\n",
    "`in` checks whether a particular item is in a particular list.\n",
    "\n",
    "It can be combined with `not` — cousin to `and` and `or`, which we met above — to check if a particular item is **absent from** a particular list."
   ]
  },
  {
   "cell_type": "code",
   "execution_count": null,
   "id": "caac9d80",
   "metadata": {},
   "outputs": [],
   "source": [
    "print(instructors)"
   ]
  },
  {
   "cell_type": "code",
   "execution_count": null,
   "id": "7bee333f",
   "metadata": {},
   "outputs": [],
   "source": [
    "\"Karen\" in instructors"
   ]
  },
  {
   "cell_type": "code",
   "execution_count": null,
   "id": "c26e450c",
   "metadata": {},
   "outputs": [],
   "source": [
    "\"Rachel\" in instructors"
   ]
  },
  {
   "cell_type": "code",
   "execution_count": null,
   "id": "400b7249",
   "metadata": {},
   "outputs": [],
   "source": [
    "\"Karen\" not in instructors"
   ]
  },
  {
   "cell_type": "code",
   "execution_count": null,
   "id": "9514885b",
   "metadata": {},
   "outputs": [],
   "source": [
    "\"Kevin\" not in instructors"
   ]
  },
  {
   "cell_type": "code",
   "execution_count": null,
   "id": "1c84b655",
   "metadata": {},
   "outputs": [],
   "source": [
    "text_words"
   ]
  },
  {
   "cell_type": "code",
   "execution_count": null,
   "id": "58d532c0",
   "metadata": {},
   "outputs": [],
   "source": [
    "\"poetry\" in text_words"
   ]
  },
  {
   "cell_type": "markdown",
   "id": "d241ede8",
   "metadata": {},
   "source": [
    "## A few list methods and we're done :)\n",
    "\n",
    "We need one new list method to finish our task... but we may as well use this as an opportunity to learn about a few other list methods, since they will come in handy down the line.\n",
    "\n",
    "* `list.append(another_item)`: adds new item (a `str`, `int`, `float`, or `bool`) to end of list\n",
    "* `list.extend(another_list)`: adds items from another_list (has to be a `list`) to list\n",
    "* `list.remove(item)`: removes first instance of item from the list\n",
    "* `list.sort()`: sorts the list alphabetically (for reverse alphabetical order, use `list.sort(reverse=True)`)\n",
    "* `list.reverse()`: reverses current order of list"
   ]
  },
  {
   "cell_type": "code",
   "execution_count": null,
   "id": "b79ac2a0",
   "metadata": {},
   "outputs": [],
   "source": []
  },
  {
   "cell_type": "code",
   "execution_count": null,
   "id": "81efc9d9",
   "metadata": {},
   "outputs": [],
   "source": [
    "instructors = [\"Nat\", \"Karen\", \"Kevin\"]\n",
    "print(instructors)"
   ]
  },
  {
   "cell_type": "code",
   "execution_count": null,
   "id": "58dce940",
   "metadata": {},
   "outputs": [],
   "source": [
    "instructors.reverse()\n",
    "print(instructors)"
   ]
  },
  {
   "cell_type": "markdown",
   "id": "4e4af3a8",
   "metadata": {},
   "source": [
    "Note that unlike the string methods we met last time, these are all **mutating methods** (more awesome Python terminology!!) meaning they don't just spew things out — they actually go into the variable and change its contents.\n",
    "\n",
    "The list method we're interested in right now in is `list.append(another_item)`. "
   ]
  },
  {
   "cell_type": "code",
   "execution_count": null,
   "id": "192307a2",
   "metadata": {
    "scrolled": true
   },
   "outputs": [],
   "source": [
    "print(instructors)\n",
    "instructors.append(\"Mitchell\")\n",
    "print(instructors)"
   ]
  },
  {
   "cell_type": "markdown",
   "id": "cbb0adad",
   "metadata": {},
   "source": [
    "Note what happens if we run the above line multiple times. \n",
    "\n",
    "This is an important point about Jupyter Notebooks: **when cells are run multiple times, they can yield different reults.**\n",
    "\n",
    "Imagine a scenario in your homework gets the results you want... but only if someone runs a particular cell multiple times (which they won't know how to do). Since the autograding software only runs each cell once, this would yield an \"incorrect\" evaluation in an autograding situation. \n",
    "\n",
    "**To make sure your code runs correctly without depending on particular cells running more than once, you should regularly \"Run All Cells\"** (under the Cell menu)."
   ]
  },
  {
   "cell_type": "markdown",
   "id": "b320b661",
   "metadata": {},
   "source": [
    "Let's try using the `list.append()` method in a `for` loop.\n",
    "\n",
    "Let's make a little loop that goes through a string and, for each of its letters, adds it to an empty list."
   ]
  },
  {
   "cell_type": "code",
   "execution_count": null,
   "id": "4442b71f",
   "metadata": {},
   "outputs": [],
   "source": [
    "word = \"plenipotentiary\"\n",
    "\n",
    "new_list = []\n",
    "\n",
    "for letter in word:\n",
    "    new_list.append(letter)"
   ]
  },
  {
   "cell_type": "code",
   "execution_count": null,
   "id": "5ddd1bb1",
   "metadata": {},
   "outputs": [],
   "source": [
    "new_list"
   ]
  },
  {
   "cell_type": "markdown",
   "id": "bbbe5839",
   "metadata": {},
   "source": [
    "Now let's stick a conditional inside a loop, *and* use the `list.append()` method within that conditional statement. \n",
    "\n",
    "### **This will stack together all the skills we need to do today's task!**\n",
    "\n",
    "Let's look through every word from our `text_words` variable (a line from *Poetry’s Data: Digital Humanities and the History of Prosody*, split up into words) and store all the ones that begin with a vowel in a new list variable called `vowel_words`. (The internet informs me that the \"sometimes Y\" very seldom applies to Ys at the beginning of words...)"
   ]
  },
  {
   "cell_type": "code",
   "execution_count": null,
   "id": "ae7dd8a5",
   "metadata": {},
   "outputs": [],
   "source": [
    "vowel_words = []\n",
    "\n",
    "for word in text_words:\n",
    "    if word[0] == \"a\" or word[0] == \"e\" or word[0] == \"i\" or word[0] == \"o\" or word[0] == \"u\":\n",
    "        vowel_words.append(word)"
   ]
  },
  {
   "cell_type": "code",
   "execution_count": null,
   "id": "bcc02a57",
   "metadata": {},
   "outputs": [],
   "source": [
    "print(vowel_words)"
   ]
  },
  {
   "cell_type": "markdown",
   "id": "7ae6cb9c",
   "metadata": {},
   "source": [
    "## Okay, now we're ready to calculate the number of unique words in `text_words`\n",
    "\n",
    "Read through the code below and try to figure out what every line does."
   ]
  },
  {
   "cell_type": "code",
   "execution_count": null,
   "id": "0489a31b",
   "metadata": {},
   "outputs": [],
   "source": [
    "unique_words = []\n",
    "\n",
    "for word in text_words:\n",
    "    if word not in unique_words:\n",
    "        unique_words.append(word)"
   ]
  },
  {
   "cell_type": "code",
   "execution_count": null,
   "id": "ab153e98",
   "metadata": {},
   "outputs": [],
   "source": [
    "unique_words"
   ]
  },
  {
   "cell_type": "markdown",
   "id": "78cd6bc6",
   "metadata": {},
   "source": [
    "## Now we're ready to calculate a type-token ratio!"
   ]
  },
  {
   "cell_type": "code",
   "execution_count": null,
   "id": "12b7ed96",
   "metadata": {
    "scrolled": true
   },
   "outputs": [],
   "source": [
    "len(text_words)"
   ]
  },
  {
   "cell_type": "code",
   "execution_count": null,
   "id": "daed0cbf",
   "metadata": {},
   "outputs": [],
   "source": [
    "len(unique_words)"
   ]
  },
  {
   "cell_type": "code",
   "execution_count": null,
   "id": "f955f943",
   "metadata": {},
   "outputs": [],
   "source": [
    "(len(unique_words) / len(text_words)) * 100"
   ]
  },
  {
   "cell_type": "markdown",
   "id": "ff7fcf09",
   "metadata": {},
   "source": [
    "Note that I wrapped (types / tokens) in `()` to make sure that the \"order of operations\" is calculated correctly. It doesn't actually matter in this case — but might as well get used to it!"
   ]
  },
  {
   "cell_type": "markdown",
   "id": "a4aa981a",
   "metadata": {},
   "source": [
    "## Shall we give this a try with an actual text??"
   ]
  },
  {
   "cell_type": "code",
   "execution_count": null,
   "id": "1c50866c",
   "metadata": {},
   "outputs": [],
   "source": [
    "sot4 = open(\"sign-of-four.txt\", encoding=\"utf-8\").read()"
   ]
  },
  {
   "cell_type": "code",
   "execution_count": null,
   "id": "f564c3d4",
   "metadata": {},
   "outputs": [],
   "source": [
    "sot4[:20]"
   ]
  },
  {
   "cell_type": "code",
   "execution_count": null,
   "id": "528868b9",
   "metadata": {},
   "outputs": [],
   "source": [
    "sot4_words = sot4.split()"
   ]
  },
  {
   "cell_type": "code",
   "execution_count": null,
   "id": "d1c7f2c8",
   "metadata": {},
   "outputs": [],
   "source": [
    "sot4_words[:20]"
   ]
  },
  {
   "cell_type": "code",
   "execution_count": null,
   "id": "9bebb36f",
   "metadata": {},
   "outputs": [],
   "source": [
    "sot4_unique_words = []\n",
    "\n",
    "for word in sot4_words:\n",
    "    if word not in sot4_unique_words:\n",
    "        sot4_unique_words.append(word)"
   ]
  },
  {
   "cell_type": "code",
   "execution_count": null,
   "id": "3f51a91c",
   "metadata": {
    "scrolled": true
   },
   "outputs": [],
   "source": [
    "sot4_unique_words[:20]"
   ]
  },
  {
   "cell_type": "code",
   "execution_count": null,
   "id": "6244ad3d",
   "metadata": {},
   "outputs": [],
   "source": [
    "sot4_ttr = len(sot4_unique_words) / len(sot4_words) * 100\n",
    "print(sot4_ttr)"
   ]
  },
  {
   "cell_type": "markdown",
   "id": "b1adcdf4",
   "metadata": {},
   "source": [
    "Let's have a peek inside our `sot4_unique_words` variable to see how well we're doing in finding unique words. Let's apply the `list.sort()` method to make our list more legible. (We'll lose word order, but that's okay in this case!)"
   ]
  },
  {
   "cell_type": "code",
   "execution_count": null,
   "id": "8f56d41c",
   "metadata": {},
   "outputs": [],
   "source": [
    "sot4_unique_words.sort()"
   ]
  },
  {
   "cell_type": "code",
   "execution_count": null,
   "id": "32418999",
   "metadata": {
    "scrolled": true
   },
   "outputs": [],
   "source": [
    "sot4_unique_words[:50]"
   ]
  },
  {
   "cell_type": "code",
   "execution_count": null,
   "id": "8795b873",
   "metadata": {},
   "outputs": [],
   "source": [
    "sot4_unique_words[-50:]"
   ]
  },
  {
   "cell_type": "markdown",
   "id": "d9562dbd",
   "metadata": {},
   "source": [
    "How could we improve our list of unique words?\n",
    "* remove punctuation\n",
    "* remove capitalization\n",
    "\n",
    "The former is tricky, but we already know how to do the latter. How could we add that to the for loop that looks for the number of unique words?"
   ]
  },
  {
   "cell_type": "code",
   "execution_count": null,
   "id": "dc316df0",
   "metadata": {},
   "outputs": [],
   "source": [
    "sot4_unique_words = []\n",
    "\n",
    "for word in sot4_words:\n",
    "    word = word.lower()\n",
    "    if word not in sot4_unique_words:\n",
    "        sot4_unique_words.append(word)"
   ]
  },
  {
   "cell_type": "code",
   "execution_count": null,
   "id": "b455f359",
   "metadata": {},
   "outputs": [],
   "source": [
    "sot4_unique_words[:50]"
   ]
  },
  {
   "cell_type": "code",
   "execution_count": null,
   "id": "682c2615",
   "metadata": {},
   "outputs": [],
   "source": [
    "sot4_ttr_lowered = (len(sot4_unique_words) / len(sot4_words)) * 100"
   ]
  },
  {
   "cell_type": "markdown",
   "id": "622d496c",
   "metadata": {},
   "source": [
    "Let's compare our two TTR results: `sot4_ttr` (capitalization present) and `sot4_ttr_lowered` (capitalization removed). Which do you think will be higher? Why? How much do you expect the two numbers to differ?"
   ]
  },
  {
   "cell_type": "code",
   "execution_count": null,
   "id": "bdbfa7c2",
   "metadata": {},
   "outputs": [],
   "source": [
    "print(sot4_ttr)\n",
    "print(sot4_ttr_lowered)"
   ]
  }
 ],
 "metadata": {
  "kernelspec": {
   "display_name": "base",
   "language": "python",
   "name": "python3"
  },
  "language_info": {
   "codemirror_mode": {
    "name": "ipython",
    "version": 3
   },
   "file_extension": ".py",
   "mimetype": "text/x-python",
   "name": "python",
   "nbconvert_exporter": "python",
   "pygments_lexer": "ipython3",
   "version": "3.12.2"
  }
 },
 "nbformat": 4,
 "nbformat_minor": 5
}
