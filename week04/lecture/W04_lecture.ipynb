{
 "cells": [
  {
   "cell_type": "markdown",
   "id": "2811e119",
   "metadata": {
    "slideshow": {
     "slide_type": "slide"
    }
   },
   "source": [
    "# Week 4: Conditionals, Iteration, and Counting Types\n",
    "\n",
    "\n",
    "* Conditionals\n",
    "    - `if`, `elif`, `else`\n",
    "    - indentation. \n",
    "\n",
    "* Loops and Iteration\n",
    "    - performing the same operation multiple times\n",
    "    - `for` loops and `while` loops\n",
    "\n",
    "\n",
    "* Using Loops and Iteration to Calculate Types\n",
    "    - `in`  - a new operator\n",
    "    - `list.append()` - a new method on lists.\n"
   ]
  },
  {
   "cell_type": "markdown",
   "id": "d32348da",
   "metadata": {
    "slideshow": {
     "slide_type": "slide"
    }
   },
   "source": [
    "# 1. Conditionals\n",
    "\n",
    "### Revisiting comparisons\n",
    "\n",
    "* `==`: equal to\n",
    "* `!=`: not equal to\n",
    "* `>`: greater than\n",
    "* `>=`: greather than or equal to\n",
    "* `<`: less than\n",
    "* `<=`: less than or equal too"
   ]
  },
  {
   "cell_type": "code",
   "execution_count": null,
   "id": "b366a52e",
   "metadata": {
    "slideshow": {
     "slide_type": "slide"
    }
   },
   "outputs": [],
   "source": [
    "name = \"Karen\"\n",
    "distance = 63.5"
   ]
  },
  {
   "cell_type": "code",
   "execution_count": null,
   "id": "fd488af0",
   "metadata": {},
   "outputs": [],
   "source": [
    "name == \"Karen\""
   ]
  },
  {
   "cell_type": "code",
   "execution_count": null,
   "id": "5cd4289b",
   "metadata": {},
   "outputs": [],
   "source": [
    "distance < 100"
   ]
  },
  {
   "cell_type": "markdown",
   "id": "53af8c07",
   "metadata": {
    "slideshow": {
     "slide_type": "slide"
    }
   },
   "source": [
    "### Logical Operators\n",
    "\n",
    "| **Logical Operator** | **Explanation**                                                                                   |\n",
    "|:-------------:|:---------------------------------------------------------------------------------------------------:|\n",
    "| `x and y`         | `True` if x and y are both True                                                                             |\n",
    "| `x or y`         | `True` if either x or y is True                                              |\n",
    "| `not x` | `True` if x is not True"
   ]
  },
  {
   "cell_type": "code",
   "execution_count": null,
   "id": "a56d17b7",
   "metadata": {},
   "outputs": [],
   "source": [
    "# Do you want sugar and cream in your coffee?\n",
    "\n",
    "sugar = True\n",
    "cream = True\n",
    "\n",
    "sugar == True and cream == True"
   ]
  },
  {
   "cell_type": "code",
   "execution_count": null,
   "id": "1c5da821",
   "metadata": {
    "scrolled": true,
    "slideshow": {
     "slide_type": "slide"
    }
   },
   "outputs": [],
   "source": [
    "# Do you want sugar or cream in your coffee?\n",
    "sugar = False\n",
    "cream = True\n",
    "\n",
    "sugar == True or cream == True"
   ]
  },
  {
   "cell_type": "markdown",
   "id": "4ea1bc65",
   "metadata": {
    "slideshow": {
     "slide_type": "slide"
    }
   },
   "source": [
    "Try some examples of more interesting expressions to solidify your understanding.  Before you run each line of code, decide in your head what the result should be to check your understanding."
   ]
  },
  {
   "cell_type": "code",
   "execution_count": null,
   "id": "8ffdaf6c",
   "metadata": {},
   "outputs": [],
   "source": [
    "name = \"Karen\"\n",
    "distance = 63.5\n",
    "\n",
    "distance < 100 and name == \"Karen\""
   ]
  },
  {
   "cell_type": "markdown",
   "id": "ad5c6a46",
   "metadata": {
    "slideshow": {
     "slide_type": "slide"
    }
   },
   "source": [
    "\n",
    "## `if` statements\n",
    "\n",
    "An `if` statement is an instruction to do something *if* a particular condition is met.\n",
    "\n",
    "```\n",
    "if condition is true:\n",
    "    do something\n",
    "```\n",
    "\n",
    "\n",
    "Here's a Python `if` statement:"
   ]
  },
  {
   "cell_type": "code",
   "execution_count": null,
   "id": "fc812dc4",
   "metadata": {},
   "outputs": [],
   "source": [
    "if distance > 50:\n",
    "    print(\"That's an impressive bike ride\")"
   ]
  },
  {
   "cell_type": "markdown",
   "id": "71fd087c",
   "metadata": {
    "slideshow": {
     "slide_type": "slide"
    }
   },
   "source": [
    "An analogy is that the indentation is similar to a block quote.  You know where the quote begins and ends because of the identation and the colon.\n",
    "\n",
    "```\n",
    "The opening of Eliot's The Waste Land immediately establishes a mood of dread:\n",
    "    April is the cruellest month, breeding\n",
    "    Lilacs out of the dead land, mixing\n",
    "    Memory and desire, stirring\n",
    "    Dull roots with spring rain. (1-4)\n",
    "From this point onward in the poem, it is all just further downhill.\n",
    "```"
   ]
  },
  {
   "cell_type": "markdown",
   "id": "676a2386",
   "metadata": {
    "slideshow": {
     "slide_type": "slide"
    }
   },
   "source": [
    "The syntax is unforgiving:"
   ]
  },
  {
   "cell_type": "code",
   "execution_count": null,
   "id": "984b33a3",
   "metadata": {},
   "outputs": [],
   "source": [
    "if distance > 50\n",
    "    print(\"Wow, your bike ride was really long today!\")"
   ]
  },
  {
   "cell_type": "markdown",
   "id": "e86bf8a6",
   "metadata": {
    "slideshow": {
     "slide_type": "slide"
    }
   },
   "source": [
    "## `else` statements\n",
    "\n",
    "What to do if the condition is *not* met?"
   ]
  },
  {
   "cell_type": "code",
   "execution_count": null,
   "id": "299094a4",
   "metadata": {},
   "outputs": [],
   "source": [
    "if distance > 50:\n",
    "    print(\"Wow, your bike ride was really long today!\")\n",
    "else:\n",
    "    print(\"Great work, you made it out on your bike today.\")"
   ]
  },
  {
   "cell_type": "markdown",
   "id": "af43550a",
   "metadata": {
    "slideshow": {
     "slide_type": "slide"
    }
   },
   "source": [
    "## `elif` statements\n",
    "\n",
    "We can add even **more** nuance with `elif` — \"else if\" — statements.\n",
    "\n",
    "The conditions are evaluated in order.  This is really important."
   ]
  },
  {
   "cell_type": "code",
   "execution_count": null,
   "id": "ef9f08a4",
   "metadata": {},
   "outputs": [],
   "source": [
    "if distance > 50:\n",
    "    print(\"Wow, your bike ride was really long today!\")\n",
    "elif distance < 5:\n",
    "    print(\"That's a good start. Can you go farther tomorrow?\")\n",
    "else:\n",
    "    print(\"That's a solid ride.\")"
   ]
  },
  {
   "cell_type": "code",
   "execution_count": null,
   "id": "c122294f",
   "metadata": {
    "slideshow": {
     "slide_type": "slide"
    }
   },
   "outputs": [],
   "source": [
    "# What happens if we try the following?  Try giving distance different values.\n",
    "# Especially try it with a distance value of 4. Can you explain the result?\n",
    "# Can you give distance a value that will get to the else statement?\n",
    "\n",
    "distance = 4\n",
    "if distance > 50:\n",
    "    print(\"Wow, your bike ride was really long today!\")\n",
    "elif distance <=50:\n",
    "    print(\"That's a solid ride.\")\n",
    "elif distance < 5:\n",
    "    print(\"That's a good start. Can you go farther tomorrow?\")\n",
    "else:\n",
    "    print(\"Is there a value for distance to ever cause this to be printed?\")"
   ]
  },
  {
   "cell_type": "markdown",
   "id": "0383682f",
   "metadata": {
    "slideshow": {
     "slide_type": "slide"
    }
   },
   "source": [
    "# 2. Iteration and Loops\n",
    "\n",
    "I'm just going to show you some code for a particular kind of loop, and let's see if you can figure out its syntax and what it does."
   ]
  },
  {
   "cell_type": "code",
   "execution_count": null,
   "id": "3131fc69",
   "metadata": {
    "scrolled": true
   },
   "outputs": [],
   "source": [
    "number = 10\n",
    "\n",
    "while number > 0:\n",
    "    print(number)\n",
    "    number = number - 1\n",
    "print(f\"{number} Blastoff!\")"
   ]
  },
  {
   "cell_type": "markdown",
   "id": "3c05a262",
   "metadata": {
    "slideshow": {
     "slide_type": "slide"
    }
   },
   "source": [
    "## `for` loops\n",
    "\n",
    "A `for` loops is designed to iterate over a collection. We have seen two kinds of collections so far: strings and lists."
   ]
  },
  {
   "cell_type": "code",
   "execution_count": null,
   "id": "82b51e18",
   "metadata": {
    "slideshow": {
     "slide_type": "slide"
    }
   },
   "outputs": [],
   "source": [
    "# Let's us a line from \"Poetry’s Data: Digital Humanities and the History of Prosody\"\n",
    "text = \"Poetry is full of data. We read poetry informed by principles that we accept based on how we have been trained to read, speak, and interpret.\"\n",
    "text_words = text.split()"
   ]
  },
  {
   "cell_type": "code",
   "execution_count": null,
   "id": "658b3b76",
   "metadata": {},
   "outputs": [],
   "source": [
    "text[:6]"
   ]
  },
  {
   "cell_type": "code",
   "execution_count": null,
   "id": "cbf17287",
   "metadata": {
    "scrolled": true
   },
   "outputs": [],
   "source": [
    "text_words[:5]"
   ]
  },
  {
   "cell_type": "markdown",
   "id": "886210cb",
   "metadata": {
    "slideshow": {
     "slide_type": "slide"
    }
   },
   "source": [
    "A `for` loop allows us to **move through the parts of** a particular variable — **iterate over it**, in the stylish and fashionable lexicon of Python — and **do something** to each part of it."
   ]
  },
  {
   "cell_type": "code",
   "execution_count": null,
   "id": "8cac65d5",
   "metadata": {},
   "outputs": [],
   "source": [
    "for character in text:\n",
    "    print(character.upper())"
   ]
  },
  {
   "cell_type": "code",
   "execution_count": null,
   "id": "b7cbbd84",
   "metadata": {
    "slideshow": {
     "slide_type": "slide"
    }
   },
   "outputs": [],
   "source": [
    "for word in text_words:\n",
    "    print(word.upper())"
   ]
  },
  {
   "cell_type": "code",
   "execution_count": null,
   "id": "d3660ae4",
   "metadata": {
    "slideshow": {
     "slide_type": "slide"
    }
   },
   "outputs": [],
   "source": [
    "instructors = [\"Karen\", \"Nat\", \"Mitchell\", \"Sarah\", \"Alexandra\", \"Kevin\", \"Cameron\", \"Hangrui\"]"
   ]
  },
  {
   "cell_type": "code",
   "execution_count": null,
   "id": "30f52605",
   "metadata": {},
   "outputs": [],
   "source": [
    "for name in instructors:\n",
    "    print(f\"This instructor's name is {name}.\")"
   ]
  },
  {
   "cell_type": "code",
   "execution_count": null,
   "id": "157e8841",
   "metadata": {},
   "outputs": [],
   "source": [
    "for x in instructors:\n",
    "    print(f\"This instructor's name is {x}.\")"
   ]
  },
  {
   "cell_type": "markdown",
   "id": "4bb28d15",
   "metadata": {
    "slideshow": {
     "slide_type": "slide"
    }
   },
   "source": [
    "## Combining loops and conditionals\n",
    "\n",
    "So, it turns out that our new friends `if` and `for` are already friends! They get along really well with one another. \n",
    "\n",
    "For instance:"
   ]
  },
  {
   "cell_type": "code",
   "execution_count": null,
   "id": "dd81fe21",
   "metadata": {
    "scrolled": false,
    "slideshow": {
     "slide_type": "slide"
    }
   },
   "outputs": [],
   "source": [
    "for name in instructors:\n",
    "    print(f\"Your name is {name}.\")\n",
    "    if name == \"Karen\":\n",
    "        print(\"You are standing at the front of the room.\")\n",
    "    elif name == \"Nat\":\n",
    "        print(\"You are sitting at the front of the room.\")\n",
    "    elif name == \"Mitchell\" or name == \"Sarah\" or name == \"Kevin\":\n",
    "        print(\"You are sitting at the back of the room.\")"
   ]
  },
  {
   "cell_type": "code",
   "execution_count": null,
   "id": "a46c80e2",
   "metadata": {
    "slideshow": {
     "slide_type": "slide"
    }
   },
   "outputs": [],
   "source": [
    "# How could we combine our big distance-related `if` statement with a loop\n",
    "distances = [4, 63.5, 22]\n",
    "\n",
    "if distance > 50:\n",
    "    print(\"Wow, your bike ride was really long today!\")\n",
    "elif distance < 5:\n",
    "    print(\"That's a good start. Can you go farther tomorrow?\")\n",
    "else:\n",
    "    print(\"That's a solid ride.\")"
   ]
  },
  {
   "cell_type": "markdown",
   "id": "f50d8365",
   "metadata": {
    "slideshow": {
     "slide_type": "slide"
    }
   },
   "source": [
    "# 3. Using Loops and Iteration to Calculate Types\n",
    "\n",
    "\n",
    "* The `in` operator — and `not`\n",
    "\n",
    "    - `in` checks whether a particular item is in a particular list.\n"
   ]
  },
  {
   "cell_type": "code",
   "execution_count": null,
   "id": "caac9d80",
   "metadata": {},
   "outputs": [],
   "source": [
    "print(instructors)"
   ]
  },
  {
   "cell_type": "code",
   "execution_count": null,
   "id": "7bee333f",
   "metadata": {},
   "outputs": [],
   "source": [
    "\"Karen\" in instructors"
   ]
  },
  {
   "cell_type": "code",
   "execution_count": null,
   "id": "58d532c0",
   "metadata": {},
   "outputs": [],
   "source": [
    "\"poetry\" in text_words"
   ]
  },
  {
   "cell_type": "markdown",
   "id": "d241ede8",
   "metadata": {
    "slideshow": {
     "slide_type": "slide"
    }
   },
   "source": [
    "## A few list methods and we're done :)\n",
    "\n",
    "We need one new list method to finish our task... but we may as well use this as an opportunity to learn about a few other list methods, since they will come in handy down the line.\n",
    "\n",
    "* `list.append(another_item)`: adds new item (a `str`, `int`, `float`, or `bool`) to end of list\n",
    "* `list.extend(another_list)`: adds items from another_list (has to be a `list`) to list\n",
    "* `list.remove(item)`: removes first instance of item from the list\n",
    "* `list.sort()`: sorts the list alphabetically (for reverse alphabetical order, use `list.sort(reverse=True)`)\n",
    "* `list.reverse()`: reverses current order of list"
   ]
  },
  {
   "cell_type": "code",
   "execution_count": null,
   "id": "81efc9d9",
   "metadata": {
    "slideshow": {
     "slide_type": "slide"
    }
   },
   "outputs": [],
   "source": [
    "instructors = [\"Nat\", \"Karen\", \"Kevin\"]\n",
    "print(instructors)"
   ]
  },
  {
   "cell_type": "code",
   "execution_count": null,
   "id": "58dce940",
   "metadata": {},
   "outputs": [],
   "source": [
    "instructors.reverse()\n",
    "print(instructors)"
   ]
  },
  {
   "cell_type": "markdown",
   "id": "4e4af3a8",
   "metadata": {
    "slideshow": {
     "slide_type": "slide"
    }
   },
   "source": [
    "Note that unlike the string methods we met last time, these are all **mutating methods** (more awesome Python terminology!!) meaning they don't just spew things out — they actually go into the variable and change its contents.\n",
    "\n",
    "The list method we're interested in right now in is `list.append(another_item)`. "
   ]
  },
  {
   "cell_type": "code",
   "execution_count": null,
   "id": "192307a2",
   "metadata": {
    "scrolled": true
   },
   "outputs": [],
   "source": [
    "print(instructors)\n",
    "instructors.append(\"Mitchell\")\n",
    "print(instructors)"
   ]
  },
  {
   "cell_type": "markdown",
   "id": "b320b661",
   "metadata": {},
   "source": [
    "Let's try using the `list.append()` method in a `for` loop.\n",
    "\n",
    "Let's make a little loop that goes through a string and, for each of its letters, adds it to an empty list."
   ]
  },
  {
   "cell_type": "code",
   "execution_count": null,
   "id": "4442b71f",
   "metadata": {
    "slideshow": {
     "slide_type": "slide"
    }
   },
   "outputs": [],
   "source": [
    "word = \"plenipotentiary\"\n",
    "\n",
    "new_list = []\n",
    "\n",
    "for letter in word:\n",
    "    new_list.append(letter)"
   ]
  },
  {
   "cell_type": "code",
   "execution_count": null,
   "id": "5ddd1bb1",
   "metadata": {},
   "outputs": [],
   "source": [
    "new_list"
   ]
  },
  {
   "cell_type": "markdown",
   "id": "7ae6cb9c",
   "metadata": {
    "slideshow": {
     "slide_type": "slide"
    }
   },
   "source": [
    "## Okay, now we're ready to calculate the number of unique words in `text_words`\n",
    "\n",
    "Read through the code below and try to figure out what every line does."
   ]
  },
  {
   "cell_type": "code",
   "execution_count": null,
   "id": "0489a31b",
   "metadata": {
    "slideshow": {
     "slide_type": "slide"
    }
   },
   "outputs": [],
   "source": [
    "unique_words = []\n",
    "\n",
    "for word in text_words:\n",
    "    if word not in unique_words:\n",
    "        unique_words.append(word)"
   ]
  },
  {
   "cell_type": "code",
   "execution_count": null,
   "id": "ab153e98",
   "metadata": {},
   "outputs": [],
   "source": [
    "unique_words"
   ]
  },
  {
   "cell_type": "markdown",
   "id": "78cd6bc6",
   "metadata": {
    "slideshow": {
     "slide_type": "slide"
    }
   },
   "source": [
    "## Now we're ready to calculate a type-token ratio!"
   ]
  },
  {
   "cell_type": "code",
   "execution_count": null,
   "id": "12b7ed96",
   "metadata": {
    "scrolled": true
   },
   "outputs": [],
   "source": [
    "len(text_words)"
   ]
  },
  {
   "cell_type": "code",
   "execution_count": null,
   "id": "daed0cbf",
   "metadata": {},
   "outputs": [],
   "source": [
    "len(unique_words)"
   ]
  },
  {
   "cell_type": "code",
   "execution_count": null,
   "id": "f955f943",
   "metadata": {},
   "outputs": [],
   "source": [
    "(len(unique_words) / len(text_words)) * 100"
   ]
  },
  {
   "cell_type": "markdown",
   "id": "a4aa981a",
   "metadata": {
    "slideshow": {
     "slide_type": "slide"
    }
   },
   "source": [
    "## Shall we give this a try with an actual text??"
   ]
  },
  {
   "cell_type": "code",
   "execution_count": null,
   "id": "1c50866c",
   "metadata": {},
   "outputs": [],
   "source": [
    "sot4 = open(\"sign-of-four.txt\", encoding=\"utf-8\").read()"
   ]
  },
  {
   "cell_type": "code",
   "execution_count": null,
   "id": "f564c3d4",
   "metadata": {},
   "outputs": [],
   "source": [
    "sot4[:20]"
   ]
  },
  {
   "cell_type": "code",
   "execution_count": null,
   "id": "528868b9",
   "metadata": {
    "slideshow": {
     "slide_type": "slide"
    }
   },
   "outputs": [],
   "source": [
    "sot4_words = sot4.split()"
   ]
  },
  {
   "cell_type": "code",
   "execution_count": null,
   "id": "d1c7f2c8",
   "metadata": {},
   "outputs": [],
   "source": [
    "sot4_words[:20]"
   ]
  },
  {
   "cell_type": "code",
   "execution_count": null,
   "id": "9bebb36f",
   "metadata": {
    "slideshow": {
     "slide_type": "slide"
    }
   },
   "outputs": [],
   "source": [
    "sot4_unique_words = []\n",
    "\n",
    "for word in sot4_words:\n",
    "    if word not in sot4_unique_words:\n",
    "        sot4_unique_words.append(word)"
   ]
  },
  {
   "cell_type": "code",
   "execution_count": null,
   "id": "3f51a91c",
   "metadata": {
    "scrolled": true
   },
   "outputs": [],
   "source": [
    "sot4_unique_words[:20]"
   ]
  },
  {
   "cell_type": "code",
   "execution_count": null,
   "id": "6244ad3d",
   "metadata": {
    "slideshow": {
     "slide_type": "slide"
    }
   },
   "outputs": [],
   "source": [
    "sot4_ttr = len(sot4_unique_words) / len(sot4_words) * 100\n",
    "print(sot4_ttr)"
   ]
  },
  {
   "cell_type": "markdown",
   "id": "b1adcdf4",
   "metadata": {
    "slideshow": {
     "slide_type": "slide"
    }
   },
   "source": [
    "Let's have a peek inside our `sot4_unique_words` variable to see how well we're doing in finding unique words. Let's apply the `list.sort()` method to make our list more legible. (We'll lose word order, but that's okay in this case!)"
   ]
  },
  {
   "cell_type": "code",
   "execution_count": null,
   "id": "8f56d41c",
   "metadata": {},
   "outputs": [],
   "source": [
    "sot4_unique_words.sort()"
   ]
  },
  {
   "cell_type": "code",
   "execution_count": null,
   "id": "32418999",
   "metadata": {
    "scrolled": true
   },
   "outputs": [],
   "source": [
    "sot4_unique_words[:50]"
   ]
  },
  {
   "cell_type": "code",
   "execution_count": null,
   "id": "8795b873",
   "metadata": {},
   "outputs": [],
   "source": [
    "sot4_unique_words[-50:]"
   ]
  },
  {
   "cell_type": "code",
   "execution_count": null,
   "id": "dc316df0",
   "metadata": {
    "slideshow": {
     "slide_type": "slide"
    }
   },
   "outputs": [],
   "source": [
    "# How can we improve our results?\n",
    "\n",
    "sot4_unique_words = []\n",
    "\n",
    "for word in sot4_words:\n",
    "    if word not in sot4_unique_words:\n",
    "        sot4_unique_words.append(word)"
   ]
  },
  {
   "cell_type": "code",
   "execution_count": null,
   "id": "b455f359",
   "metadata": {},
   "outputs": [],
   "source": [
    "sot4_unique_words[:50]"
   ]
  },
  {
   "cell_type": "code",
   "execution_count": null,
   "id": "682c2615",
   "metadata": {},
   "outputs": [],
   "source": [
    "sot4_ttr_lowered = (len(sot4_unique_words) / len(sot4_words)) * 100"
   ]
  },
  {
   "cell_type": "markdown",
   "id": "622d496c",
   "metadata": {
    "slideshow": {
     "slide_type": "slide"
    }
   },
   "source": [
    "Let's compare our two TTR results: `sot4_ttr` (capitalization present) and `sot4_ttr_lowered` (capitalization removed). Which do you think will be higher? Why? How much do you expect the two numbers to differ?"
   ]
  },
  {
   "cell_type": "code",
   "execution_count": null,
   "id": "bdbfa7c2",
   "metadata": {},
   "outputs": [],
   "source": [
    "print(sot4_ttr)\n",
    "print(sot4_ttr_lowered)"
   ]
  }
 ],
 "metadata": {
  "celltoolbar": "Slideshow",
  "kernelspec": {
   "display_name": "Python 3 (ipykernel)",
   "language": "python",
   "name": "python3"
  },
  "language_info": {
   "codemirror_mode": {
    "name": "ipython",
    "version": 3
   },
   "file_extension": ".py",
   "mimetype": "text/x-python",
   "name": "python",
   "nbconvert_exporter": "python",
   "pygments_lexer": "ipython3",
   "version": "3.12.11"
  }
 },
 "nbformat": 4,
 "nbformat_minor": 5
}
