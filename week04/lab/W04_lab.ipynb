{
 "cells": [
  {
   "cell_type": "markdown",
   "id": "5f0b3367",
   "metadata": {},
   "source": [
    "# Week 4 Lab\n",
    "\n",
    "\n",
    "## Instructions\n",
    "\n",
    "For each task, write your code in the first cell below the comment. To check that it works as intended, run the second cell. You can run the tests as many times as you like.\n",
    "\n",
    "**Big tip:** After each cell print something to check your understanding.  For example, in Task 1, print the first 10 characters of `swift` and the the first 10 words (elements) of `swift_words`.  Do they contain the data you expect to see?  (This is also a good chance to practice *slicing*)\n",
    "\n",
    "\n",
    "## Due date\n",
    "Labs are due each week on Friday at 10:00pm."
   ]
  },
  {
   "cell_type": "markdown",
   "id": "e36a5ca8",
   "metadata": {},
   "source": [
    "### Task 1: Get a list of words from a text file\n",
    "In the same folder as this notebook is `taylor-swift-folklore.txt`, which contains all the lyrics to Taylor Swift's *folklore* (2020). To get it ready for our analysis,\n",
    "* Store `taylor-swift-folklore.txt` in a string variable called `swift`"
   ]
  },
  {
   "cell_type": "code",
   "execution_count": null,
   "id": "f183b24e",
   "metadata": {},
   "outputs": [],
   "source": [
    "# Write your code here\n"
   ]
  },
  {
   "cell_type": "markdown",
   "id": "435973a3",
   "metadata": {},
   "source": [
    "* Split `swift` into words and store the result in `swift_words`"
   ]
  },
  {
   "cell_type": "code",
   "execution_count": null,
   "id": "b4fd3ae5",
   "metadata": {},
   "outputs": [],
   "source": [
    "# Write your code here\n"
   ]
  },
  {
   "cell_type": "markdown",
   "id": "e6b853b1",
   "metadata": {},
   "source": [
    "### Task 2: Lowercase the word list\n",
    "\n",
    "Create a new list, `swift_words_cleaned`, and use a `for` loop to iterate through every word in `swift_words` and convert it to lowercase letters. (All non-English characters like digits and punctuation marks should remain unchanged.)"
   ]
  },
  {
   "cell_type": "code",
   "execution_count": null,
   "id": "9631b521",
   "metadata": {},
   "outputs": [],
   "source": [
    "# Write your code here\n"
   ]
  },
  {
   "cell_type": "markdown",
   "id": "06a790a4",
   "metadata": {},
   "source": [
    "### Task 3: Make a list of all the unique words in the lowercased wordlist\n",
    "Create a new list called `swift_unique_words`. Loop through the items in `swift_words_cleaned`. If the word is not already in `swift_unique_words`, add it to the list. This will give you a list of unique words in order of first appearance."
   ]
  },
  {
   "cell_type": "code",
   "execution_count": null,
   "id": "b439445c",
   "metadata": {},
   "outputs": [],
   "source": [
    "# Write your code here\n"
   ]
  },
  {
   "cell_type": "markdown",
   "id": "50515ae6",
   "metadata": {},
   "source": [
    "### Task 4: Calculate the type-token ratio\n",
    "Count how many words are in `swift_words_cleaned` and `swift_unique_words`, and store the results in `swift_num_words` and `swift_num_unique_words`. Then divide the unique words by the total words, multiply by 100, and store the result in `swift_ttr`."
   ]
  },
  {
   "cell_type": "code",
   "execution_count": null,
   "id": "68b2db2a",
   "metadata": {},
   "outputs": [],
   "source": [
    "# Write your code here\n"
   ]
  },
  {
   "cell_type": "markdown",
   "id": "350d16d6",
   "metadata": {},
   "source": [
    "### Task 5: Short answer question\n",
    "Key Terms: microanalysis; raw data; open data; cooked data \n",
    "\n",
    "In this week’s reading, Jockers, in Macroanalysis, writes that:\n",
    "> Science has welcomed big data and scaled its methods accordingly. With a huge amount of digital-textual data, we must do the same. Close reading is not only impractical as a means of evidence gathering in the digital library, but big data render it totally inappropriate as a method of studying literary history. (8)\n",
    "\n",
    "This statement is similar to how Franco Moretti advocates for distant reading. Many of us, as literature students, might buckle at the thought of no longer engaging with close reading, but can you think of an example of macroanalysis that might be more useful than close reading alone? Can macroanalysis aid close reading?\n"
   ]
  },
  {
   "cell_type": "markdown",
   "id": "bd82ed57",
   "metadata": {},
   "source": [
    "*Write your response here*"
   ]
  },
  {
   "cell_type": "markdown",
   "id": "11bf0a68",
   "metadata": {},
   "source": [
    "## Marking Rubric\n",
    "- 2 points for the quality of the short answer question\n",
    "- 2 points for the coding questions\n",
    "\n",
    "The coding questions will be autograded in MarkUs and your mark for these questions are fully determined by the autograder.  For example if it says that 2 out of 3 tests passed successfully, your mark on the question will be 66%.\n",
    "\n",
    "When you submit your work to MarkUs, you can then *run the autograder* on your submission to see how many tests pass, and therefore what grade you'll receive on that submission.\n",
    "You can submit and run the autograder as many times as you like before the homework due date to improve your mark.\n",
    "\n",
    "**Note**: after the due date, Markus will use your *most recent submission before the due date* for the actual grading.\n",
    "\n",
    "## How to Submit\n",
    "\n",
    "1. Do the assignment by editing this notebook, writing in the designated cells.\n",
    "2. Download the completed notebook. Save it as `W04_lab.ipynb`.\n",
    "3. Log in to [MarkUs](https://markus.teach.cs.toronto.edu/markus/main/login_remote_auth) (Tip: Control/Command-click to open it in a new tab so you can still see these instructions.)\n",
    "4. Choose your course (ENG286).\n",
    "5. Click the `lab04: Lab 4` assessment.\n",
    "\n",
    "6. Click the `Submissions` tab. The new page is `Lab 4: Submissions`.\n",
    "\n",
    "7. Click button `Submit File` on the right.\n",
    "\n",
    "8. In the popup window that opens, click button `Browse`/`Choose Files` and select the `W04_lab.ipynb` file that you downloaded.\n",
    "\n",
    "## How to Run the Autograder\n",
    "\n",
    "*After* submitting your work, you can run the autograder in MarkUs by doing the following:\n",
    "\n",
    "1. On MarkUs, go to ENG286 course and the assignment page (e.g., `lab04: Lab 4`).\n",
    "2. Go to the \"Automated Testing\" tab and click on the \"Run tests\" button.\n",
    "\n",
    "If all of the rows are green, that's great! Your code is correct, and you will receive 100% on the coding part of the lab.\n",
    "If some of the rows are red, you can then make changes to your notebook on JupyterHub, and then re-submit and re-run the tests.\n",
    "You can do this as many times as you like up until the lab deadline."
   ]
  }
 ],
 "metadata": {
  "kernelspec": {
   "display_name": "base",
   "language": "python",
   "name": "python3"
  },
  "language_info": {
   "codemirror_mode": {
    "name": "ipython",
    "version": 3
   },
   "file_extension": ".py",
   "mimetype": "text/x-python",
   "name": "python",
   "nbconvert_exporter": "python",
   "pygments_lexer": "ipython3",
   "version": "3.13.5"
  }
 },
 "nbformat": 4,
 "nbformat_minor": 5
}
