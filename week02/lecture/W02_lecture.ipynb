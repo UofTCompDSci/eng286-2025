{
 "cells": [
  {
   "cell_type": "markdown",
   "id": "29ff37d6",
   "metadata": {
    "slideshow": {
     "slide_type": "slide"
    }
   },
   "source": [
    "# Week 2: Python Fundamentals"
   ]
  },
  {
   "cell_type": "markdown",
   "id": "9b431277",
   "metadata": {
    "slideshow": {
     "slide_type": "slide"
    }
   },
   "source": [
    "## A. Variables\n"
   ]
  },
  {
   "cell_type": "code",
   "execution_count": null,
   "id": "0e3361e1",
   "metadata": {},
   "outputs": [],
   "source": [
    "first_name = \"Karen\""
   ]
  },
  {
   "cell_type": "code",
   "execution_count": null,
   "id": "8026aaae",
   "metadata": {
    "scrolled": true
   },
   "outputs": [],
   "source": [
    "Karen"
   ]
  },
  {
   "cell_type": "markdown",
   "id": "d63ca101",
   "metadata": {
    "slideshow": {
     "slide_type": "slide"
    }
   },
   "source": [
    "Let's try the same thing with a number rather than text..."
   ]
  },
  {
   "cell_type": "code",
   "execution_count": null,
   "id": "fe201bcb",
   "metadata": {},
   "outputs": [],
   "source": [
    "age = 29"
   ]
  },
  {
   "cell_type": "code",
   "execution_count": null,
   "id": "4ca30067",
   "metadata": {
    "scrolled": true
   },
   "outputs": [],
   "source": [
    "age"
   ]
  },
  {
   "cell_type": "markdown",
   "id": "3f061e0b",
   "metadata": {
    "slideshow": {
     "slide_type": "slide"
    }
   },
   "source": [
    "Note that you can perform mathematical operations on the contents of this variable just by \"using\" its name."
   ]
  },
  {
   "cell_type": "code",
   "execution_count": null,
   "id": "903265d3",
   "metadata": {},
   "outputs": [],
   "source": [
    "age * 2"
   ]
  },
  {
   "cell_type": "markdown",
   "id": "f82f6eb2",
   "metadata": {
    "slideshow": {
     "slide_type": "slide"
    }
   },
   "source": [
    "You can use decimals, too..."
   ]
  },
  {
   "cell_type": "code",
   "execution_count": 3,
   "id": "58290aee",
   "metadata": {},
   "outputs": [],
   "source": [
    "longest_bike_ride = 63.5"
   ]
  },
  {
   "cell_type": "code",
   "execution_count": null,
   "id": "d8953c7d",
   "metadata": {},
   "outputs": [],
   "source": [
    "longest_bike_ride"
   ]
  },
  {
   "cell_type": "code",
   "execution_count": null,
   "id": "c6499280",
   "metadata": {
    "slideshow": {
     "slide_type": "slide"
    }
   },
   "outputs": [],
   "source": [
    "longest_bike_ride * 10"
   ]
  },
  {
   "cell_type": "markdown",
   "id": "8c9f3eef",
   "metadata": {},
   "source": [
    "Hmm.  Why is 635 printed with a .0 at the end?\n",
    "\n",
    "Let's look at this another way."
   ]
  },
  {
   "cell_type": "code",
   "execution_count": 2,
   "id": "839a39c4",
   "metadata": {},
   "outputs": [],
   "source": [
    "longest_ride_2 = 635"
   ]
  },
  {
   "cell_type": "code",
   "execution_count": null,
   "id": "331ad9e5",
   "metadata": {},
   "outputs": [],
   "source": [
    "longest_ride_2"
   ]
  },
  {
   "cell_type": "markdown",
   "id": "c82b01ac",
   "metadata": {
    "slideshow": {
     "slide_type": "slide"
    }
   },
   "source": [
    "Values have a data type.  What types have we seen so far?\n",
    "\n",
    "-\n",
    "-\n",
    "-"
   ]
  },
  {
   "cell_type": "markdown",
   "id": "6ca6cda1",
   "metadata": {
    "slideshow": {
     "slide_type": "slide"
    }
   },
   "source": [
    "There is one more simple type to introduce:"
   ]
  },
  {
   "cell_type": "code",
   "execution_count": null,
   "id": "af51fa8e",
   "metadata": {},
   "outputs": [],
   "source": [
    "l0ves_T0r0nt0 = \"True\"\n",
    "loves_Toronto = True\n"
   ]
  },
  {
   "cell_type": "code",
   "execution_count": null,
   "id": "77dc6ccc",
   "metadata": {},
   "outputs": [],
   "source": [
    "l0ves_T0r0nt0"
   ]
  },
  {
   "cell_type": "code",
   "execution_count": null,
   "id": "cfb2c304",
   "metadata": {},
   "outputs": [],
   "source": [
    "loves_Toronto"
   ]
  },
  {
   "cell_type": "markdown",
   "id": "2ca5f3d3",
   "metadata": {
    "slideshow": {
     "slide_type": "slide"
    }
   },
   "source": [
    "## B. Functions\n",
    "\n",
    "Functions combine a sequence of variable assignments an operations on variables into a package that we can call. We will learn how to define functions later.  Let's focus on *using* functions."
   ]
  },
  {
   "cell_type": "code",
   "execution_count": null,
   "id": "cdf4d460",
   "metadata": {},
   "outputs": [],
   "source": [
    "print(\"Hello world\")"
   ]
  },
  {
   "cell_type": "markdown",
   "id": "7bf943f8",
   "metadata": {
    "slideshow": {
     "slide_type": "slide"
    }
   },
   "source": [
    "Warning, programming languages are *very* strict.  If you make any mistake of any type they will let you know."
   ]
  },
  {
   "cell_type": "code",
   "execution_count": null,
   "id": "b71aa8f9",
   "metadata": {
    "scrolled": true
   },
   "outputs": [],
   "source": [
    "prnit(name)"
   ]
  },
  {
   "cell_type": "markdown",
   "id": "75ac12eb",
   "metadata": {
    "slideshow": {
     "slide_type": "slide"
    }
   },
   "source": [
    "By the way, look what just happens when we type all five variable names into their own lines in a code cell..."
   ]
  },
  {
   "cell_type": "code",
   "execution_count": null,
   "id": "268b8348",
   "metadata": {},
   "outputs": [],
   "source": [
    "name\n",
    "age\n",
    "longest_bike_ride\n",
    "loves_Toronto\n",
    "l0ves_T0r0nt0"
   ]
  },
  {
   "cell_type": "markdown",
   "id": "9a90ae76",
   "metadata": {
    "slideshow": {
     "slide_type": "slide"
    }
   },
   "source": [
    "## C. The Four Basic Data Types\n",
    "\n",
    "Without perhaps realizing it, you have now met the four basic *data types* that we'll be using in Python. They are:\n",
    "\n",
    "* **Strings** `str`\n",
    "* **Integers** `int`\n",
    "* **Floating Point Numbers** `float`\n",
    "* **Booleans** `bool`"
   ]
  },
  {
   "cell_type": "markdown",
   "id": "edee2419",
   "metadata": {
    "slideshow": {
     "slide_type": "slide"
    }
   },
   "source": [
    "Let's use another handy Python **function**, `type()`, to identify the **types** of all the variables we've created thus far."
   ]
  },
  {
   "cell_type": "code",
   "execution_count": null,
   "id": "5ca04690",
   "metadata": {
    "scrolled": true
   },
   "outputs": [],
   "source": [
    "print(name)\n",
    "type(name)"
   ]
  },
  {
   "cell_type": "markdown",
   "id": "8498310e",
   "metadata": {
    "slideshow": {
     "slide_type": "slide"
    }
   },
   "source": [
    "## D. Operators — Including the Mysterious `==`\n",
    "\n",
    "Here we're talking about mathematical or logical operators. We already met a bunch last time:\n",
    "* `+`: addition\n",
    "* `-`: subtraction\n",
    "* `*`: multiplication\n",
    "* `/`: division\n",
    "\n",
    "These all work on variables just as they would on directly-inputted numbers or text..."
   ]
  },
  {
   "cell_type": "code",
   "execution_count": null,
   "id": "62e95006",
   "metadata": {
    "slideshow": {
     "slide_type": "slide"
    }
   },
   "outputs": [],
   "source": [
    "students_per_tutorial = 18\n",
    "number_of_tutorials = 6"
   ]
  },
  {
   "cell_type": "code",
   "execution_count": null,
   "id": "d16913e7",
   "metadata": {},
   "outputs": [],
   "source": [
    "students_per_tutorial * number_of_tutorials"
   ]
  },
  {
   "cell_type": "code",
   "execution_count": null,
   "id": "0108e36b",
   "metadata": {},
   "outputs": [],
   "source": [
    "max_students = students_per_tutorial * number_of_tutorials"
   ]
  },
  {
   "cell_type": "code",
   "execution_count": null,
   "id": "3d2cd1b0",
   "metadata": {},
   "outputs": [],
   "source": [
    "print(max_students)"
   ]
  },
  {
   "cell_type": "code",
   "execution_count": null,
   "id": "313caa1b",
   "metadata": {},
   "outputs": [],
   "source": [
    "name * 40"
   ]
  },
  {
   "cell_type": "markdown",
   "id": "786034e1",
   "metadata": {
    "slideshow": {
     "slide_type": "slide"
    }
   },
   "source": [
    "Often we want to compare the values of two variables.  We need some operators for that."
   ]
  },
  {
   "cell_type": "code",
   "execution_count": null,
   "id": "2a6175bd",
   "metadata": {},
   "outputs": [],
   "source": [
    "age != 100"
   ]
  },
  {
   "cell_type": "code",
   "execution_count": null,
   "id": "56784161",
   "metadata": {},
   "outputs": [],
   "source": [
    "age > 30"
   ]
  },
  {
   "cell_type": "code",
   "execution_count": null,
   "id": "0b3b4d31",
   "metadata": {},
   "outputs": [],
   "source": [
    "age <= 29"
   ]
  },
  {
   "cell_type": "code",
   "execution_count": 1,
   "id": "308a52e7",
   "metadata": {
    "slideshow": {
     "slide_type": "slide"
    }
   },
   "outputs": [
    {
     "ename": "NameError",
     "evalue": "name 'longest_bike_ride' is not defined",
     "output_type": "error",
     "traceback": [
      "\u001b[31m---------------------------------------------------------------------------\u001b[39m",
      "\u001b[31mNameError\u001b[39m                                 Traceback (most recent call last)",
      "\u001b[36mCell\u001b[39m\u001b[36m \u001b[39m\u001b[32mIn[1]\u001b[39m\u001b[32m, line 1\u001b[39m\n\u001b[32m----> \u001b[39m\u001b[32m1\u001b[39m \u001b[43mlongest_bike_ride\u001b[49m > \u001b[32m65\u001b[39m\n",
      "\u001b[31mNameError\u001b[39m: name 'longest_bike_ride' is not defined"
     ]
    }
   ],
   "source": [
    "longest_bike_ride > 65"
   ]
  },
  {
   "cell_type": "code",
   "execution_count": 4,
   "id": "232c5bac",
   "metadata": {},
   "outputs": [
    {
     "data": {
      "text/plain": [
       "True"
      ]
     },
     "execution_count": 4,
     "metadata": {},
     "output_type": "execute_result"
    }
   ],
   "source": [
    "longest_bike_ride >= 63.5"
   ]
  },
  {
   "cell_type": "code",
   "execution_count": 5,
   "id": "0fa6f43d",
   "metadata": {
    "slideshow": {
     "slide_type": "slide"
    }
   },
   "outputs": [
    {
     "ename": "NameError",
     "evalue": "name 'age' is not defined",
     "output_type": "error",
     "traceback": [
      "\u001b[31m---------------------------------------------------------------------------\u001b[39m",
      "\u001b[31mNameError\u001b[39m                                 Traceback (most recent call last)",
      "\u001b[36mCell\u001b[39m\u001b[36m \u001b[39m\u001b[32mIn[5]\u001b[39m\u001b[32m, line 1\u001b[39m\n\u001b[32m----> \u001b[39m\u001b[32m1\u001b[39m \u001b[43mage\u001b[49m == \u001b[32m58\u001b[39m\n",
      "\u001b[31mNameError\u001b[39m: name 'age' is not defined"
     ]
    }
   ],
   "source": [
    "age == 58"
   ]
  },
  {
   "cell_type": "markdown",
   "id": "0454cd0e",
   "metadata": {
    "slideshow": {
     "slide_type": "slide"
    }
   },
   "source": [
    "Now that statement up there ^^^^ — `age == 58` — is a **major possible source of confusion** for people new to the Python programming language (i.e., all of us). \n",
    "\n",
    "The confusion comes from the fact that we all think of this symbol, `=`, as an \"equals sign\". **But that isn't quite what it means in Python.**\n",
    "\n",
    "For instance, how is the statement above different from the statement below?"
   ]
  },
  {
   "cell_type": "code",
   "execution_count": null,
   "id": "5ed7521d",
   "metadata": {},
   "outputs": [],
   "source": [
    "age = 58"
   ]
  },
  {
   "cell_type": "markdown",
   "id": "8c5c1dc5",
   "metadata": {
    "slideshow": {
     "slide_type": "slide"
    }
   },
   "source": [
    "Comparisons work for strings too, but here is a cautionary tale about `==`"
   ]
  },
  {
   "cell_type": "code",
   "execution_count": null,
   "id": "a2ea9bd0",
   "metadata": {},
   "outputs": [],
   "source": [
    "\"Karen\" == \"Karen\""
   ]
  },
  {
   "cell_type": "code",
   "execution_count": null,
   "id": "0435f21d",
   "metadata": {},
   "outputs": [],
   "source": [
    "Karen = \"Karen\""
   ]
  },
  {
   "cell_type": "code",
   "execution_count": null,
   "id": "15e78857",
   "metadata": {},
   "outputs": [],
   "source": [
    "Karen == \"Karen\""
   ]
  },
  {
   "cell_type": "code",
   "execution_count": null,
   "id": "089e3341",
   "metadata": {
    "slideshow": {
     "slide_type": "slide"
    }
   },
   "outputs": [],
   "source": [
    "print(loves_Toronto)\n",
    "loves_Toronto == True"
   ]
  },
  {
   "cell_type": "code",
   "execution_count": null,
   "id": "56c4c297",
   "metadata": {},
   "outputs": [],
   "source": [
    "type(loves_Toronto)"
   ]
  },
  {
   "cell_type": "code",
   "execution_count": null,
   "id": "e60678b1",
   "metadata": {
    "scrolled": true
   },
   "outputs": [],
   "source": [
    "print(l0ves_T0r0nt0)\n",
    "l0ves_T0r0nt0 == True"
   ]
  },
  {
   "cell_type": "code",
   "execution_count": null,
   "id": "581a68b0",
   "metadata": {},
   "outputs": [],
   "source": [
    "type(l0ves_T0r0nt0)"
   ]
  },
  {
   "cell_type": "markdown",
   "id": "eaccdfbb",
   "metadata": {
    "slideshow": {
     "slide_type": "slide"
    }
   },
   "source": [
    "## E. Printing \"f-Strings\"\n",
    "\n",
    "Below are some cells containing `print` statements for a special kind of **string** called an **f-String**. See if you can figure out the syntax of this cool and handy variation of a normal `print(string)` statement. Play around with it and see if you can break it... then fix it again!"
   ]
  },
  {
   "cell_type": "code",
   "execution_count": null,
   "id": "9320b595",
   "metadata": {
    "slideshow": {
     "slide_type": "slide"
    }
   },
   "outputs": [],
   "source": [
    "child1 = \"Evan\"\n",
    "child2 = \"Mac\"\n",
    "print(f\"I have two children: {child1} and {child2}.\")"
   ]
  },
  {
   "cell_type": "code",
   "execution_count": null,
   "id": "95c5d354",
   "metadata": {},
   "outputs": [],
   "source": [
    "print(f\"My name is {name} and I am {age} years old. My longest bike ride this summer was {longest_bike_ride} km. It is {loves_Toronto} that I love the city of Toronto.\")"
   ]
  },
  {
   "cell_type": "markdown",
   "id": "da02404a",
   "metadata": {
    "slideshow": {
     "slide_type": "slide"
    }
   },
   "source": [
    "## F. Comments (`#` and `\"\"\"`)"
   ]
  },
  {
   "cell_type": "code",
   "execution_count": null,
   "id": "cadbc8f1",
   "metadata": {},
   "outputs": [],
   "source": [
    "# In a code cell, Python will ignore this whole line of code, since there's nothing before the \"#\""
   ]
  },
  {
   "cell_type": "code",
   "execution_count": null,
   "id": "9b739cdc",
   "metadata": {},
   "outputs": [],
   "source": [
    "cat_sound = \"meow\" # Whereas in this line, it will treat everything to the left of the # as code, and ignore everything to the right \n",
    "print(cat_sound)"
   ]
  },
  {
   "cell_type": "code",
   "execution_count": null,
   "id": "d4c65ba6",
   "metadata": {},
   "outputs": [],
   "source": [
    "# print(cat_sound) — here, I put the # before the command, so Python ignores that instruction."
   ]
  },
  {
   "cell_type": "markdown",
   "id": "590bf68c",
   "metadata": {
    "slideshow": {
     "slide_type": "slide"
    }
   },
   "source": [
    "You can also comment out multi-line segments of code by using `\"\"\"` commands. For these, write `\"\"\"` on a new line of code, then write your multi-line comment, then write another `\"\"\"` on a new line of code."
   ]
  },
  {
   "cell_type": "code",
   "execution_count": 6,
   "id": "a46c8894",
   "metadata": {
    "slideshow": {
     "slide_type": "-"
    }
   },
   "outputs": [
    {
     "name": "stdout",
     "output_type": "stream",
     "text": [
      "After many years of research, I am finally ready to share my findings regarding animal sounds: cats go 'meow', dogs go 'bark', and lizards — somewhat surprisingly! — go 'sizzle sizzle.'\n"
     ]
    }
   ],
   "source": [
    "\"\"\"\n",
    "Here is an awesome bit of Python coding in which I record the sounds that the following animals make:\n",
    "-- cats\n",
    "-- dogs\n",
    "-- lizards\n",
    "Then I reveal these sounds to the unsuspecting public.\n",
    "\n",
    "Python knows to ignore these opening lines of commented-out code because they come between triple-quotation-marks\n",
    "\"\"\"\n",
    "\n",
    "cat_sound = \"meow\"\n",
    "dog_sound = \"bark\"\n",
    "lizard_sound = \"sizzle sizzle\" # I bet you didn't see that one coming!\n",
    "\n",
    "print(f\"After many years of research, I am finally ready to share my findings regarding animal sounds: cats go '{cat_sound}', dogs go '{dog_sound}', and lizards — somewhat surprisingly! — go '{lizard_sound}.'\")"
   ]
  },
  {
   "cell_type": "code",
   "execution_count": null,
   "id": "2f523bcb",
   "metadata": {
    "slideshow": {
     "slide_type": "slide"
    }
   },
   "outputs": [],
   "source": [
    "# Let's try an exercise to create a madlib\n",
    "# Here is a short poem from The Policeman's Beard is Half-Constructed with some words removed\n",
    "\n",
    "line1 = f\"{verb1} and {verb2} and {verb3} among\"\n",
    "line2 = f\"The {plural_noun}. Here and there\"\n",
    "line3 = f\"Will be found a {singular_noun}.\"\n",
    "\n",
    "# In a group create variables to create variables and then try your own.\n",
    "\n"
   ]
  }
 ],
 "metadata": {
  "celltoolbar": "Slideshow",
  "kernelspec": {
   "display_name": "Python 3 (ipykernel)",
   "language": "python",
   "name": "python3"
  },
  "language_info": {
   "codemirror_mode": {
    "name": "ipython",
    "version": 3
   },
   "file_extension": ".py",
   "mimetype": "text/x-python",
   "name": "python",
   "nbconvert_exporter": "python",
   "pygments_lexer": "ipython3",
   "version": "3.12.11"
  }
 },
 "nbformat": 4,
 "nbformat_minor": 5
}
