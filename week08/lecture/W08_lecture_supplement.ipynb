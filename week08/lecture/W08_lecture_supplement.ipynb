{
 "cells": [
  {
   "cell_type": "markdown",
   "id": "88cb1d25",
   "metadata": {
    "id": "7a7614d2"
   },
   "source": [
    "# Week 8: Lecture Supplement\n",
    "\n",
    "This notebook contains all the code used to generate `nyt_full_gender_signal.tsv` speadsheet contaiing the added `first_name` and `gender_signal` columns in the NYT Best Seller List dataset that we are working with in the main Week 8 lecture. All steps and decisions in this supplemental explained in the main Week 8 Lecture Slides. This code is provided in case you think it might be useful to your Projects — but none of the advanced coding concepts in this notebook is will be covered in the exam, unless they are present in future weeks' main Lecture Notebooks.\n",
    "\n",
    "In this notebook, we:\n",
    "* Load a dataset containing gendered counts for baby names\n",
    "* Create a dictionary (a Python data type not covered in the course to this point) in which the counts of particular names as male or female are store\n",
    "* Create another dictionary in which we assign one of four values for each name: if a name is assigned more than 90% of the time as either male or female, record is as `F` or `M`; if the ratio of assignment doesn't pass that threshold, assign it as `A` (ambiguous).\n",
    "* Extract the first names of all authors in the NYT Best Seller list, store them in a new column `first_name`\n",
    "* For each first name, assign a \"gender signal\" of `F`, `M`, or `A` based on the steps above — or assign `U`/\"unknown\" if the name doesn't appear in our list of names, or `I` if the name is an intial like J. K. Rowling. Store the predicted gender signal in a new column in the dataframe, `gender_signal`.\n",
    "* Write the DataFrame with gender signal information to a new TSV file"
   ]
  },
  {
   "cell_type": "markdown",
   "id": "066dd707",
   "metadata": {
    "id": "430a1ff8"
   },
   "source": [
    "# Step 1: Load the Datasets\n",
    "\n",
    "Here we load the `nyt_full.tsv` dataset used last time, and also load the [UCI Gender By Name Data Set](https://archive.ics.uci.edu/ml/datasets/Gender+by+Name) (`name_gender_dataset.csv`). Both are loaded as Pandas DataFrames."
   ]
  },
  {
   "cell_type": "code",
   "execution_count": 1,
   "id": "2c22b6e2",
   "metadata": {},
   "outputs": [],
   "source": [
    "import pandas as pd"
   ]
  },
  {
   "cell_type": "code",
   "execution_count": 2,
   "id": "1d804f0f",
   "metadata": {},
   "outputs": [],
   "source": [
    "nyt_df = pd.read_csv('nyt_full.tsv', sep=\"\\t\")"
   ]
  },
  {
   "cell_type": "code",
   "execution_count": 3,
   "id": "c35fc5bc",
   "metadata": {},
   "outputs": [],
   "source": [
    "n2g_df = pd.read_csv('name_gender_dataset.csv')"
   ]
  },
  {
   "cell_type": "code",
   "execution_count": 4,
   "id": "285266be",
   "metadata": {
    "scrolled": false
   },
   "outputs": [
    {
     "data": {
      "text/html": [
       "<div>\n",
       "<style scoped>\n",
       "    .dataframe tbody tr th:only-of-type {\n",
       "        vertical-align: middle;\n",
       "    }\n",
       "\n",
       "    .dataframe tbody tr th {\n",
       "        vertical-align: top;\n",
       "    }\n",
       "\n",
       "    .dataframe thead th {\n",
       "        text-align: right;\n",
       "    }\n",
       "</style>\n",
       "<table border=\"1\" class=\"dataframe\">\n",
       "  <thead>\n",
       "    <tr style=\"text-align: right;\">\n",
       "      <th></th>\n",
       "      <th>Name</th>\n",
       "      <th>Gender</th>\n",
       "      <th>Count</th>\n",
       "      <th>Probability</th>\n",
       "    </tr>\n",
       "  </thead>\n",
       "  <tbody>\n",
       "    <tr>\n",
       "      <th>0</th>\n",
       "      <td>James</td>\n",
       "      <td>M</td>\n",
       "      <td>5304407</td>\n",
       "      <td>1.451679e-02</td>\n",
       "    </tr>\n",
       "    <tr>\n",
       "      <th>1</th>\n",
       "      <td>John</td>\n",
       "      <td>M</td>\n",
       "      <td>5260831</td>\n",
       "      <td>1.439753e-02</td>\n",
       "    </tr>\n",
       "    <tr>\n",
       "      <th>2</th>\n",
       "      <td>Robert</td>\n",
       "      <td>M</td>\n",
       "      <td>4970386</td>\n",
       "      <td>1.360266e-02</td>\n",
       "    </tr>\n",
       "    <tr>\n",
       "      <th>3</th>\n",
       "      <td>Michael</td>\n",
       "      <td>M</td>\n",
       "      <td>4579950</td>\n",
       "      <td>1.253414e-02</td>\n",
       "    </tr>\n",
       "    <tr>\n",
       "      <th>4</th>\n",
       "      <td>William</td>\n",
       "      <td>M</td>\n",
       "      <td>4226608</td>\n",
       "      <td>1.156713e-02</td>\n",
       "    </tr>\n",
       "    <tr>\n",
       "      <th>...</th>\n",
       "      <td>...</td>\n",
       "      <td>...</td>\n",
       "      <td>...</td>\n",
       "      <td>...</td>\n",
       "    </tr>\n",
       "    <tr>\n",
       "      <th>147264</th>\n",
       "      <td>Zylenn</td>\n",
       "      <td>M</td>\n",
       "      <td>1</td>\n",
       "      <td>2.736740e-09</td>\n",
       "    </tr>\n",
       "    <tr>\n",
       "      <th>147265</th>\n",
       "      <td>Zymeon</td>\n",
       "      <td>M</td>\n",
       "      <td>1</td>\n",
       "      <td>2.736740e-09</td>\n",
       "    </tr>\n",
       "    <tr>\n",
       "      <th>147266</th>\n",
       "      <td>Zyndel</td>\n",
       "      <td>M</td>\n",
       "      <td>1</td>\n",
       "      <td>2.736740e-09</td>\n",
       "    </tr>\n",
       "    <tr>\n",
       "      <th>147267</th>\n",
       "      <td>Zyshan</td>\n",
       "      <td>M</td>\n",
       "      <td>1</td>\n",
       "      <td>2.736740e-09</td>\n",
       "    </tr>\n",
       "    <tr>\n",
       "      <th>147268</th>\n",
       "      <td>Zyton</td>\n",
       "      <td>M</td>\n",
       "      <td>1</td>\n",
       "      <td>2.736740e-09</td>\n",
       "    </tr>\n",
       "  </tbody>\n",
       "</table>\n",
       "<p>147269 rows × 4 columns</p>\n",
       "</div>"
      ],
      "text/plain": [
       "           Name Gender    Count   Probability\n",
       "0         James      M  5304407  1.451679e-02\n",
       "1          John      M  5260831  1.439753e-02\n",
       "2        Robert      M  4970386  1.360266e-02\n",
       "3       Michael      M  4579950  1.253414e-02\n",
       "4       William      M  4226608  1.156713e-02\n",
       "...         ...    ...      ...           ...\n",
       "147264   Zylenn      M        1  2.736740e-09\n",
       "147265   Zymeon      M        1  2.736740e-09\n",
       "147266   Zyndel      M        1  2.736740e-09\n",
       "147267   Zyshan      M        1  2.736740e-09\n",
       "147268    Zyton      M        1  2.736740e-09\n",
       "\n",
       "[147269 rows x 4 columns]"
      ]
     },
     "execution_count": 4,
     "metadata": {},
     "output_type": "execute_result"
    }
   ],
   "source": [
    "n2g_df"
   ]
  },
  {
   "cell_type": "markdown",
   "id": "3c8dc0ab",
   "metadata": {},
   "source": [
    "As you can see, the dataset contains 147,269 names, and for each gives a binary gender (M/F) and a count for the number of times that name was given to a baby in the US, UK, Canadian, and Australian data (see main lecture slides or the link to the dataset page above for more details on the dataset and its sources). We will use the `Name`, `Gender`, and `Count` columns here. \n",
    "\n",
    "Below, you can see how many \"male\" and \"female\" names are in the dataset."
   ]
  },
  {
   "cell_type": "code",
   "execution_count": 5,
   "id": "099c8a12",
   "metadata": {},
   "outputs": [
    {
     "data": {
      "text/plain": [
       "Gender\n",
       "F    89749\n",
       "M    57520\n",
       "Name: count, dtype: int64"
      ]
     },
     "execution_count": 5,
     "metadata": {},
     "output_type": "execute_result"
    }
   ],
   "source": [
    "n2g_df['Gender'].value_counts()"
   ]
  },
  {
   "cell_type": "markdown",
   "id": "95b89541",
   "metadata": {},
   "source": [
    "Below, we see that many names appear *twice* in the dataset. This indicates that M and F counts are given in separate rows. There are not in fact 147,269 unique names; there are 133,910, with many appearing with both M and F counts."
   ]
  },
  {
   "cell_type": "code",
   "execution_count": 6,
   "id": "745d1e5d",
   "metadata": {},
   "outputs": [
    {
     "data": {
      "text/plain": [
       "Name\n",
       "James        2\n",
       "Doni         2\n",
       "Audley       2\n",
       "Rhodes       2\n",
       "Moran        2\n",
       "            ..\n",
       "Manard       1\n",
       "Macksen      1\n",
       "Lonas        1\n",
       "Lethaniel    1\n",
       "Zyton        1\n",
       "Name: count, Length: 133910, dtype: int64"
      ]
     },
     "execution_count": 6,
     "metadata": {},
     "output_type": "execute_result"
    }
   ],
   "source": [
    "n2g_df['Name'].value_counts()"
   ]
  },
  {
   "cell_type": "markdown",
   "id": "33acc127",
   "metadata": {},
   "source": [
    "# Step 2: Organize Data into a Dictionary to Easily Extract M and F Counts for Each Name\n",
    "\n",
    "Below, we go row-by-row through the `n2g_df` dataset to extract the counts for each name and store them in a new Python data type, a dictionary. "
   ]
  },
  {
   "cell_type": "code",
   "execution_count": 7,
   "id": "8bb6e759",
   "metadata": {
    "scrolled": false
   },
   "outputs": [
    {
     "data": {
      "text/html": [
       "<div>\n",
       "<style scoped>\n",
       "    .dataframe tbody tr th:only-of-type {\n",
       "        vertical-align: middle;\n",
       "    }\n",
       "\n",
       "    .dataframe tbody tr th {\n",
       "        vertical-align: top;\n",
       "    }\n",
       "\n",
       "    .dataframe thead th {\n",
       "        text-align: right;\n",
       "    }\n",
       "</style>\n",
       "<table border=\"1\" class=\"dataframe\">\n",
       "  <thead>\n",
       "    <tr style=\"text-align: right;\">\n",
       "      <th></th>\n",
       "      <th>Name</th>\n",
       "      <th>Gender</th>\n",
       "      <th>Count</th>\n",
       "      <th>Probability</th>\n",
       "    </tr>\n",
       "  </thead>\n",
       "  <tbody>\n",
       "    <tr>\n",
       "      <th>0</th>\n",
       "      <td>James</td>\n",
       "      <td>M</td>\n",
       "      <td>5304407</td>\n",
       "      <td>0.014517</td>\n",
       "    </tr>\n",
       "    <tr>\n",
       "      <th>1</th>\n",
       "      <td>John</td>\n",
       "      <td>M</td>\n",
       "      <td>5260831</td>\n",
       "      <td>0.014398</td>\n",
       "    </tr>\n",
       "    <tr>\n",
       "      <th>2</th>\n",
       "      <td>Robert</td>\n",
       "      <td>M</td>\n",
       "      <td>4970386</td>\n",
       "      <td>0.013603</td>\n",
       "    </tr>\n",
       "    <tr>\n",
       "      <th>3</th>\n",
       "      <td>Michael</td>\n",
       "      <td>M</td>\n",
       "      <td>4579950</td>\n",
       "      <td>0.012534</td>\n",
       "    </tr>\n",
       "    <tr>\n",
       "      <th>4</th>\n",
       "      <td>William</td>\n",
       "      <td>M</td>\n",
       "      <td>4226608</td>\n",
       "      <td>0.011567</td>\n",
       "    </tr>\n",
       "  </tbody>\n",
       "</table>\n",
       "</div>"
      ],
      "text/plain": [
       "      Name Gender    Count  Probability\n",
       "0    James      M  5304407     0.014517\n",
       "1     John      M  5260831     0.014398\n",
       "2   Robert      M  4970386     0.013603\n",
       "3  Michael      M  4579950     0.012534\n",
       "4  William      M  4226608     0.011567"
      ]
     },
     "execution_count": 7,
     "metadata": {},
     "output_type": "execute_result"
    }
   ],
   "source": [
    "n2g_df.head()"
   ]
  },
  {
   "cell_type": "markdown",
   "id": "62009c18",
   "metadata": {},
   "source": [
    "We will use the Pandas `.iterrows()` method [(documented here)](https://pandas.pydata.org/docs/reference/api/pandas.DataFrame.iterrows.html) to *iterate through* the dataset row by row."
   ]
  },
  {
   "cell_type": "code",
   "execution_count": 8,
   "id": "4f224b68",
   "metadata": {},
   "outputs": [
    {
     "data": {
      "text/plain": [
       "<generator object DataFrame.iterrows at 0x126a3c040>"
      ]
     },
     "execution_count": 8,
     "metadata": {},
     "output_type": "execute_result"
    }
   ],
   "source": [
    "n2g_df.head().iterrows()"
   ]
  },
  {
   "cell_type": "markdown",
   "id": "566f8e5a",
   "metadata": {},
   "source": [
    "`.iterrows()` returns each row of the DataFrame as a Pandas Series. In the `for` loop below, we call the \"index\" (the row index 0-4 in the DataFrame head above) `i` and the row of data itself `row`. "
   ]
  },
  {
   "cell_type": "code",
   "execution_count": 9,
   "id": "19f6c21e",
   "metadata": {
    "scrolled": true
   },
   "outputs": [
    {
     "name": "stdout",
     "output_type": "stream",
     "text": [
      "0\n",
      "Name              James\n",
      "Gender                M\n",
      "Count           5304407\n",
      "Probability    0.014517\n",
      "Name: 0, dtype: object\n",
      "1\n",
      "Name               John\n",
      "Gender                M\n",
      "Count           5260831\n",
      "Probability    0.014398\n",
      "Name: 1, dtype: object\n",
      "2\n",
      "Name             Robert\n",
      "Gender                M\n",
      "Count           4970386\n",
      "Probability    0.013603\n",
      "Name: 2, dtype: object\n",
      "3\n",
      "Name            Michael\n",
      "Gender                M\n",
      "Count           4579950\n",
      "Probability    0.012534\n",
      "Name: 3, dtype: object\n",
      "4\n",
      "Name            William\n",
      "Gender                M\n",
      "Count           4226608\n",
      "Probability    0.011567\n",
      "Name: 4, dtype: object\n"
     ]
    }
   ],
   "source": [
    "for i, row in n2g_df.head().iterrows():\n",
    "    print(i)\n",
    "    print(row)"
   ]
  },
  {
   "cell_type": "markdown",
   "id": "1b16eb22",
   "metadata": {},
   "source": [
    "`row` can be further subsetted as follows:\n",
    "- `row['Name']` contains the Name value\n",
    "- `row['Gender']` contains the Gender label\n",
    "- `row['Count']` contains the Count value\n",
    "- `row['Probability']` contains the Probability value, which we won't be using.\n",
    "\n",
    "Below, we create an empty Python Dictionary named `name2counts`. Dictionaries are a new data type, of which [Melanie Walsh offers a terrific overview here](https://melaniewalsh.github.io/Intro-Cultural-Analytics/02-Python/11-Dictionaries.html).\n",
    "\n",
    "We will be creating a nested dictionary. At the first level will be an individual name. At the second level, each name will have \"M\" and \"F\" keys, and the values will be the raw counts from `n2g_df`. \n",
    "\n",
    "In the loop we first check to see if the name in that row is a new name.  If it is new, then we need to create a dictionary that will record the number of times this name has been seen as \"M\" or \"F\".  Once we are sure that there is an entry for the row's name in the name2counts dictionary, we can can record whether this row's name is designated \"M\" or \"F\".  (We know from the data set that each name will only appear once for each gender designation.)"
   ]
  },
  {
   "cell_type": "code",
   "execution_count": 10,
   "id": "340357d1",
   "metadata": {},
   "outputs": [],
   "source": [
    "# Create a new empty dictionary\n",
    "name2counts = {}    \n",
    "\n",
    "# Iterate through the rows of the gender data dataframe\n",
    "for i, row in n2g_df.iterrows():  \n",
    "\n",
    "    name = row['Name'] \n",
    "    # If we haven't yet encountered a particular name...   \n",
    "    if name not in name2counts:\n",
    "        # ... create an empty spot for that name in names2counts    \n",
    "        name2counts[name] = {'F':0, 'M': 0}\n",
    "\n",
    "    name2counts[name][row['Gender']] = row['Count']  \n",
    " "
   ]
  },
  {
   "cell_type": "markdown",
   "id": "51e19349",
   "metadata": {},
   "source": [
    "The above leaves us with a dictionary called `name2counts` that contains every name in theGender by Name dataset, and has M and F counts for each."
   ]
  },
  {
   "cell_type": "code",
   "execution_count": 11,
   "id": "df4207c2",
   "metadata": {},
   "outputs": [
    {
     "data": {
      "text/plain": [
       "dict"
      ]
     },
     "execution_count": 11,
     "metadata": {},
     "output_type": "execute_result"
    }
   ],
   "source": [
    "type(name2counts)"
   ]
  },
  {
   "cell_type": "code",
   "execution_count": 12,
   "id": "ac3ff72d",
   "metadata": {},
   "outputs": [
    {
     "data": {
      "text/plain": [
       "133910"
      ]
     },
     "execution_count": 12,
     "metadata": {},
     "output_type": "execute_result"
    }
   ],
   "source": [
    "len(name2counts)"
   ]
  },
  {
   "cell_type": "markdown",
   "id": "55841b6e",
   "metadata": {},
   "source": [
    "We access the data in this dictionary not with index numbers or ranges (as in a list) but rather by the name itself."
   ]
  },
  {
   "cell_type": "code",
   "execution_count": 13,
   "id": "d2d697b5",
   "metadata": {},
   "outputs": [
    {
     "data": {
      "text/plain": [
       "{'F': 2, 'M': 0}"
      ]
     },
     "execution_count": 13,
     "metadata": {},
     "output_type": "execute_result"
    }
   ],
   "source": [
    "name2counts['Ngaio']"
   ]
  },
  {
   "cell_type": "code",
   "execution_count": 14,
   "id": "77371988",
   "metadata": {},
   "outputs": [
    {
     "data": {
      "text/plain": [
       "{'F': 0, 'M': 2}"
      ]
     },
     "execution_count": 14,
     "metadata": {},
     "output_type": "execute_result"
    }
   ],
   "source": [
    "name2counts['Dr.']"
   ]
  },
  {
   "cell_type": "code",
   "execution_count": 15,
   "id": "9a2ede14",
   "metadata": {},
   "outputs": [
    {
     "data": {
      "text/plain": [
       "{'F': 10001, 'M': 1495736}"
      ]
     },
     "execution_count": 15,
     "metadata": {},
     "output_type": "execute_result"
    }
   ],
   "source": [
    "name2counts['George']"
   ]
  },
  {
   "cell_type": "code",
   "execution_count": 16,
   "id": "5a228003",
   "metadata": {},
   "outputs": [
    {
     "data": {
      "text/plain": [
       "{'F': 583016, 'M': 1890}"
      ]
     },
     "execution_count": 16,
     "metadata": {},
     "output_type": "execute_result"
    }
   ],
   "source": [
    "name2counts['Evelyn']"
   ]
  },
  {
   "cell_type": "code",
   "execution_count": 17,
   "id": "68dfef36",
   "metadata": {},
   "outputs": [
    {
     "data": {
      "text/plain": [
       "{'F': 274, 'M': 408}"
      ]
     },
     "execution_count": 17,
     "metadata": {},
     "output_type": "execute_result"
    }
   ],
   "source": [
    "name2counts['Halsey']"
   ]
  },
  {
   "cell_type": "code",
   "execution_count": 18,
   "id": "792c9761",
   "metadata": {},
   "outputs": [
    {
     "data": {
      "text/plain": [
       "{'F': 9486, 'M': 286229}"
      ]
     },
     "execution_count": 18,
     "metadata": {},
     "output_type": "execute_result"
    }
   ],
   "source": [
    "name2counts['Alex']"
   ]
  },
  {
   "cell_type": "markdown",
   "id": "3214f954",
   "metadata": {},
   "source": [
    "If we want to access the actual counts, a secondlevel of subsetting needs to be done. This is what is happening the last line of the loop above that is creating name2counts."
   ]
  },
  {
   "cell_type": "code",
   "execution_count": 19,
   "id": "59a8667f",
   "metadata": {},
   "outputs": [
    {
     "data": {
      "text/plain": [
       "286229"
      ]
     },
     "execution_count": 19,
     "metadata": {},
     "output_type": "execute_result"
    }
   ],
   "source": [
    "name2counts['Alex']['M']"
   ]
  },
  {
   "cell_type": "markdown",
   "id": "13863cd1",
   "metadata": {},
   "source": [
    "# Step 3: Set a Threshold for \"Ambiguous\" Names\n",
    "\n",
    "Now that we have raw counts for each of our names, we can set a threshold within which the names in our NYT Best Seller List might send an ambigious gender signal — names likely to prompt readers to be uncertain of the author's binary gender. We will begin by setting this threshold at 90%: if 90% or more of the counts for a given name are `M` or `F`, we will consider that a strong gender signal and apply that label; otherwise, we will label it `A` or ambiguous.\n",
    "\n",
    "Do you think this threshold is right? Should Alex be considered ambiguous? We will record it as `M` given our 90% threshold — but perhaps you believe that threshold is too generous, and it should be 97%?"
   ]
  },
  {
   "cell_type": "code",
   "execution_count": 20,
   "id": "26c8538f",
   "metadata": {},
   "outputs": [
    {
     "data": {
      "text/plain": [
       "0.03207818338603047"
      ]
     },
     "execution_count": 20,
     "metadata": {},
     "output_type": "execute_result"
    }
   ],
   "source": [
    "name2counts['Alex']['F'] / (name2counts['Alex']['M'] + name2counts['Alex']['F'])"
   ]
  },
  {
   "cell_type": "markdown",
   "id": "47273fb5",
   "metadata": {},
   "source": [
    "Below, we create another dictionary that evaluates the counts of a particular name in the `name2counts` dictionary created above, and assigns a value to each name of `F`, `M`, or `A`.\n",
    "\n",
    "The `for` loop below uses the `.items()` method to iterate through all the items in the `name2counts` dictionary.\n",
    "\n",
    "You can alter the thresholds by changing the code below."
   ]
  },
  {
   "cell_type": "code",
   "execution_count": null,
   "id": "03e10264",
   "metadata": {},
   "outputs": [
    {
     "data": {
      "text/plain": [
       "'M'"
      ]
     },
     "execution_count": 39,
     "metadata": {},
     "output_type": "execute_result"
    }
   ],
   "source": [
    "name2genders = {}    # This creates a new name2genders dictionary in which we're able to apply a threshold...\n",
    "for name, counts in name2counts.items():\n",
    "    \n",
    "    f_count = counts['F']    # Pulls out the M counts for each name\n",
    "    m_count = counts['M']    # Pulls out the F counts for each name\n",
    "    \n",
    "    if m_count == 0 or f_count/(m_count+f_count) >= 0.9:    # If there are no M counts, or if the F count is 90% or more of the total count, label it as F\n",
    "        name2genders[name] = 'F'\n",
    "    elif f_count == 0 or m_count/(f_count+m_count) >= 0.9:    # As above, but reversed for M/F\n",
    "        name2genders[name] = 'M'\n",
    "    else:\n",
    "        name2genders[name] = 'A'    # If the name doesn't meet either threshold, label the name as A\n"
   ]
  },
  {
   "cell_type": "markdown",
   "id": "420c1daa",
   "metadata": {},
   "source": [
    "# Step 4: Extract First Names from the Author Column of the NYT Best Seller List Dataset\n",
    "\n",
    "We now have a dictionary that will allow us to approximate the gender signal for nearly 134,000 first names. In order to apply that to our dataset, we need to isolate the first names of all the authors in our dataset. To do this, we will use our old friend, the `.split()` method, split on spaces (`.split(\" \")`), and look at the first item in the returned list."
   ]
  },
  {
   "cell_type": "code",
   "execution_count": 22,
   "id": "23540d73",
   "metadata": {},
   "outputs": [
    {
     "data": {
      "text/html": [
       "<div>\n",
       "<style scoped>\n",
       "    .dataframe tbody tr th:only-of-type {\n",
       "        vertical-align: middle;\n",
       "    }\n",
       "\n",
       "    .dataframe tbody tr th {\n",
       "        vertical-align: top;\n",
       "    }\n",
       "\n",
       "    .dataframe thead th {\n",
       "        text-align: right;\n",
       "    }\n",
       "</style>\n",
       "<table border=\"1\" class=\"dataframe\">\n",
       "  <thead>\n",
       "    <tr style=\"text-align: right;\">\n",
       "      <th></th>\n",
       "      <th>year</th>\n",
       "      <th>week</th>\n",
       "      <th>rank</th>\n",
       "      <th>title_id</th>\n",
       "      <th>title</th>\n",
       "      <th>author</th>\n",
       "    </tr>\n",
       "  </thead>\n",
       "  <tbody>\n",
       "    <tr>\n",
       "      <th>0</th>\n",
       "      <td>1931</td>\n",
       "      <td>1931-10-12</td>\n",
       "      <td>1</td>\n",
       "      <td>6477</td>\n",
       "      <td>THE TEN COMMANDMENTS</td>\n",
       "      <td>Warwick Deeping</td>\n",
       "    </tr>\n",
       "    <tr>\n",
       "      <th>1</th>\n",
       "      <td>1931</td>\n",
       "      <td>1931-10-12</td>\n",
       "      <td>2</td>\n",
       "      <td>1808</td>\n",
       "      <td>FINCHE'S FORTUNE</td>\n",
       "      <td>Mazo de la Roche</td>\n",
       "    </tr>\n",
       "    <tr>\n",
       "      <th>2</th>\n",
       "      <td>1931</td>\n",
       "      <td>1931-10-12</td>\n",
       "      <td>3</td>\n",
       "      <td>5304</td>\n",
       "      <td>THE GOOD EARTH</td>\n",
       "      <td>Pearl S. Buck</td>\n",
       "    </tr>\n",
       "    <tr>\n",
       "      <th>3</th>\n",
       "      <td>1931</td>\n",
       "      <td>1931-10-12</td>\n",
       "      <td>4</td>\n",
       "      <td>4038</td>\n",
       "      <td>SHADOWS ON THE ROCK</td>\n",
       "      <td>Willa Cather</td>\n",
       "    </tr>\n",
       "    <tr>\n",
       "      <th>4</th>\n",
       "      <td>1931</td>\n",
       "      <td>1931-10-12</td>\n",
       "      <td>5</td>\n",
       "      <td>3946</td>\n",
       "      <td>SCARMOUCHE THE KING MAKER</td>\n",
       "      <td>Rafael Sabatini</td>\n",
       "    </tr>\n",
       "    <tr>\n",
       "      <th>...</th>\n",
       "      <td>...</td>\n",
       "      <td>...</td>\n",
       "      <td>...</td>\n",
       "      <td>...</td>\n",
       "      <td>...</td>\n",
       "      <td>...</td>\n",
       "    </tr>\n",
       "    <tr>\n",
       "      <th>60381</th>\n",
       "      <td>2020</td>\n",
       "      <td>2020-12-06</td>\n",
       "      <td>11</td>\n",
       "      <td>2332</td>\n",
       "      <td>I WOULD LEAVE ME IF I COULD</td>\n",
       "      <td>Halsey</td>\n",
       "    </tr>\n",
       "    <tr>\n",
       "      <th>60382</th>\n",
       "      <td>2020</td>\n",
       "      <td>2020-12-06</td>\n",
       "      <td>12</td>\n",
       "      <td>6601</td>\n",
       "      <td>THE VANISHING HALF</td>\n",
       "      <td>Brit Bennett</td>\n",
       "    </tr>\n",
       "    <tr>\n",
       "      <th>60383</th>\n",
       "      <td>2020</td>\n",
       "      <td>2020-12-06</td>\n",
       "      <td>13</td>\n",
       "      <td>7239</td>\n",
       "      <td>WHERE THE CRAWDADS SING</td>\n",
       "      <td>Delia Owens</td>\n",
       "    </tr>\n",
       "    <tr>\n",
       "      <th>60384</th>\n",
       "      <td>2020</td>\n",
       "      <td>2020-12-06</td>\n",
       "      <td>14</td>\n",
       "      <td>482</td>\n",
       "      <td>ANXIOUS PEOPLE</td>\n",
       "      <td>Fredrik Backman</td>\n",
       "    </tr>\n",
       "    <tr>\n",
       "      <th>60385</th>\n",
       "      <td>2020</td>\n",
       "      <td>2020-12-06</td>\n",
       "      <td>15</td>\n",
       "      <td>2902</td>\n",
       "      <td>MARAUDER</td>\n",
       "      <td>Clive Cussler and Boyd Morrison</td>\n",
       "    </tr>\n",
       "  </tbody>\n",
       "</table>\n",
       "<p>60386 rows × 6 columns</p>\n",
       "</div>"
      ],
      "text/plain": [
       "       year        week  rank  title_id                        title  \\\n",
       "0      1931  1931-10-12     1      6477         THE TEN COMMANDMENTS   \n",
       "1      1931  1931-10-12     2      1808             FINCHE'S FORTUNE   \n",
       "2      1931  1931-10-12     3      5304               THE GOOD EARTH   \n",
       "3      1931  1931-10-12     4      4038          SHADOWS ON THE ROCK   \n",
       "4      1931  1931-10-12     5      3946    SCARMOUCHE THE KING MAKER   \n",
       "...     ...         ...   ...       ...                          ...   \n",
       "60381  2020  2020-12-06    11      2332  I WOULD LEAVE ME IF I COULD   \n",
       "60382  2020  2020-12-06    12      6601           THE VANISHING HALF   \n",
       "60383  2020  2020-12-06    13      7239      WHERE THE CRAWDADS SING   \n",
       "60384  2020  2020-12-06    14       482               ANXIOUS PEOPLE   \n",
       "60385  2020  2020-12-06    15      2902                     MARAUDER   \n",
       "\n",
       "                                author  \n",
       "0                      Warwick Deeping  \n",
       "1                     Mazo de la Roche  \n",
       "2                        Pearl S. Buck  \n",
       "3                         Willa Cather  \n",
       "4                      Rafael Sabatini  \n",
       "...                                ...  \n",
       "60381                           Halsey  \n",
       "60382                     Brit Bennett  \n",
       "60383                      Delia Owens  \n",
       "60384                  Fredrik Backman  \n",
       "60385  Clive Cussler and Boyd Morrison  \n",
       "\n",
       "[60386 rows x 6 columns]"
      ]
     },
     "execution_count": 22,
     "metadata": {},
     "output_type": "execute_result"
    }
   ],
   "source": [
    "nyt_df"
   ]
  },
  {
   "cell_type": "code",
   "execution_count": 23,
   "id": "5d5ce8be",
   "metadata": {},
   "outputs": [
    {
     "data": {
      "text/plain": [
       "['John', 'Doe']"
      ]
     },
     "execution_count": 23,
     "metadata": {},
     "output_type": "execute_result"
    }
   ],
   "source": [
    "sample_name = \"John Doe\"\n",
    "sample_name.split(\" \") # This is a method we know well! Splits a string into a list. "
   ]
  },
  {
   "cell_type": "code",
   "execution_count": 24,
   "id": "07de92ef",
   "metadata": {},
   "outputs": [
    {
     "data": {
      "text/plain": [
       "'John'"
      ]
     },
     "execution_count": 24,
     "metadata": {},
     "output_type": "execute_result"
    }
   ],
   "source": [
    "sample_name.split(\" \")[0] # The first item in the list is the first name"
   ]
  },
  {
   "cell_type": "code",
   "execution_count": 25,
   "id": "521832b1",
   "metadata": {},
   "outputs": [
    {
     "name": "stdout",
     "output_type": "stream",
     "text": [
      "['A.', 'John', 'Doe']\n",
      "A.\n"
     ]
    }
   ],
   "source": [
    "sample_name = \"A. John Doe\"\n",
    "sample_name.split(\" \")\n",
    "print(sample_name.split(\" \"))\n",
    "print(sample_name.split(\" \")[0]) # ... or the first \"whatever\" in the Author field, rather. \"A.\" is not a name but an initial."
   ]
  },
  {
   "cell_type": "code",
   "execution_count": 26,
   "id": "2b083c64",
   "metadata": {},
   "outputs": [
    {
     "name": "stdout",
     "output_type": "stream",
     "text": [
      "['Clive', 'Cussler', 'and', 'Boyd', 'Morrison']\n",
      "Clive\n"
     ]
    }
   ],
   "source": [
    "sample_name = \"Clive Cussler and Boyd Morrison\"\n",
    "sample_name.split(\" \")\n",
    "print(sample_name.split(\" \"))\n",
    "print(sample_name.split(\" \")[0]) # Our method also can't account for second authors, only those names first"
   ]
  },
  {
   "cell_type": "markdown",
   "id": "d36f5d63",
   "metadata": {},
   "source": [
    "Our task seems like a simple one: use `.split(\" \")` to extract all first names, then stick them in a new column of the dataframe. But it's not terribly straighforward to apply a method like `.split(\" \")` to all the author name values in our Pandas DataFrame. At least, it isn't straighforward *yet*!\n",
    "\n",
    "- Pandads will allow us to apply any **function** to any column of the dataset using its `.apply()` method.\n",
    "- But `s.split(\" \")` isn't a **function**; it's a string method.\n",
    "- So we need to *create a new function* that applies the `s.split(\" \")` method, and extracts the first item from the resulting list\n",
    "\n",
    "Below, we create a function called `get_first_name` that does just want we want to do. Melanie Walsh has [a great overview of functions and how to create or *define* them](https://melaniewalsh.github.io/Intro-Cultural-Analytics/02-Python/12-Functions.html)."
   ]
  },
  {
   "cell_type": "code",
   "execution_count": 27,
   "id": "c8f2a79d",
   "metadata": {},
   "outputs": [],
   "source": [
    "def get_first_name(name):\n",
    "    first_name = name.split(\" \")[0]\n",
    "    return first_name"
   ]
  },
  {
   "cell_type": "markdown",
   "id": "9f47736b",
   "metadata": {},
   "source": [
    "While we're at it, let's also get rid of those ugly upper-case titles, and create another function (`make_text_title_case()`) that applies the Python `s.title()` string method."
   ]
  },
  {
   "cell_type": "code",
   "execution_count": 28,
   "id": "48ce1489",
   "metadata": {},
   "outputs": [],
   "source": [
    "def make_text_title_case(text):\n",
    "    title_case_text = text.title()\n",
    "    return title_case_text"
   ]
  },
  {
   "cell_type": "code",
   "execution_count": 29,
   "id": "f7fb9f62",
   "metadata": {},
   "outputs": [
    {
     "data": {
      "text/plain": [
       "'The Good Earth'"
      ]
     },
     "execution_count": 29,
     "metadata": {},
     "output_type": "execute_result"
    }
   ],
   "source": [
    "make_text_title_case(\"THE GOOD EARTH\")"
   ]
  },
  {
   "cell_type": "markdown",
   "id": "e34b9e86",
   "metadata": {},
   "source": [
    "Below, we use the Pandas `.apply(function)` method to apply our newly-defined `make_text_title_case(text)` function to every value in the `'title'` column.\n",
    "\n",
    "More more on `.apply()`, see [Melanie Walsh's discussion](https://melaniewalsh.github.io/Intro-Cultural-Analytics/03-Data-Analysis/03-Pandas-Basics-Part3.html#applying-functions)."
   ]
  },
  {
   "cell_type": "code",
   "execution_count": 30,
   "id": "551b7070",
   "metadata": {
    "scrolled": true
   },
   "outputs": [
    {
     "data": {
      "text/plain": [
       "0               The Ten Commandments\n",
       "1                   Finche'S Fortune\n",
       "2                     The Good Earth\n",
       "3                Shadows On The Rock\n",
       "4          Scarmouche The King Maker\n",
       "                    ...             \n",
       "60381    I Would Leave Me If I Could\n",
       "60382             The Vanishing Half\n",
       "60383        Where The Crawdads Sing\n",
       "60384                 Anxious People\n",
       "60385                       Marauder\n",
       "Name: title, Length: 60386, dtype: object"
      ]
     },
     "execution_count": 30,
     "metadata": {},
     "output_type": "execute_result"
    }
   ],
   "source": [
    "nyt_df['title'].apply(make_text_title_case)"
   ]
  },
  {
   "cell_type": "markdown",
   "id": "de7eed2e",
   "metadata": {},
   "source": [
    "Now let's actually *use* the output above. The below line replaces the previous contents of the `'title'` column with the newly lowecases ones."
   ]
  },
  {
   "cell_type": "code",
   "execution_count": 31,
   "id": "e5556c59",
   "metadata": {},
   "outputs": [],
   "source": [
    "nyt_df['title'] = nyt_df['title'].apply(make_text_title_case)"
   ]
  },
  {
   "cell_type": "code",
   "execution_count": 32,
   "id": "d69fccbf",
   "metadata": {},
   "outputs": [
    {
     "data": {
      "text/html": [
       "<div>\n",
       "<style scoped>\n",
       "    .dataframe tbody tr th:only-of-type {\n",
       "        vertical-align: middle;\n",
       "    }\n",
       "\n",
       "    .dataframe tbody tr th {\n",
       "        vertical-align: top;\n",
       "    }\n",
       "\n",
       "    .dataframe thead th {\n",
       "        text-align: right;\n",
       "    }\n",
       "</style>\n",
       "<table border=\"1\" class=\"dataframe\">\n",
       "  <thead>\n",
       "    <tr style=\"text-align: right;\">\n",
       "      <th></th>\n",
       "      <th>year</th>\n",
       "      <th>week</th>\n",
       "      <th>rank</th>\n",
       "      <th>title_id</th>\n",
       "      <th>title</th>\n",
       "      <th>author</th>\n",
       "    </tr>\n",
       "  </thead>\n",
       "  <tbody>\n",
       "    <tr>\n",
       "      <th>0</th>\n",
       "      <td>1931</td>\n",
       "      <td>1931-10-12</td>\n",
       "      <td>1</td>\n",
       "      <td>6477</td>\n",
       "      <td>The Ten Commandments</td>\n",
       "      <td>Warwick Deeping</td>\n",
       "    </tr>\n",
       "    <tr>\n",
       "      <th>1</th>\n",
       "      <td>1931</td>\n",
       "      <td>1931-10-12</td>\n",
       "      <td>2</td>\n",
       "      <td>1808</td>\n",
       "      <td>Finche'S Fortune</td>\n",
       "      <td>Mazo de la Roche</td>\n",
       "    </tr>\n",
       "    <tr>\n",
       "      <th>2</th>\n",
       "      <td>1931</td>\n",
       "      <td>1931-10-12</td>\n",
       "      <td>3</td>\n",
       "      <td>5304</td>\n",
       "      <td>The Good Earth</td>\n",
       "      <td>Pearl S. Buck</td>\n",
       "    </tr>\n",
       "    <tr>\n",
       "      <th>3</th>\n",
       "      <td>1931</td>\n",
       "      <td>1931-10-12</td>\n",
       "      <td>4</td>\n",
       "      <td>4038</td>\n",
       "      <td>Shadows On The Rock</td>\n",
       "      <td>Willa Cather</td>\n",
       "    </tr>\n",
       "    <tr>\n",
       "      <th>4</th>\n",
       "      <td>1931</td>\n",
       "      <td>1931-10-12</td>\n",
       "      <td>5</td>\n",
       "      <td>3946</td>\n",
       "      <td>Scarmouche The King Maker</td>\n",
       "      <td>Rafael Sabatini</td>\n",
       "    </tr>\n",
       "  </tbody>\n",
       "</table>\n",
       "</div>"
      ],
      "text/plain": [
       "   year        week  rank  title_id                      title  \\\n",
       "0  1931  1931-10-12     1      6477       The Ten Commandments   \n",
       "1  1931  1931-10-12     2      1808           Finche'S Fortune   \n",
       "2  1931  1931-10-12     3      5304             The Good Earth   \n",
       "3  1931  1931-10-12     4      4038        Shadows On The Rock   \n",
       "4  1931  1931-10-12     5      3946  Scarmouche The King Maker   \n",
       "\n",
       "             author  \n",
       "0   Warwick Deeping  \n",
       "1  Mazo de la Roche  \n",
       "2     Pearl S. Buck  \n",
       "3      Willa Cather  \n",
       "4   Rafael Sabatini  "
      ]
     },
     "execution_count": 32,
     "metadata": {},
     "output_type": "execute_result"
    }
   ],
   "source": [
    "nyt_df.head()"
   ]
  },
  {
   "cell_type": "markdown",
   "id": "973ea9e3",
   "metadata": {},
   "source": [
    "Now let's create a new column, `'first_name'`, that contains all the first names extracted by our `get_first_name()` function."
   ]
  },
  {
   "cell_type": "code",
   "execution_count": 33,
   "id": "08321e9a",
   "metadata": {},
   "outputs": [],
   "source": [
    "nyt_df['first_name'] = nyt_df['author'].apply(get_first_name)"
   ]
  },
  {
   "cell_type": "code",
   "execution_count": 34,
   "id": "88eada10",
   "metadata": {},
   "outputs": [
    {
     "data": {
      "text/html": [
       "<div>\n",
       "<style scoped>\n",
       "    .dataframe tbody tr th:only-of-type {\n",
       "        vertical-align: middle;\n",
       "    }\n",
       "\n",
       "    .dataframe tbody tr th {\n",
       "        vertical-align: top;\n",
       "    }\n",
       "\n",
       "    .dataframe thead th {\n",
       "        text-align: right;\n",
       "    }\n",
       "</style>\n",
       "<table border=\"1\" class=\"dataframe\">\n",
       "  <thead>\n",
       "    <tr style=\"text-align: right;\">\n",
       "      <th></th>\n",
       "      <th>year</th>\n",
       "      <th>week</th>\n",
       "      <th>rank</th>\n",
       "      <th>title_id</th>\n",
       "      <th>title</th>\n",
       "      <th>author</th>\n",
       "      <th>first_name</th>\n",
       "    </tr>\n",
       "  </thead>\n",
       "  <tbody>\n",
       "    <tr>\n",
       "      <th>0</th>\n",
       "      <td>1931</td>\n",
       "      <td>1931-10-12</td>\n",
       "      <td>1</td>\n",
       "      <td>6477</td>\n",
       "      <td>The Ten Commandments</td>\n",
       "      <td>Warwick Deeping</td>\n",
       "      <td>Warwick</td>\n",
       "    </tr>\n",
       "    <tr>\n",
       "      <th>1</th>\n",
       "      <td>1931</td>\n",
       "      <td>1931-10-12</td>\n",
       "      <td>2</td>\n",
       "      <td>1808</td>\n",
       "      <td>Finche'S Fortune</td>\n",
       "      <td>Mazo de la Roche</td>\n",
       "      <td>Mazo</td>\n",
       "    </tr>\n",
       "    <tr>\n",
       "      <th>2</th>\n",
       "      <td>1931</td>\n",
       "      <td>1931-10-12</td>\n",
       "      <td>3</td>\n",
       "      <td>5304</td>\n",
       "      <td>The Good Earth</td>\n",
       "      <td>Pearl S. Buck</td>\n",
       "      <td>Pearl</td>\n",
       "    </tr>\n",
       "    <tr>\n",
       "      <th>3</th>\n",
       "      <td>1931</td>\n",
       "      <td>1931-10-12</td>\n",
       "      <td>4</td>\n",
       "      <td>4038</td>\n",
       "      <td>Shadows On The Rock</td>\n",
       "      <td>Willa Cather</td>\n",
       "      <td>Willa</td>\n",
       "    </tr>\n",
       "    <tr>\n",
       "      <th>4</th>\n",
       "      <td>1931</td>\n",
       "      <td>1931-10-12</td>\n",
       "      <td>5</td>\n",
       "      <td>3946</td>\n",
       "      <td>Scarmouche The King Maker</td>\n",
       "      <td>Rafael Sabatini</td>\n",
       "      <td>Rafael</td>\n",
       "    </tr>\n",
       "    <tr>\n",
       "      <th>...</th>\n",
       "      <td>...</td>\n",
       "      <td>...</td>\n",
       "      <td>...</td>\n",
       "      <td>...</td>\n",
       "      <td>...</td>\n",
       "      <td>...</td>\n",
       "      <td>...</td>\n",
       "    </tr>\n",
       "    <tr>\n",
       "      <th>60381</th>\n",
       "      <td>2020</td>\n",
       "      <td>2020-12-06</td>\n",
       "      <td>11</td>\n",
       "      <td>2332</td>\n",
       "      <td>I Would Leave Me If I Could</td>\n",
       "      <td>Halsey</td>\n",
       "      <td>Halsey</td>\n",
       "    </tr>\n",
       "    <tr>\n",
       "      <th>60382</th>\n",
       "      <td>2020</td>\n",
       "      <td>2020-12-06</td>\n",
       "      <td>12</td>\n",
       "      <td>6601</td>\n",
       "      <td>The Vanishing Half</td>\n",
       "      <td>Brit Bennett</td>\n",
       "      <td>Brit</td>\n",
       "    </tr>\n",
       "    <tr>\n",
       "      <th>60383</th>\n",
       "      <td>2020</td>\n",
       "      <td>2020-12-06</td>\n",
       "      <td>13</td>\n",
       "      <td>7239</td>\n",
       "      <td>Where The Crawdads Sing</td>\n",
       "      <td>Delia Owens</td>\n",
       "      <td>Delia</td>\n",
       "    </tr>\n",
       "    <tr>\n",
       "      <th>60384</th>\n",
       "      <td>2020</td>\n",
       "      <td>2020-12-06</td>\n",
       "      <td>14</td>\n",
       "      <td>482</td>\n",
       "      <td>Anxious People</td>\n",
       "      <td>Fredrik Backman</td>\n",
       "      <td>Fredrik</td>\n",
       "    </tr>\n",
       "    <tr>\n",
       "      <th>60385</th>\n",
       "      <td>2020</td>\n",
       "      <td>2020-12-06</td>\n",
       "      <td>15</td>\n",
       "      <td>2902</td>\n",
       "      <td>Marauder</td>\n",
       "      <td>Clive Cussler and Boyd Morrison</td>\n",
       "      <td>Clive</td>\n",
       "    </tr>\n",
       "  </tbody>\n",
       "</table>\n",
       "<p>60386 rows × 7 columns</p>\n",
       "</div>"
      ],
      "text/plain": [
       "       year        week  rank  title_id                        title  \\\n",
       "0      1931  1931-10-12     1      6477         The Ten Commandments   \n",
       "1      1931  1931-10-12     2      1808             Finche'S Fortune   \n",
       "2      1931  1931-10-12     3      5304               The Good Earth   \n",
       "3      1931  1931-10-12     4      4038          Shadows On The Rock   \n",
       "4      1931  1931-10-12     5      3946    Scarmouche The King Maker   \n",
       "...     ...         ...   ...       ...                          ...   \n",
       "60381  2020  2020-12-06    11      2332  I Would Leave Me If I Could   \n",
       "60382  2020  2020-12-06    12      6601           The Vanishing Half   \n",
       "60383  2020  2020-12-06    13      7239      Where The Crawdads Sing   \n",
       "60384  2020  2020-12-06    14       482               Anxious People   \n",
       "60385  2020  2020-12-06    15      2902                     Marauder   \n",
       "\n",
       "                                author first_name  \n",
       "0                      Warwick Deeping    Warwick  \n",
       "1                     Mazo de la Roche       Mazo  \n",
       "2                        Pearl S. Buck      Pearl  \n",
       "3                         Willa Cather      Willa  \n",
       "4                      Rafael Sabatini     Rafael  \n",
       "...                                ...        ...  \n",
       "60381                           Halsey     Halsey  \n",
       "60382                     Brit Bennett       Brit  \n",
       "60383                      Delia Owens      Delia  \n",
       "60384                  Fredrik Backman    Fredrik  \n",
       "60385  Clive Cussler and Boyd Morrison      Clive  \n",
       "\n",
       "[60386 rows x 7 columns]"
      ]
     },
     "execution_count": 34,
     "metadata": {},
     "output_type": "execute_result"
    }
   ],
   "source": [
    "nyt_df"
   ]
  },
  {
   "cell_type": "markdown",
   "id": "94ff9da5",
   "metadata": {},
   "source": [
    "# Step 5: Store Gender Signal Approximations in a New Column in the DataFrame\n",
    "\n",
    "We will now create another function, `get_gender_signal()`, that applies the gender label stored in the `name2genders` dictionary, or:\n",
    "- if a particular name in the NYT Best Seller List is not in theGender by Name data, apply `U` for \"unknown\"\n",
    "- if a particular name is one character long, or one character followed by a period, apply `I` for \"initials\", we we will later interpret as a name with a masked gender signal\n",
    "\n",
    "Once we've made this function, we'll apply it to the `'first_name'` column of `nyt_df`, and store the results in a new column, `gender`."
   ]
  },
  {
   "cell_type": "code",
   "execution_count": 35,
   "id": "620693ab",
   "metadata": {},
   "outputs": [],
   "source": [
    "def get_gender_signal(name):\n",
    "    gender = 'U'\n",
    "    if name in name2genders:\n",
    "        gender = name2genders[name]\n",
    "    if len(name) == 1 or name[1] == '.': # This is a separate if statement bc even if an initial name happens to be in theGender by Name dataset, we want to treat it differently ourselves...\n",
    "        gender = 'I'\n",
    "    return gender"
   ]
  },
  {
   "cell_type": "code",
   "execution_count": 36,
   "id": "1f0131b2",
   "metadata": {},
   "outputs": [],
   "source": [
    "nyt_df['gender_signal'] = nyt_df['first_name'].apply(get_gender_signal)"
   ]
  },
  {
   "cell_type": "code",
   "execution_count": 37,
   "id": "dfd51eb6",
   "metadata": {
    "scrolled": true
   },
   "outputs": [
    {
     "data": {
      "text/html": [
       "<div>\n",
       "<style scoped>\n",
       "    .dataframe tbody tr th:only-of-type {\n",
       "        vertical-align: middle;\n",
       "    }\n",
       "\n",
       "    .dataframe tbody tr th {\n",
       "        vertical-align: top;\n",
       "    }\n",
       "\n",
       "    .dataframe thead th {\n",
       "        text-align: right;\n",
       "    }\n",
       "</style>\n",
       "<table border=\"1\" class=\"dataframe\">\n",
       "  <thead>\n",
       "    <tr style=\"text-align: right;\">\n",
       "      <th></th>\n",
       "      <th>year</th>\n",
       "      <th>week</th>\n",
       "      <th>rank</th>\n",
       "      <th>title_id</th>\n",
       "      <th>title</th>\n",
       "      <th>author</th>\n",
       "      <th>first_name</th>\n",
       "      <th>gender_signal</th>\n",
       "    </tr>\n",
       "  </thead>\n",
       "  <tbody>\n",
       "    <tr>\n",
       "      <th>0</th>\n",
       "      <td>1931</td>\n",
       "      <td>1931-10-12</td>\n",
       "      <td>1</td>\n",
       "      <td>6477</td>\n",
       "      <td>The Ten Commandments</td>\n",
       "      <td>Warwick Deeping</td>\n",
       "      <td>Warwick</td>\n",
       "      <td>M</td>\n",
       "    </tr>\n",
       "    <tr>\n",
       "      <th>1</th>\n",
       "      <td>1931</td>\n",
       "      <td>1931-10-12</td>\n",
       "      <td>2</td>\n",
       "      <td>1808</td>\n",
       "      <td>Finche'S Fortune</td>\n",
       "      <td>Mazo de la Roche</td>\n",
       "      <td>Mazo</td>\n",
       "      <td>U</td>\n",
       "    </tr>\n",
       "    <tr>\n",
       "      <th>2</th>\n",
       "      <td>1931</td>\n",
       "      <td>1931-10-12</td>\n",
       "      <td>3</td>\n",
       "      <td>5304</td>\n",
       "      <td>The Good Earth</td>\n",
       "      <td>Pearl S. Buck</td>\n",
       "      <td>Pearl</td>\n",
       "      <td>F</td>\n",
       "    </tr>\n",
       "    <tr>\n",
       "      <th>3</th>\n",
       "      <td>1931</td>\n",
       "      <td>1931-10-12</td>\n",
       "      <td>4</td>\n",
       "      <td>4038</td>\n",
       "      <td>Shadows On The Rock</td>\n",
       "      <td>Willa Cather</td>\n",
       "      <td>Willa</td>\n",
       "      <td>F</td>\n",
       "    </tr>\n",
       "    <tr>\n",
       "      <th>4</th>\n",
       "      <td>1931</td>\n",
       "      <td>1931-10-12</td>\n",
       "      <td>5</td>\n",
       "      <td>3946</td>\n",
       "      <td>Scarmouche The King Maker</td>\n",
       "      <td>Rafael Sabatini</td>\n",
       "      <td>Rafael</td>\n",
       "      <td>M</td>\n",
       "    </tr>\n",
       "    <tr>\n",
       "      <th>5</th>\n",
       "      <td>1931</td>\n",
       "      <td>1931-11-16</td>\n",
       "      <td>1</td>\n",
       "      <td>2878</td>\n",
       "      <td>Maid In Waiting</td>\n",
       "      <td>John Galsworthy</td>\n",
       "      <td>John</td>\n",
       "      <td>M</td>\n",
       "    </tr>\n",
       "    <tr>\n",
       "      <th>6</th>\n",
       "      <td>1931</td>\n",
       "      <td>1931-11-16</td>\n",
       "      <td>2</td>\n",
       "      <td>7031</td>\n",
       "      <td>Two People</td>\n",
       "      <td>A. A. Milne</td>\n",
       "      <td>A.</td>\n",
       "      <td>I</td>\n",
       "    </tr>\n",
       "    <tr>\n",
       "      <th>7</th>\n",
       "      <td>1931</td>\n",
       "      <td>1931-11-16</td>\n",
       "      <td>3</td>\n",
       "      <td>413</td>\n",
       "      <td>American Beauty</td>\n",
       "      <td>Edna Ferber</td>\n",
       "      <td>Edna</td>\n",
       "      <td>F</td>\n",
       "    </tr>\n",
       "    <tr>\n",
       "      <th>8</th>\n",
       "      <td>1931</td>\n",
       "      <td>1931-11-16</td>\n",
       "      <td>4</td>\n",
       "      <td>859</td>\n",
       "      <td>Broome Stages</td>\n",
       "      <td>Clemence Dane</td>\n",
       "      <td>Clemence</td>\n",
       "      <td>A</td>\n",
       "    </tr>\n",
       "    <tr>\n",
       "      <th>9</th>\n",
       "      <td>1931</td>\n",
       "      <td>1931-11-16</td>\n",
       "      <td>5</td>\n",
       "      <td>4235</td>\n",
       "      <td>Sparks Fly Upward</td>\n",
       "      <td>Oliver LaFarge</td>\n",
       "      <td>Oliver</td>\n",
       "      <td>M</td>\n",
       "    </tr>\n",
       "  </tbody>\n",
       "</table>\n",
       "</div>"
      ],
      "text/plain": [
       "   year        week  rank  title_id                      title  \\\n",
       "0  1931  1931-10-12     1      6477       The Ten Commandments   \n",
       "1  1931  1931-10-12     2      1808           Finche'S Fortune   \n",
       "2  1931  1931-10-12     3      5304             The Good Earth   \n",
       "3  1931  1931-10-12     4      4038        Shadows On The Rock   \n",
       "4  1931  1931-10-12     5      3946  Scarmouche The King Maker   \n",
       "5  1931  1931-11-16     1      2878            Maid In Waiting   \n",
       "6  1931  1931-11-16     2      7031                 Two People   \n",
       "7  1931  1931-11-16     3       413            American Beauty   \n",
       "8  1931  1931-11-16     4       859              Broome Stages   \n",
       "9  1931  1931-11-16     5      4235          Sparks Fly Upward   \n",
       "\n",
       "             author first_name gender_signal  \n",
       "0   Warwick Deeping    Warwick             M  \n",
       "1  Mazo de la Roche       Mazo             U  \n",
       "2     Pearl S. Buck      Pearl             F  \n",
       "3      Willa Cather      Willa             F  \n",
       "4   Rafael Sabatini     Rafael             M  \n",
       "5   John Galsworthy       John             M  \n",
       "6       A. A. Milne         A.             I  \n",
       "7       Edna Ferber       Edna             F  \n",
       "8     Clemence Dane   Clemence             A  \n",
       "9    Oliver LaFarge     Oliver             M  "
      ]
     },
     "execution_count": 37,
     "metadata": {},
     "output_type": "execute_result"
    }
   ],
   "source": [
    "nyt_df.head(10)"
   ]
  },
  {
   "cell_type": "markdown",
   "id": "77bae7ca",
   "metadata": {},
   "source": [
    "# Step 6: Write the DataFrame with Gender Signal Approximations to a TSV\n",
    "\n",
    "Finally, let's write all this to a TSV file that we can open in our main lecture notebook, and begin the next steps of our investigation...\n",
    "\n",
    "For this, we'll use Pandas's `.to_csv()` method and the `sep=\"\\t\"` delimiter."
   ]
  },
  {
   "cell_type": "code",
   "execution_count": 38,
   "id": "f76da149",
   "metadata": {},
   "outputs": [],
   "source": [
    "nyt_df.to_csv(\"nyt_full_gendersignal.tsv\", sep=\"\\t\", encoding='utf-8', index=False)"
   ]
  },
  {
   "cell_type": "code",
   "execution_count": null,
   "id": "51344ea9",
   "metadata": {},
   "outputs": [],
   "source": []
  }
 ],
 "metadata": {
  "colab": {
   "name": "Week 8.ipynb",
   "provenance": []
  },
  "kernelspec": {
   "display_name": "base",
   "language": "python",
   "name": "python3"
  },
  "language_info": {
   "codemirror_mode": {
    "name": "ipython",
    "version": 3
   },
   "file_extension": ".py",
   "mimetype": "text/x-python",
   "name": "python",
   "nbconvert_exporter": "python",
   "pygments_lexer": "ipython3",
   "version": "3.12.2"
  }
 },
 "nbformat": 4,
 "nbformat_minor": 5
}
