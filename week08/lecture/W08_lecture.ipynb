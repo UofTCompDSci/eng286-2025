{
 "cells": [
  {
   "cell_type": "markdown",
   "id": "4a4c67df",
   "metadata": {
    "id": "7a7614d2",
    "slideshow": {
     "slide_type": "slide"
    }
   },
   "source": [
    "# Week 8: Analyzing Gender Signals in the NYT Best Seller List\n",
    "\n",
    "Today we will focus on aggregating data using `.groupby()` and `.sum()`\n",
    "\n",
    "Along the way, we will need a few other Pandas methods to help organize the data."
   ]
  },
  {
   "cell_type": "markdown",
   "id": "066dd707",
   "metadata": {
    "id": "430a1ff8",
    "slideshow": {
     "slide_type": "slide"
    }
   },
   "source": [
    "## Gender Signal\n",
    "We will use the Gender By Name dataset to automate assigning a gender to names in our NYT Best Seller Data\n",
    "We use the first word in the `author` column to approximate a `gender_signal` which can take one of five values:\n",
    "- `F` **Female**: first names given to children of female sex in the Gender By Name dataset 90% or more of the time\n",
    "- `M` **Male**: first names given to children of male sex in the Gender By Name dataset 90% or more of the time\n",
    "- `A` **Ambiguous**: first names that do not meet either of the 90% thresholds listed above\n",
    "- `U` **Unknown**: first names that do not appear in the Gender By Name dataset\n",
    "- `I` **Initials**: authors whose gender is masked by names given only as initials"
   ]
  },
  {
   "cell_type": "code",
   "execution_count": null,
   "id": "11339bcf",
   "metadata": {
    "scrolled": true,
    "slideshow": {
     "slide_type": "slide"
    }
   },
   "outputs": [],
   "source": [
    "import pandas as pd\n",
    "\n",
    "nytg_df = pd.read_csv('nyt_full_gender_signal.tsv', sep=\"\\t\")\n",
    "nytg_df"
   ]
  },
  {
   "cell_type": "markdown",
   "id": "4b8eac99",
   "metadata": {
    "slideshow": {
     "slide_type": "slide"
    }
   },
   "source": [
    "Now, using a technique introduced last class, let's get the value counts for each of these categories in the `gender_signal` column."
   ]
  },
  {
   "cell_type": "code",
   "execution_count": null,
   "id": "75868ac8",
   "metadata": {
    "scrolled": false
   },
   "outputs": [],
   "source": [
    "nytg_df['gender_signal'].value_counts()"
   ]
  },
  {
   "cell_type": "markdown",
   "id": "e1afa649",
   "metadata": {
    "slideshow": {
     "slide_type": "slide"
    }
   },
   "source": [
    "Again, using a technique introduced last class, let's produce a pie chart that demonstrates the relative proprtion of each gender signal category in the dataset."
   ]
  },
  {
   "cell_type": "code",
   "execution_count": null,
   "id": "08c9d86f",
   "metadata": {
    "scrolled": true
   },
   "outputs": [],
   "source": [
    "plot = nytg_df['gender_signal'].value_counts().plot(kind=\"pie\", figsize=(6, 6))\n",
    "print(plot)"
   ]
  },
  {
   "cell_type": "markdown",
   "id": "02614c19",
   "metadata": {
    "slideshow": {
     "slide_type": "slide"
    }
   },
   "source": [
    "Let's look at some of this data.  What names fall into the Ambiguous category.\n",
    "\n",
    "We use a filter (boolean Series) to extract the rows where `gender_signal` is `\"A\"`"
   ]
  },
  {
   "cell_type": "code",
   "execution_count": null,
   "id": "9e46eb77",
   "metadata": {},
   "outputs": [],
   "source": [
    "gender_filter = nytg_df['gender_signal']=='A'\n",
    "type(gender_filter)"
   ]
  },
  {
   "cell_type": "code",
   "execution_count": null,
   "id": "56189816",
   "metadata": {
    "scrolled": true
   },
   "outputs": [],
   "source": [
    "nytg_df[gender_filter]"
   ]
  },
  {
   "cell_type": "markdown",
   "id": "4b16f0fb",
   "metadata": {
    "slideshow": {
     "slide_type": "slide"
    }
   },
   "source": [
    "Note that the above line of code is equivalent to the below (as discussed in last week's lecture notebook). We just think the above is a bit more legible."
   ]
  },
  {
   "cell_type": "code",
   "execution_count": null,
   "id": "d13827cc",
   "metadata": {},
   "outputs": [],
   "source": [
    "nytg_df[nytg_df['gender_signal']=='A']"
   ]
  },
  {
   "cell_type": "markdown",
   "id": "6d95e449",
   "metadata": {
    "slideshow": {
     "slide_type": "slide"
    }
   },
   "source": [
    "Now let's select only the `\"first_name\"` column, and call the `.unique()` method to see all the unique names that our method has identified as `\"A\"`"
   ]
  },
  {
   "cell_type": "code",
   "execution_count": null,
   "id": "584ef581",
   "metadata": {
    "scrolled": false
   },
   "outputs": [],
   "source": [
    "# get the data frame with only \"A\" gender_signals\n",
    "\n",
    "# selet the first_names column\n",
    "\n",
    "# call .unique() on the first names column to get a list of the unique names\n",
    "\n"
   ]
  },
  {
   "cell_type": "markdown",
   "id": "a65eb31e",
   "metadata": {
    "slideshow": {
     "slide_type": "slide"
    }
   },
   "source": [
    "And now let's repeat that for the `\"U\"`, `\"I\"` — and much larger `\"F\"` and `\"M\"` — categories. How well is our gender system doing? What are its blind spots? How could it be improved?"
   ]
  },
  {
   "cell_type": "code",
   "execution_count": null,
   "id": "4794fa9a",
   "metadata": {},
   "outputs": [],
   "source": [
    "gender_filter = nytg_df['gender_signal']=='I'\n",
    "sorted(nytg_df[gender_filter]['first_name'].unique())"
   ]
  },
  {
   "cell_type": "markdown",
   "id": "3b35d727",
   "metadata": {
    "slideshow": {
     "slide_type": "slide"
    }
   },
   "source": [
    "# Getting the Gender Signal Data into a Useful Form\n",
    "\n",
    "Let's suppose we've decided our gender signal information is sufficient to proceed with our analysis. The immediate challenge, then, is to get the data into a useful form.\n",
    "\n",
    "We're interested in knowing how many authors of each gender signal category appears for every year of the dataset.\n",
    "\n",
    "What data type do want to get our data into? What colums and rows do we want to see, and how do we want them organized? What will the actual values look like?"
   ]
  },
  {
   "cell_type": "markdown",
   "id": "77154280",
   "metadata": {
    "slideshow": {
     "slide_type": "slide"
    }
   },
   "source": [
    "## `.groupby()`\n",
    "\n",
    "Let's start our journey with the `.groupby()` method, which allows us to group the data by particular columns and perform calculations on it. For instance, let's try grouping out `nytg_df` DataFrame by the `gender_signal` column."
   ]
  },
  {
   "cell_type": "code",
   "execution_count": null,
   "id": "fc7bb088",
   "metadata": {},
   "outputs": [],
   "source": [
    "nytg_df.groupby(\"gender_signal\")"
   ]
  },
  {
   "cell_type": "markdown",
   "id": "4a8d8d47",
   "metadata": {},
   "source": [
    "The above command produces a \"GroupBy\" object."
   ]
  },
  {
   "cell_type": "code",
   "execution_count": null,
   "id": "2ab16244",
   "metadata": {},
   "outputs": [],
   "source": [
    "type(nytg_df.groupby(\"gender_signal\"))"
   ]
  },
  {
   "cell_type": "markdown",
   "id": "8f4e5779",
   "metadata": {
    "slideshow": {
     "slide_type": "slide"
    }
   },
   "source": [
    "We can perform a few methods on these GroupBy objects. Let's start with `.count()`"
   ]
  },
  {
   "cell_type": "code",
   "execution_count": null,
   "id": "3f0d6015",
   "metadata": {},
   "outputs": [],
   "source": [
    "nytg_df.groupby(\"gender_signal\").count()"
   ]
  },
  {
   "cell_type": "code",
   "execution_count": null,
   "id": "398d1beb",
   "metadata": {
    "slideshow": {
     "slide_type": "slide"
    }
   },
   "outputs": [],
   "source": [
    "# Use size instead of count to get the number of rows\n",
    "nytg_df.groupby(\"gender_signal\").size()"
   ]
  },
  {
   "cell_type": "markdown",
   "id": "d9ef5207",
   "metadata": {
    "slideshow": {
     "slide_type": "slide"
    }
   },
   "source": [
    "If we use `.count()` on the `\"year\"` column, what do we get?"
   ]
  },
  {
   "cell_type": "code",
   "execution_count": null,
   "id": "823e7b4e",
   "metadata": {
    "scrolled": true
   },
   "outputs": [],
   "source": [
    "nytg_df.groupby(\"year\").count()"
   ]
  },
  {
   "cell_type": "code",
   "execution_count": null,
   "id": "d0442fac",
   "metadata": {
    "scrolled": true,
    "slideshow": {
     "slide_type": "slide"
    }
   },
   "outputs": [],
   "source": [
    "nytg_df.groupby([\"year\", \"gender_signal\"]).size()"
   ]
  },
  {
   "cell_type": "markdown",
   "id": "bf0a5a92",
   "metadata": {
    "slideshow": {
     "slide_type": "slide"
    }
   },
   "source": [
    "The only issue here is that the gender signal categories are \"embedded within\" each year — when what we need is just a DataFrame where the years are rows and the columns are the gender categories. \n",
    "\n",
    "In Pandas-speak, the gender signal values are \"stacked\" within the year — and we need to `.unstack()` them!"
   ]
  },
  {
   "cell_type": "code",
   "execution_count": null,
   "id": "b90a5c58",
   "metadata": {
    "slideshow": {
     "slide_type": "slide"
    }
   },
   "outputs": [],
   "source": [
    "nytg_df.groupby(['year', 'gender_signal']).size().unstack()"
   ]
  },
  {
   "cell_type": "markdown",
   "id": "f717f4ea",
   "metadata": {
    "slideshow": {
     "slide_type": "slide"
    }
   },
   "source": [
    "This is *almost* excactly what we need. There is only one problem now: not all years have values for all categories, which will confuse our efforts to work with the data in the next stages. For instance, 2016 has `NaN` for `U` — \"Not a Number,\" indicating missing data. \n",
    "\n",
    "Thankfully our friend `.unstack()` will take an argument that tells it what to do with any `NaN` situations. In this case, we want it to replace all those with `0`."
   ]
  },
  {
   "cell_type": "code",
   "execution_count": null,
   "id": "0b48bcf7",
   "metadata": {
    "scrolled": true
   },
   "outputs": [],
   "source": [
    "nytg_df.groupby(['year', 'gender_signal']).size().unstack(fill_value=0)"
   ]
  },
  {
   "cell_type": "markdown",
   "id": "72fe7058",
   "metadata": {
    "slideshow": {
     "slide_type": "slide"
    }
   },
   "source": [
    "Hooray! That's what we need! Let's stick it in a variable.\n",
    "\n",
    "This is one of those patterns that you want to store away for later use.  "
   ]
  },
  {
   "cell_type": "code",
   "execution_count": null,
   "id": "d21d219e",
   "metadata": {},
   "outputs": [],
   "source": [
    "year_counts = nytg_df.groupby(['year', 'gender_signal']).size().unstack(fill_value=0)\n",
    "year_counts"
   ]
  },
  {
   "cell_type": "markdown",
   "id": "97f57b18",
   "metadata": {
    "slideshow": {
     "slide_type": "slide"
    }
   },
   "source": [
    "# Calculate Proportion of Each Category for Each Year\n",
    "\n",
    "\n",
    "To calculate **proportions**, we will divide the count for each category by the total number of values for that year. First we need the sum of the values across a row.\n",
    "\n",
    "## `.sum()`\n",
    "\n",
    "\n",
    "And indeed, the Pandas method we need to calculate the sum of the values in a row is... `.sum()`!\n",
    "\n",
    "By default, it gives you the sum of *columns* (a \"vertical\" sum)."
   ]
  },
  {
   "cell_type": "code",
   "execution_count": null,
   "id": "f2913316",
   "metadata": {
    "scrolled": true,
    "slideshow": {
     "slide_type": "slide"
    }
   },
   "outputs": [],
   "source": [
    "year_counts.sum()"
   ]
  },
  {
   "cell_type": "markdown",
   "id": "a2d5c0ce",
   "metadata": {
    "slideshow": {
     "slide_type": "slide"
    }
   },
   "source": [
    "We can specify that we want the sum of the values in a *row* (a \"horizontal\" sum) by setting the `axis` to `1`.\n",
    "\n",
    "(Yes, this is a weird detail, but it comes from the fact that these operations have a default direction, and the default for sum is to sum up a column, so we need away to tell it to use a different direction.  The designers chose the word axis to label the change in direction.)"
   ]
  },
  {
   "cell_type": "code",
   "execution_count": null,
   "id": "4add5b2b",
   "metadata": {
    "scrolled": true
   },
   "outputs": [],
   "source": [
    "year_counts.sum(axis=1)"
   ]
  },
  {
   "cell_type": "markdown",
   "id": "40fa35d3",
   "metadata": {
    "slideshow": {
     "slide_type": "slide"
    }
   },
   "source": [
    "## Adding a Column to a DataFrame and Filling It with Values\n",
    "\n",
    "Let's add a new column to our `year_counts` DataFrame that contains these sums. \n",
    "\n",
    "The syntax below does the job:\n",
    "- `year_counts['total']` creates a new column and calls it `\"total\"`\n",
    "- `year_counts.sum(axis=1)` stuffs that new column with the values created above"
   ]
  },
  {
   "cell_type": "code",
   "execution_count": null,
   "id": "dbaa278b",
   "metadata": {},
   "outputs": [],
   "source": [
    "year_counts['total'] = year_counts.sum(axis=1)"
   ]
  },
  {
   "cell_type": "code",
   "execution_count": null,
   "id": "d92beccb",
   "metadata": {
    "scrolled": true,
    "slideshow": {
     "slide_type": "slide"
    }
   },
   "outputs": [],
   "source": [
    "year_counts"
   ]
  },
  {
   "cell_type": "markdown",
   "id": "ade7efdc",
   "metadata": {
    "slideshow": {
     "slide_type": "slide"
    }
   },
   "source": [
    "## Calculating Proportions and Adding Them to a New Row\n",
    "\n",
    "Now let's calculate the proportions we discussed above. \n",
    "\n",
    "Once again, we'll create a new column and stuff it full of new values. Here we will calculate the percentage of `F` labels in every year: number of `F` counts divided by the total number of counts that year, multiplied by 100. Pandas knows we want to perform this calculation for every single row."
   ]
  },
  {
   "cell_type": "code",
   "execution_count": null,
   "id": "73ec125f",
   "metadata": {},
   "outputs": [],
   "source": [
    "year_counts['prop-F'] = (year_counts['F']/year_counts['total']) * 100"
   ]
  },
  {
   "cell_type": "code",
   "execution_count": null,
   "id": "21bdb2d9",
   "metadata": {
    "scrolled": true,
    "slideshow": {
     "slide_type": "slide"
    }
   },
   "outputs": [],
   "source": [
    "year_counts"
   ]
  },
  {
   "cell_type": "code",
   "execution_count": null,
   "id": "850f235d",
   "metadata": {
    "scrolled": true,
    "slideshow": {
     "slide_type": "slide"
    }
   },
   "outputs": [],
   "source": [
    "plot = year_counts['prop-F'].plot(\n",
    "    kind='bar', \n",
    "    title='Percentage of authors with female first-name gender signals in each year', \n",
    "    figsize=(15,6))\n",
    "print(plot)"
   ]
  },
  {
   "cell_type": "markdown",
   "id": "135a490a",
   "metadata": {
    "slideshow": {
     "slide_type": "slide"
    }
   },
   "source": [
    "Let's now create proportional columns for all the other gender signal categories."
   ]
  },
  {
   "cell_type": "code",
   "execution_count": null,
   "id": "7d3be332",
   "metadata": {},
   "outputs": [],
   "source": [
    "year_counts['prop-A'] = (year_counts['A']/year_counts['total']) * 100\n",
    "year_counts['prop-M'] = (year_counts['M']/year_counts['total']) * 100\n",
    "year_counts['prop-U'] = (year_counts['U']/year_counts['total']) * 100\n",
    "year_counts['prop-I'] = (year_counts['I']/year_counts['total']) * 100\n",
    "year_counts"
   ]
  },
  {
   "cell_type": "code",
   "execution_count": null,
   "id": "0543f56e",
   "metadata": {
    "slideshow": {
     "slide_type": "slide"
    }
   },
   "outputs": [],
   "source": [
    "plot = year_counts['prop-M'].plot(kind='bar', title='Percentage of authors with male first-name gender signals in each year', figsize=(15,6))\n",
    "print(plot)"
   ]
  },
  {
   "cell_type": "markdown",
   "id": "17e905f0",
   "metadata": {
    "slideshow": {
     "slide_type": "slide"
    }
   },
   "source": [
    "We can plot the values of multiple categories side-by-side. Let's compare the percentage of `M` and `F` categories for each year."
   ]
  },
  {
   "cell_type": "code",
   "execution_count": null,
   "id": "813809fb",
   "metadata": {},
   "outputs": [],
   "source": [
    "plot = year_counts[['prop-F', 'prop-M']].plot(kind='bar', title='Percentage of authors with female vs. male first-name gender signals in each year', figsize=(20,8))\n",
    "#print(year_counts.columns)"
   ]
  },
  {
   "cell_type": "markdown",
   "id": "24ec9907",
   "metadata": {
    "slideshow": {
     "slide_type": "slide"
    }
   },
   "source": [
    "Here's some code that visualizes this same data as pretty line plots."
   ]
  },
  {
   "cell_type": "code",
   "execution_count": null,
   "id": "a2084969",
   "metadata": {},
   "outputs": [],
   "source": [
    "plot = year_counts[['prop-F', 'prop-M']].plot(figsize=(22,8), style='--', marker='x', title='Percentage of authors in NYT Hardcover Fiction Best Seller List \\n with female vs. male first-name gender signals')\n",
    "plot.set_xticks(year_counts.index);\n",
    "plot.set_xticklabels(year_counts.index, rotation=90)\n",
    "print(plot)"
   ]
  },
  {
   "cell_type": "markdown",
   "id": "4e664f44",
   "metadata": {
    "slideshow": {
     "slide_type": "slide"
    }
   },
   "source": [
    "# Digging into Our Data\n",
    "\n",
    "Let's use some techniques we've already learned to investigate some potentially significant areas of our dataset that our analysis is revealing..."
   ]
  },
  {
   "cell_type": "code",
   "execution_count": null,
   "id": "a6b2aef5",
   "metadata": {
    "scrolled": true
   },
   "outputs": [],
   "source": [
    "year_counts['prop-F'].describe()"
   ]
  },
  {
   "cell_type": "code",
   "execution_count": null,
   "id": "418cdd86",
   "metadata": {},
   "outputs": [],
   "source": [
    "nytg_df[(nytg_df['year']==1942)]['author'].value_counts()"
   ]
  },
  {
   "cell_type": "code",
   "execution_count": null,
   "id": "23b16f62",
   "metadata": {
    "scrolled": true,
    "slideshow": {
     "slide_type": "slide"
    }
   },
   "outputs": [],
   "source": [
    "year_counts['prop-M'].describe()"
   ]
  },
  {
   "cell_type": "code",
   "execution_count": null,
   "id": "33027aeb",
   "metadata": {
    "slideshow": {
     "slide_type": "slide"
    }
   },
   "outputs": [],
   "source": [
    "nytg_df[nytg_df['year']==1975]['author'].value_counts()"
   ]
  }
 ],
 "metadata": {
  "celltoolbar": "Slideshow",
  "colab": {
   "name": "Week 8.ipynb",
   "provenance": []
  },
  "kernelspec": {
   "display_name": "Python 3 (ipykernel)",
   "language": "python",
   "name": "python3"
  },
  "language_info": {
   "codemirror_mode": {
    "name": "ipython",
    "version": 3
   },
   "file_extension": ".py",
   "mimetype": "text/x-python",
   "name": "python",
   "nbconvert_exporter": "python",
   "pygments_lexer": "ipython3",
   "version": "3.12.11"
  }
 },
 "nbformat": 4,
 "nbformat_minor": 5
}
