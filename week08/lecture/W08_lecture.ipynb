{
 "cells": [
  {
   "cell_type": "markdown",
   "id": "4a4c67df",
   "metadata": {
    "id": "7a7614d2",
    "slideshow": {
     "slide_type": "slide"
    }
   },
   "source": [
    "# Week 8: Analyzing Gender Signals in the NYT Best Seller List\n",
    "\n",
    "Today we will focus on aggregating data using `.groupby()` and `.sum()`\n",
    "\n",
    "Along the way, we will need a few other Pandas methods to help organize the data."
   ]
  },
  {
   "cell_type": "markdown",
   "id": "066dd707",
   "metadata": {
    "id": "430a1ff8",
    "slideshow": {
     "slide_type": "slide"
    }
   },
   "source": [
    "## Gender Signal\n",
    "We will use the Gender By Name dataset to automate assigning a gender to names in our NYT Best Seller Data\n",
    "We use the first word in the `author` column to approximate a `gender_signal` which can take one of five values:\n",
    "- `F` **Female**: first names given to children of female sex in the Gender By Name dataset 90% or more of the time\n",
    "- `M` **Male**: first names given to children of male sex in the Gender By Name dataset 90% or more of the time\n",
    "- `A` **Ambiguous**: first names that do not meet either of the 90% thresholds listed above\n",
    "- `U` **Unknown**: first names that do not appear in the Gender By Name dataset\n",
    "- `I` **Initials**: authors whose gender is masked by names given only as initials"
   ]
  },
  {
   "cell_type": "code",
   "execution_count": 1,
   "id": "11339bcf",
   "metadata": {
    "scrolled": true,
    "slideshow": {
     "slide_type": "slide"
    }
   },
   "outputs": [
    {
     "data": {
      "text/html": [
       "<div>\n",
       "<style scoped>\n",
       "    .dataframe tbody tr th:only-of-type {\n",
       "        vertical-align: middle;\n",
       "    }\n",
       "\n",
       "    .dataframe tbody tr th {\n",
       "        vertical-align: top;\n",
       "    }\n",
       "\n",
       "    .dataframe thead th {\n",
       "        text-align: right;\n",
       "    }\n",
       "</style>\n",
       "<table border=\"1\" class=\"dataframe\">\n",
       "  <thead>\n",
       "    <tr style=\"text-align: right;\">\n",
       "      <th></th>\n",
       "      <th>year</th>\n",
       "      <th>week</th>\n",
       "      <th>rank</th>\n",
       "      <th>title_id</th>\n",
       "      <th>title</th>\n",
       "      <th>author</th>\n",
       "      <th>first_name</th>\n",
       "      <th>gender_signal</th>\n",
       "    </tr>\n",
       "  </thead>\n",
       "  <tbody>\n",
       "    <tr>\n",
       "      <th>0</th>\n",
       "      <td>1931</td>\n",
       "      <td>1931-10-12</td>\n",
       "      <td>1</td>\n",
       "      <td>6477</td>\n",
       "      <td>The Ten Commandments</td>\n",
       "      <td>Warwick Deeping</td>\n",
       "      <td>Warwick</td>\n",
       "      <td>M</td>\n",
       "    </tr>\n",
       "    <tr>\n",
       "      <th>1</th>\n",
       "      <td>1931</td>\n",
       "      <td>1931-10-12</td>\n",
       "      <td>2</td>\n",
       "      <td>1808</td>\n",
       "      <td>Finche'S Fortune</td>\n",
       "      <td>Mazo de la Roche</td>\n",
       "      <td>Mazo</td>\n",
       "      <td>U</td>\n",
       "    </tr>\n",
       "    <tr>\n",
       "      <th>2</th>\n",
       "      <td>1931</td>\n",
       "      <td>1931-10-12</td>\n",
       "      <td>3</td>\n",
       "      <td>5304</td>\n",
       "      <td>The Good Earth</td>\n",
       "      <td>Pearl S. Buck</td>\n",
       "      <td>Pearl</td>\n",
       "      <td>F</td>\n",
       "    </tr>\n",
       "    <tr>\n",
       "      <th>3</th>\n",
       "      <td>1931</td>\n",
       "      <td>1931-10-12</td>\n",
       "      <td>4</td>\n",
       "      <td>4038</td>\n",
       "      <td>Shadows On The Rock</td>\n",
       "      <td>Willa Cather</td>\n",
       "      <td>Willa</td>\n",
       "      <td>F</td>\n",
       "    </tr>\n",
       "    <tr>\n",
       "      <th>4</th>\n",
       "      <td>1931</td>\n",
       "      <td>1931-10-12</td>\n",
       "      <td>5</td>\n",
       "      <td>3946</td>\n",
       "      <td>Scarmouche The King Maker</td>\n",
       "      <td>Rafael Sabatini</td>\n",
       "      <td>Rafael</td>\n",
       "      <td>M</td>\n",
       "    </tr>\n",
       "    <tr>\n",
       "      <th>...</th>\n",
       "      <td>...</td>\n",
       "      <td>...</td>\n",
       "      <td>...</td>\n",
       "      <td>...</td>\n",
       "      <td>...</td>\n",
       "      <td>...</td>\n",
       "      <td>...</td>\n",
       "      <td>...</td>\n",
       "    </tr>\n",
       "    <tr>\n",
       "      <th>60381</th>\n",
       "      <td>2020</td>\n",
       "      <td>2020-12-06</td>\n",
       "      <td>11</td>\n",
       "      <td>2332</td>\n",
       "      <td>I Would Leave Me If I Could</td>\n",
       "      <td>Halsey</td>\n",
       "      <td>Halsey</td>\n",
       "      <td>A</td>\n",
       "    </tr>\n",
       "    <tr>\n",
       "      <th>60382</th>\n",
       "      <td>2020</td>\n",
       "      <td>2020-12-06</td>\n",
       "      <td>12</td>\n",
       "      <td>6601</td>\n",
       "      <td>The Vanishing Half</td>\n",
       "      <td>Brit Bennett</td>\n",
       "      <td>Brit</td>\n",
       "      <td>A</td>\n",
       "    </tr>\n",
       "    <tr>\n",
       "      <th>60383</th>\n",
       "      <td>2020</td>\n",
       "      <td>2020-12-06</td>\n",
       "      <td>13</td>\n",
       "      <td>7239</td>\n",
       "      <td>Where The Crawdads Sing</td>\n",
       "      <td>Delia Owens</td>\n",
       "      <td>Delia</td>\n",
       "      <td>F</td>\n",
       "    </tr>\n",
       "    <tr>\n",
       "      <th>60384</th>\n",
       "      <td>2020</td>\n",
       "      <td>2020-12-06</td>\n",
       "      <td>14</td>\n",
       "      <td>482</td>\n",
       "      <td>Anxious People</td>\n",
       "      <td>Fredrik Backman</td>\n",
       "      <td>Fredrik</td>\n",
       "      <td>M</td>\n",
       "    </tr>\n",
       "    <tr>\n",
       "      <th>60385</th>\n",
       "      <td>2020</td>\n",
       "      <td>2020-12-06</td>\n",
       "      <td>15</td>\n",
       "      <td>2902</td>\n",
       "      <td>Marauder</td>\n",
       "      <td>Clive Cussler and Boyd Morrison</td>\n",
       "      <td>Clive</td>\n",
       "      <td>M</td>\n",
       "    </tr>\n",
       "  </tbody>\n",
       "</table>\n",
       "<p>60386 rows × 8 columns</p>\n",
       "</div>"
      ],
      "text/plain": [
       "       year        week  rank  title_id                        title  \\\n",
       "0      1931  1931-10-12     1      6477         The Ten Commandments   \n",
       "1      1931  1931-10-12     2      1808             Finche'S Fortune   \n",
       "2      1931  1931-10-12     3      5304               The Good Earth   \n",
       "3      1931  1931-10-12     4      4038          Shadows On The Rock   \n",
       "4      1931  1931-10-12     5      3946    Scarmouche The King Maker   \n",
       "...     ...         ...   ...       ...                          ...   \n",
       "60381  2020  2020-12-06    11      2332  I Would Leave Me If I Could   \n",
       "60382  2020  2020-12-06    12      6601           The Vanishing Half   \n",
       "60383  2020  2020-12-06    13      7239      Where The Crawdads Sing   \n",
       "60384  2020  2020-12-06    14       482               Anxious People   \n",
       "60385  2020  2020-12-06    15      2902                     Marauder   \n",
       "\n",
       "                                author first_name gender_signal  \n",
       "0                      Warwick Deeping    Warwick             M  \n",
       "1                     Mazo de la Roche       Mazo             U  \n",
       "2                        Pearl S. Buck      Pearl             F  \n",
       "3                         Willa Cather      Willa             F  \n",
       "4                      Rafael Sabatini     Rafael             M  \n",
       "...                                ...        ...           ...  \n",
       "60381                           Halsey     Halsey             A  \n",
       "60382                     Brit Bennett       Brit             A  \n",
       "60383                      Delia Owens      Delia             F  \n",
       "60384                  Fredrik Backman    Fredrik             M  \n",
       "60385  Clive Cussler and Boyd Morrison      Clive             M  \n",
       "\n",
       "[60386 rows x 8 columns]"
      ]
     },
     "execution_count": 1,
     "metadata": {},
     "output_type": "execute_result"
    }
   ],
   "source": [
    "import pandas as pd\n",
    "\n",
    "nytg_df = pd.read_csv('nyt_full_gender_signal.tsv', sep=\"\\t\")\n",
    "nytg_df"
   ]
  },
  {
   "cell_type": "markdown",
   "id": "4b8eac99",
   "metadata": {
    "slideshow": {
     "slide_type": "slide"
    }
   },
   "source": [
    "Now, using a technique introduced last class, let's get the value counts for each of these categories in the `gender_signal` column."
   ]
  },
  {
   "cell_type": "code",
   "execution_count": 2,
   "id": "75868ac8",
   "metadata": {
    "scrolled": false
   },
   "outputs": [
    {
     "data": {
      "text/plain": [
       "gender_signal\n",
       "M    35656\n",
       "F    18134\n",
       "A     3109\n",
       "I     2461\n",
       "U     1026\n",
       "Name: count, dtype: int64"
      ]
     },
     "execution_count": 2,
     "metadata": {},
     "output_type": "execute_result"
    }
   ],
   "source": [
    "nytg_df['gender_signal'].value_counts()"
   ]
  },
  {
   "cell_type": "markdown",
   "id": "e1afa649",
   "metadata": {
    "slideshow": {
     "slide_type": "slide"
    }
   },
   "source": [
    "Again, using a technique introduced last class, let's produce a pie chart that demonstrates the relative proprtion of each gender signal category in the dataset."
   ]
  },
  {
   "cell_type": "code",
   "execution_count": null,
   "id": "08c9d86f",
   "metadata": {
    "scrolled": true
   },
   "outputs": [],
   "source": [
    "plot = nytg_df['gender_signal'].value_counts().plot(kind=\"pie\", figsize=(6, 6))\n",
    "print(plot)"
   ]
  },
  {
   "cell_type": "markdown",
   "id": "02614c19",
   "metadata": {
    "slideshow": {
     "slide_type": "slide"
    }
   },
   "source": [
    "Let's look at some of this data.  What names fall into the Ambiguous category.\n",
    "\n",
    "We use a filter (boolean Series) to extract the rows where `gender_signal` is `\"A\"`"
   ]
  },
  {
   "cell_type": "code",
   "execution_count": 3,
   "id": "9e46eb77",
   "metadata": {},
   "outputs": [
    {
     "data": {
      "text/plain": [
       "pandas.core.series.Series"
      ]
     },
     "execution_count": 3,
     "metadata": {},
     "output_type": "execute_result"
    }
   ],
   "source": [
    "gender_filter = nytg_df['gender_signal']=='A'\n",
    "type(gender_filter)"
   ]
  },
  {
   "cell_type": "code",
   "execution_count": 4,
   "id": "56189816",
   "metadata": {
    "scrolled": true
   },
   "outputs": [
    {
     "data": {
      "text/html": [
       "<div>\n",
       "<style scoped>\n",
       "    .dataframe tbody tr th:only-of-type {\n",
       "        vertical-align: middle;\n",
       "    }\n",
       "\n",
       "    .dataframe tbody tr th {\n",
       "        vertical-align: top;\n",
       "    }\n",
       "\n",
       "    .dataframe thead th {\n",
       "        text-align: right;\n",
       "    }\n",
       "</style>\n",
       "<table border=\"1\" class=\"dataframe\">\n",
       "  <thead>\n",
       "    <tr style=\"text-align: right;\">\n",
       "      <th></th>\n",
       "      <th>year</th>\n",
       "      <th>week</th>\n",
       "      <th>rank</th>\n",
       "      <th>title_id</th>\n",
       "      <th>title</th>\n",
       "      <th>author</th>\n",
       "      <th>first_name</th>\n",
       "      <th>gender_signal</th>\n",
       "    </tr>\n",
       "  </thead>\n",
       "  <tbody>\n",
       "    <tr>\n",
       "      <th>8</th>\n",
       "      <td>1931</td>\n",
       "      <td>1931-11-16</td>\n",
       "      <td>4</td>\n",
       "      <td>859</td>\n",
       "      <td>Broome Stages</td>\n",
       "      <td>Clemence Dane</td>\n",
       "      <td>Clemence</td>\n",
       "      <td>A</td>\n",
       "    </tr>\n",
       "    <tr>\n",
       "      <th>18</th>\n",
       "      <td>1931</td>\n",
       "      <td>1931-12-14</td>\n",
       "      <td>3</td>\n",
       "      <td>2886</td>\n",
       "      <td>Malaysia</td>\n",
       "      <td>Henri Fauconnier</td>\n",
       "      <td>Henri</td>\n",
       "      <td>A</td>\n",
       "    </tr>\n",
       "    <tr>\n",
       "      <th>20</th>\n",
       "      <td>1931</td>\n",
       "      <td>1931-12-21</td>\n",
       "      <td>2</td>\n",
       "      <td>859</td>\n",
       "      <td>Broome Stages</td>\n",
       "      <td>Clemence Dane</td>\n",
       "      <td>Clemence</td>\n",
       "      <td>A</td>\n",
       "    </tr>\n",
       "    <tr>\n",
       "      <th>24</th>\n",
       "      <td>1931</td>\n",
       "      <td>1931-12-28</td>\n",
       "      <td>3</td>\n",
       "      <td>859</td>\n",
       "      <td>Broome Stages</td>\n",
       "      <td>Clemence Dane</td>\n",
       "      <td>Clemence</td>\n",
       "      <td>A</td>\n",
       "    </tr>\n",
       "    <tr>\n",
       "      <th>27</th>\n",
       "      <td>1932</td>\n",
       "      <td>1932-01-04</td>\n",
       "      <td>3</td>\n",
       "      <td>860</td>\n",
       "      <td>Broome Stages</td>\n",
       "      <td>Clemence Dane</td>\n",
       "      <td>Clemence</td>\n",
       "      <td>A</td>\n",
       "    </tr>\n",
       "    <tr>\n",
       "      <th>...</th>\n",
       "      <td>...</td>\n",
       "      <td>...</td>\n",
       "      <td>...</td>\n",
       "      <td>...</td>\n",
       "      <td>...</td>\n",
       "      <td>...</td>\n",
       "      <td>...</td>\n",
       "      <td>...</td>\n",
       "    </tr>\n",
       "    <tr>\n",
       "      <th>60360</th>\n",
       "      <td>2020</td>\n",
       "      <td>2020-11-29</td>\n",
       "      <td>5</td>\n",
       "      <td>6252</td>\n",
       "      <td>The Sentinel</td>\n",
       "      <td>Lee Child and Andrew Child</td>\n",
       "      <td>Lee</td>\n",
       "      <td>A</td>\n",
       "    </tr>\n",
       "    <tr>\n",
       "      <th>60366</th>\n",
       "      <td>2020</td>\n",
       "      <td>2020-11-29</td>\n",
       "      <td>11</td>\n",
       "      <td>6601</td>\n",
       "      <td>The Vanishing Half</td>\n",
       "      <td>Brit Bennett</td>\n",
       "      <td>Brit</td>\n",
       "      <td>A</td>\n",
       "    </tr>\n",
       "    <tr>\n",
       "      <th>60377</th>\n",
       "      <td>2020</td>\n",
       "      <td>2020-12-06</td>\n",
       "      <td>7</td>\n",
       "      <td>6252</td>\n",
       "      <td>The Sentinel</td>\n",
       "      <td>Lee Child and Andrew Child</td>\n",
       "      <td>Lee</td>\n",
       "      <td>A</td>\n",
       "    </tr>\n",
       "    <tr>\n",
       "      <th>60381</th>\n",
       "      <td>2020</td>\n",
       "      <td>2020-12-06</td>\n",
       "      <td>11</td>\n",
       "      <td>2332</td>\n",
       "      <td>I Would Leave Me If I Could</td>\n",
       "      <td>Halsey</td>\n",
       "      <td>Halsey</td>\n",
       "      <td>A</td>\n",
       "    </tr>\n",
       "    <tr>\n",
       "      <th>60382</th>\n",
       "      <td>2020</td>\n",
       "      <td>2020-12-06</td>\n",
       "      <td>12</td>\n",
       "      <td>6601</td>\n",
       "      <td>The Vanishing Half</td>\n",
       "      <td>Brit Bennett</td>\n",
       "      <td>Brit</td>\n",
       "      <td>A</td>\n",
       "    </tr>\n",
       "  </tbody>\n",
       "</table>\n",
       "<p>3109 rows × 8 columns</p>\n",
       "</div>"
      ],
      "text/plain": [
       "       year        week  rank  title_id                        title  \\\n",
       "8      1931  1931-11-16     4       859                Broome Stages   \n",
       "18     1931  1931-12-14     3      2886                     Malaysia   \n",
       "20     1931  1931-12-21     2       859                Broome Stages   \n",
       "24     1931  1931-12-28     3       859                Broome Stages   \n",
       "27     1932  1932-01-04     3       860                Broome Stages   \n",
       "...     ...         ...   ...       ...                          ...   \n",
       "60360  2020  2020-11-29     5      6252                 The Sentinel   \n",
       "60366  2020  2020-11-29    11      6601           The Vanishing Half   \n",
       "60377  2020  2020-12-06     7      6252                 The Sentinel   \n",
       "60381  2020  2020-12-06    11      2332  I Would Leave Me If I Could   \n",
       "60382  2020  2020-12-06    12      6601           The Vanishing Half   \n",
       "\n",
       "                           author first_name gender_signal  \n",
       "8                   Clemence Dane   Clemence             A  \n",
       "18               Henri Fauconnier      Henri             A  \n",
       "20                  Clemence Dane   Clemence             A  \n",
       "24                  Clemence Dane   Clemence             A  \n",
       "27                  Clemence Dane   Clemence             A  \n",
       "...                           ...        ...           ...  \n",
       "60360  Lee Child and Andrew Child        Lee             A  \n",
       "60366                Brit Bennett       Brit             A  \n",
       "60377  Lee Child and Andrew Child        Lee             A  \n",
       "60381                      Halsey     Halsey             A  \n",
       "60382                Brit Bennett       Brit             A  \n",
       "\n",
       "[3109 rows x 8 columns]"
      ]
     },
     "execution_count": 4,
     "metadata": {},
     "output_type": "execute_result"
    }
   ],
   "source": [
    "nytg_df[gender_filter]"
   ]
  },
  {
   "cell_type": "markdown",
   "id": "4b16f0fb",
   "metadata": {
    "slideshow": {
     "slide_type": "slide"
    }
   },
   "source": [
    "Note that the above line of code is equivalent to the below (as discussed in last week's lecture notebook). We just think the above is a bit more legible."
   ]
  },
  {
   "cell_type": "code",
   "execution_count": null,
   "id": "d13827cc",
   "metadata": {},
   "outputs": [],
   "source": [
    "nytg_df[nytg_df['gender_signal']=='A']"
   ]
  },
  {
   "cell_type": "markdown",
   "id": "6d95e449",
   "metadata": {},
   "source": [
    "Now let's select only the `\"first_name\"` column, and call the `.unique()` method to see all the unique names that our method has identified as `\"A\"`"
   ]
  },
  {
   "cell_type": "code",
   "execution_count": null,
   "id": "584ef581",
   "metadata": {
    "scrolled": false
   },
   "outputs": [
    {
     "data": {
      "text/plain": [
       "array(['Clemence', 'Henri', 'Temple', 'Sinclair', 'Jules', 'Jolan',\n",
       "       'Taylor', 'Lin', 'Jan', 'Bellamy', 'Pat', 'Odell', 'Merle',\n",
       "       'Hollister', 'Mika', 'Aubrey', 'Tennessee', 'Lael', 'Mickey',\n",
       "       'Storm', 'Oakley', 'Sloan', 'Santha', 'Honor', 'Han', 'Robin',\n",
       "       'Noel', 'Alexis', 'Yael', 'Jere', 'Gwyn', 'Terry', 'Elia', 'Jerzy',\n",
       "       'Sidney', 'Leslie', 'Dee', 'Avery', 'Kit', 'Jackie', 'Marion',\n",
       "       'Milan', 'Chris', 'Beryl', 'Carmen', 'Marlo', 'Jewel', 'Bailey',\n",
       "       'Jamie', 'Tracy', 'Nevada', 'Ridley', 'Michel', 'Lee', 'Edwidge',\n",
       "       'Kim', 'Kelley', 'Kendall', 'Dana', 'Jen', 'Amor', 'Jojo', 'Edan',\n",
       "       'Brit', 'Greer', 'Tayari', 'Riley', 'Ocean', 'Chandler', 'Leigh',\n",
       "       'Halsey'], dtype=object)"
      ]
     },
     "execution_count": 6,
     "metadata": {},
     "output_type": "execute_result"
    }
   ],
   "source": [
    "# get the data frame with only \"A\" gender_signals\n",
    "\n",
    "# selet the first_names column\n",
    "\n",
    "# call .unique() on the first names column to get a list of the unique names\n",
    "\n"
   ]
  },
  {
   "cell_type": "markdown",
   "id": "a65eb31e",
   "metadata": {},
   "source": [
    "And now let's repeat that for the `\"U\"`, `\"I\"` — and much larger `\"F\"` and `\"M\"` — categories. How well is our gender system doing? What are its blind spots? How could it be improved?"
   ]
  },
  {
   "cell_type": "code",
   "execution_count": null,
   "id": "4794fa9a",
   "metadata": {},
   "outputs": [],
   "source": [
    "gender_filter = nytg_df['gender_signal']=='I'\n",
    "sorted(nytg_df[gender_filter]['first_name'].unique())"
   ]
  },
  {
   "cell_type": "code",
   "execution_count": null,
   "id": "20d3a855",
   "metadata": {},
   "outputs": [],
   "source": [
    "gender_filter = nytg_df['gender_signal']=='U'\n",
    "nytg_df[gender_filter]['first_name'].unique()"
   ]
  },
  {
   "cell_type": "code",
   "execution_count": null,
   "id": "7ef9bfce",
   "metadata": {},
   "outputs": [],
   "source": [
    "gender_filter = nytg_df['gender_signal']=='F'\n",
    "nytg_df[gender_filter]['first_name'].unique()"
   ]
  },
  {
   "cell_type": "code",
   "execution_count": null,
   "id": "c2838162",
   "metadata": {},
   "outputs": [],
   "source": [
    "nytg_df[nytg_df['first_name'] == 'Ngaio']"
   ]
  },
  {
   "cell_type": "code",
   "execution_count": null,
   "id": "bb34779c",
   "metadata": {},
   "outputs": [],
   "source": [
    "gender_filter = nytg_df['gender_signal']=='M'\n",
    "nytg_df[gender_filter]['first_name'].unique()"
   ]
  },
  {
   "cell_type": "code",
   "execution_count": null,
   "id": "c3a37dc5",
   "metadata": {},
   "outputs": [],
   "source": [
    "nytg_df[nytg_df['first_name'] == 'Dr.']"
   ]
  },
  {
   "cell_type": "markdown",
   "id": "3b35d727",
   "metadata": {
    "slideshow": {
     "slide_type": "slide"
    }
   },
   "source": [
    "# Getting the Gender Signal Data into a Useful Form\n",
    "\n",
    "Let's suppose we've decided our gender signal information is sufficient to proceed with our analysis. The immediate challenge, then, is to get the data into a useful form.\n",
    "\n",
    "We're interested in knowing how many authors of each gender signal category appears for every year of the dataset.\n",
    "\n",
    "What data type do want to get our data into? What colums and rows do we want to see, and how do we want them organized? What will the actual values look like?"
   ]
  },
  {
   "cell_type": "markdown",
   "id": "77154280",
   "metadata": {
    "slideshow": {
     "slide_type": "slide"
    }
   },
   "source": [
    "## `.groupby()`\n",
    "\n",
    "Let's start our journey with the `.groupby()` method, which allows us to group the data by particular columns and perform calculations on it. For instance, let's try grouping out `nytg_df` DataFrame by the `gender_signal` column."
   ]
  },
  {
   "cell_type": "code",
   "execution_count": null,
   "id": "fc7bb088",
   "metadata": {},
   "outputs": [],
   "source": [
    "nytg_df.groupby(\"gender_signal\")"
   ]
  },
  {
   "cell_type": "markdown",
   "id": "4a8d8d47",
   "metadata": {},
   "source": [
    "The above command produces a \"GroupBy\" object."
   ]
  },
  {
   "cell_type": "code",
   "execution_count": null,
   "id": "2ab16244",
   "metadata": {},
   "outputs": [],
   "source": [
    "type(nytg_df.groupby(\"gender_signal\"))"
   ]
  },
  {
   "cell_type": "markdown",
   "id": "8f4e5779",
   "metadata": {},
   "source": [
    "We can perform a few methods on these GroupBy objects. Let's start with `.count()`"
   ]
  },
  {
   "cell_type": "code",
   "execution_count": null,
   "id": "3f0d6015",
   "metadata": {},
   "outputs": [],
   "source": [
    "nytg_df.groupby(\"gender_signal\").count()"
   ]
  },
  {
   "cell_type": "markdown",
   "id": "c7834edd",
   "metadata": {},
   "source": [
    "As you can see, this rearranges our DataFrame so that each possible category in the `\"gender_signal\"` column now appears as a row, with all the other columns *except* `gender_signal` now appearing along the top. Within the DataFrame, we get counts of many rows containing those particular values for `gender_signal` also have values (of whatever) kind for the other columns — which is not particularly useful information for us, alas, since all the numbers are the same along each row.\n",
    "\n",
    "We can use the `.size()` method to simplify the output of `.count()`: this gives us the maximum value along that row (which, in this case, is identical for all our columns, because our dataset doesn't have any missing values)."
   ]
  },
  {
   "cell_type": "code",
   "execution_count": null,
   "id": "398d1beb",
   "metadata": {},
   "outputs": [],
   "source": [
    "nytg_df.groupby(\"gender_signal\").size()"
   ]
  },
  {
   "cell_type": "markdown",
   "id": "d9ef5207",
   "metadata": {},
   "source": [
    "If we use `.count()` on the `\"year\"` column, what do we get?"
   ]
  },
  {
   "cell_type": "code",
   "execution_count": null,
   "id": "823e7b4e",
   "metadata": {
    "scrolled": true
   },
   "outputs": [],
   "source": [
    "nytg_df.groupby(\"year\").count()"
   ]
  },
  {
   "cell_type": "code",
   "execution_count": null,
   "id": "d0442fac",
   "metadata": {
    "scrolled": true
   },
   "outputs": [],
   "source": [
    "nytg_df.groupby([\"year\", \"gender_signal\"]).count()"
   ]
  },
  {
   "cell_type": "markdown",
   "id": "3603f4e7",
   "metadata": {},
   "source": [
    "We're getting closer! Let's again use `.size()` to simplify this and output it as a Series rather than a DataFrame"
   ]
  },
  {
   "cell_type": "code",
   "execution_count": null,
   "id": "9679004b",
   "metadata": {},
   "outputs": [],
   "source": [
    "nytg_df.groupby(['year', 'gender_signal']).size()"
   ]
  },
  {
   "cell_type": "markdown",
   "id": "bf0a5a92",
   "metadata": {},
   "source": [
    "The only issue here is that the gender signal categories are \"embedded within\" each year — when what we need is just a DataFrame where the years are rows and the columns are the gender categories. \n",
    "\n",
    "In Pandas-speak, the gender signal values are \"stacked\" within the year — and we need to `.unstack()` them!"
   ]
  },
  {
   "cell_type": "code",
   "execution_count": null,
   "id": "b90a5c58",
   "metadata": {},
   "outputs": [],
   "source": [
    "nytg_df.groupby(['year', 'gender_signal']).size().unstack()"
   ]
  },
  {
   "cell_type": "markdown",
   "id": "f717f4ea",
   "metadata": {},
   "source": [
    "This is *almost* excactly what we need. There is only one problem now: not all years have values for all categories, which will confuse our efforts to work with the data in the next stages. For instance, 2016 has `NaN` for `U` — \"Not a Number,\" indicating missing data. \n",
    "\n",
    "Thankfully our friend `.unstack()` will take an argument that tells it what to do with any `NaN` situations. In this case, we want it to replace all those with `0`."
   ]
  },
  {
   "cell_type": "code",
   "execution_count": null,
   "id": "0b48bcf7",
   "metadata": {
    "scrolled": true
   },
   "outputs": [],
   "source": [
    "nytg_df.groupby(['year', 'gender_signal']).size().unstack(fill_value=0)"
   ]
  },
  {
   "cell_type": "markdown",
   "id": "72fe7058",
   "metadata": {},
   "source": [
    "Hooray! That's what we need! Let's stick it in a variable.\n",
    "\n",
    "This is one of those patterns that you want to store away for later use.  "
   ]
  },
  {
   "cell_type": "code",
   "execution_count": null,
   "id": "d21d219e",
   "metadata": {},
   "outputs": [],
   "source": [
    "year_counts = nytg_df.groupby(['year', 'gender_signal']).size().unstack(fill_value=0)"
   ]
  },
  {
   "cell_type": "code",
   "execution_count": null,
   "id": "d83fb029",
   "metadata": {},
   "outputs": [],
   "source": [
    "year_counts"
   ]
  },
  {
   "cell_type": "markdown",
   "id": "97f57b18",
   "metadata": {},
   "source": [
    "# Calculate Proportion of Each Category for Each Year\n",
    "\n",
    "Well, it's *almost* everything. The thing we want to calculate in the next step is the **proportion** (or \"percentages\") of each gender signal category for each year. We don't want to rely on **absolute counts** (just the bare numbers in the columns) because *there are different numbers of entries for each year*, due to the always-changing number of entries on the list, the shift from monthly to weekly lists, etc. \n",
    "\n",
    "To calculate **proportions**, we will divide the count for each category by the total number of values for that year. So first let's calculate the total number of entries we have for each year.\n",
    "\n",
    "You can think of this as a *sum* of all values across an individual row in our `year_counts` DataFrame. \n",
    "\n",
    "## `.sum()`\n",
    "\n",
    "\n",
    "And indeed, the Pandas method we need to calculate the sum of the values in a row is... `.sum()`!\n",
    "\n",
    "By default, it gives you the sum of *columns* (a \"vertical\" sum)."
   ]
  },
  {
   "cell_type": "code",
   "execution_count": null,
   "id": "f2913316",
   "metadata": {
    "scrolled": true
   },
   "outputs": [],
   "source": [
    "year_counts.sum()"
   ]
  },
  {
   "cell_type": "markdown",
   "id": "a2d5c0ce",
   "metadata": {},
   "source": [
    "We can specify that we want the sum of the values in a *row* (a \"horizontal\" sum) by setting the `axis` to `1`.\n",
    "\n",
    "(Yes, this is a weird detail, but it comes from the fact that these operations have a default direction, and the default for sum is to sum up a column, so we need away to tell it to use a different direction.  The designers chose the word axis to label the change in direction.)"
   ]
  },
  {
   "cell_type": "code",
   "execution_count": null,
   "id": "4add5b2b",
   "metadata": {
    "scrolled": true
   },
   "outputs": [],
   "source": [
    "year_counts.sum(axis=1)"
   ]
  },
  {
   "cell_type": "markdown",
   "id": "40fa35d3",
   "metadata": {},
   "source": [
    "## Adding a Column to a DataFrame and Filling It with Values\n",
    "\n",
    "Let's add a new column to our `year_counts` DataFrame that contains these sums. \n",
    "\n",
    "The syntax below does the job:\n",
    "- `year_counts['total']` creates a new column and calls it `\"total\"`\n",
    "- `year_counts.sum(axis=1)` stuffs that new column with the values created above"
   ]
  },
  {
   "cell_type": "code",
   "execution_count": null,
   "id": "dbaa278b",
   "metadata": {},
   "outputs": [],
   "source": [
    "year_counts['total'] = year_counts.sum(axis=1)"
   ]
  },
  {
   "cell_type": "code",
   "execution_count": null,
   "id": "d92beccb",
   "metadata": {
    "scrolled": true
   },
   "outputs": [],
   "source": [
    "year_counts"
   ]
  },
  {
   "cell_type": "markdown",
   "id": "ade7efdc",
   "metadata": {},
   "source": [
    "## Calculating Proportions and Adding Them to a New Row\n",
    "\n",
    "Now let's calculate the proportions we discussed above. \n",
    "\n",
    "Once again, we'll create a new column and stuff it full of new values. Here we will calculate the percentage of `F` labels in every year: number of `F` counts divided by the total number of counts that year, multiplied by 100. Pandas knows we want to perform this calculation for every single row."
   ]
  },
  {
   "cell_type": "code",
   "execution_count": null,
   "id": "73ec125f",
   "metadata": {},
   "outputs": [],
   "source": [
    "year_counts['prop-F'] = (year_counts['F']/year_counts['total']) * 100"
   ]
  },
  {
   "cell_type": "code",
   "execution_count": null,
   "id": "21bdb2d9",
   "metadata": {
    "scrolled": true
   },
   "outputs": [],
   "source": [
    "year_counts"
   ]
  },
  {
   "cell_type": "markdown",
   "id": "12d52e0b",
   "metadata": {},
   "source": [
    "Guess what — by plotting the values of our new column `prop-F` (using techniques introduced in last week's class) we can now produce a very useful plot. Let's analyze it together!"
   ]
  },
  {
   "cell_type": "code",
   "execution_count": null,
   "id": "850f235d",
   "metadata": {
    "scrolled": true
   },
   "outputs": [],
   "source": [
    "plot = year_counts['prop-F'].plot(kind='bar', title='Percentage of authors with female first-name gender signals in each year', figsize=(15,8))\n",
    "print(plot)"
   ]
  },
  {
   "cell_type": "markdown",
   "id": "135a490a",
   "metadata": {},
   "source": [
    "Let's now create proportional columns for all the other gender signal categories."
   ]
  },
  {
   "cell_type": "code",
   "execution_count": null,
   "id": "7d3be332",
   "metadata": {},
   "outputs": [],
   "source": [
    "year_counts['prop-A'] = (year_counts['A']/year_counts['total']) * 100\n",
    "year_counts['prop-M'] = (year_counts['M']/year_counts['total']) * 100\n",
    "year_counts['prop-U'] = (year_counts['U']/year_counts['total']) * 100\n",
    "year_counts['prop-I'] = (year_counts['I']/year_counts['total']) * 100"
   ]
  },
  {
   "cell_type": "code",
   "execution_count": null,
   "id": "0543f56e",
   "metadata": {},
   "outputs": [],
   "source": [
    "plot = year_counts['prop-M'].plot(kind='bar', title='Percentage of authors with male first-name gender signals in each year', figsize=(15,8))\n",
    "print(plot)"
   ]
  },
  {
   "cell_type": "code",
   "execution_count": null,
   "id": "38469fc1",
   "metadata": {
    "scrolled": false
   },
   "outputs": [],
   "source": [
    "plot = year_counts['prop-I'].plot(kind='bar', title='Percentage of authors with Initial names in each year', figsize=(15,8))\n",
    "print(plot)"
   ]
  },
  {
   "cell_type": "markdown",
   "id": "17e905f0",
   "metadata": {},
   "source": [
    "We can plot the values of multiple categories side-by-side. Let's compare the percentage of `M` and `F` categories for each year."
   ]
  },
  {
   "cell_type": "code",
   "execution_count": null,
   "id": "813809fb",
   "metadata": {},
   "outputs": [],
   "source": [
    "plot = year_counts[['prop-F', 'prop-M']].plot(kind='bar', title='Percentage of authors with female vs. male first-name gender signals in each year', figsize=(20,8))\n",
    "#print(year_counts.columns)"
   ]
  },
  {
   "cell_type": "markdown",
   "id": "24ec9907",
   "metadata": {},
   "source": [
    "Here's some code that visualizes this same data as pretty line plots."
   ]
  },
  {
   "cell_type": "code",
   "execution_count": null,
   "id": "a2084969",
   "metadata": {},
   "outputs": [],
   "source": [
    "plot = year_counts[['prop-F', 'prop-M']].plot(figsize=(22,8), style='--', marker='x', title='Percentage of authors in NYT Hardcover Fiction Best Seller List \\n with female vs. male first-name gender signals')\n",
    "plot.set_xticks(year_counts.index);\n",
    "plot.set_xticklabels(year_counts.index, rotation=90)\n",
    "print(plot)"
   ]
  },
  {
   "cell_type": "markdown",
   "id": "4e664f44",
   "metadata": {},
   "source": [
    "# Digging into Our Data\n",
    "\n",
    "Let's use some techniques we've already learned to investigate some potentially significant areas of our dataset that our analysis is revealing..."
   ]
  },
  {
   "cell_type": "code",
   "execution_count": null,
   "id": "a6b2aef5",
   "metadata": {
    "scrolled": true
   },
   "outputs": [],
   "source": [
    "year_counts['prop-F'].describe()"
   ]
  },
  {
   "cell_type": "code",
   "execution_count": null,
   "id": "418cdd86",
   "metadata": {},
   "outputs": [],
   "source": [
    "nytg_df[(nytg_df['year']==1942)]['author'].value_counts()"
   ]
  },
  {
   "cell_type": "code",
   "execution_count": null,
   "id": "23b16f62",
   "metadata": {
    "scrolled": true
   },
   "outputs": [],
   "source": [
    "year_counts['prop-M'].describe()"
   ]
  },
  {
   "cell_type": "code",
   "execution_count": null,
   "id": "33027aeb",
   "metadata": {},
   "outputs": [],
   "source": [
    "nytg_df[nytg_df['year']==1975]['author'].value_counts()"
   ]
  },
  {
   "cell_type": "code",
   "execution_count": null,
   "id": "8aab4cc9",
   "metadata": {},
   "outputs": [],
   "source": []
  }
 ],
 "metadata": {
  "colab": {
   "name": "Week 8.ipynb",
   "provenance": []
  },
  "kernelspec": {
   "display_name": "base",
   "language": "python",
   "name": "python3"
  },
  "language_info": {
   "codemirror_mode": {
    "name": "ipython",
    "version": 3
   },
   "file_extension": ".py",
   "mimetype": "text/x-python",
   "name": "python",
   "nbconvert_exporter": "python",
   "pygments_lexer": "ipython3",
   "version": "3.12.2"
  }
 },
 "nbformat": 4,
 "nbformat_minor": 5
}
